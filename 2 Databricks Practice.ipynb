{
 "cells": [
  {
   "cell_type": "code",
   "execution_count": 0,
   "metadata": {
    "application/vnd.databricks.v1+cell": {
     "cellMetadata": {
      "byteLimit": 2048000,
      "rowLimit": 10000
     },
     "inputWidgets": {},
     "nuid": "ac367c01-6baf-4468-9445-49898ac478a7",
     "showTitle": false,
     "title": ""
    },
    "jupyter": {
     "outputs_hidden": true
    }
   },
   "outputs": [],
   "source": [
    "df1 = spark.read.format(\"csv\").load(\"dbfs:/FileStore/Temp/departments.csv\")\n"
   ]
  },
  {
   "cell_type": "code",
   "execution_count": 0,
   "metadata": {
    "application/vnd.databricks.v1+cell": {
     "cellMetadata": {
      "byteLimit": 2048000,
      "rowLimit": 10000
     },
     "inputWidgets": {},
     "nuid": "37f07f6b-6fee-4bf2-8c83-9b51e2a2efb5",
     "showTitle": false,
     "title": ""
    }
   },
   "outputs": [],
   "source": [
    "from pyspark.sql.types import *"
   ]
  },
  {
   "cell_type": "code",
   "execution_count": 0,
   "metadata": {
    "application/vnd.databricks.v1+cell": {
     "cellMetadata": {
      "byteLimit": 2048000,
      "rowLimit": 10000
     },
     "inputWidgets": {},
     "nuid": "017457b0-259e-44c4-93ea-a6efec38c1fc",
     "showTitle": false,
     "title": ""
    }
   },
   "outputs": [],
   "source": [
    "schema = StructType([\\\n",
    "        StructField(\"first_name\", StringType(), True),\\\n",
    "        StructField(\"middle_name\",StringType(), True),\\\n",
    "        StructField(\"last_name\", StringType(), True),\\\n",
    "        StructField(\"id\", IntegerType(), True),\\\n",
    "        StructField(\"gender\", StringType(), True),\n",
    "])"
   ]
  },
  {
   "cell_type": "code",
   "execution_count": 0,
   "metadata": {
    "application/vnd.databricks.v1+cell": {
     "cellMetadata": {
      "byteLimit": 2048000,
      "rowLimit": 10000
     },
     "inputWidgets": {},
     "nuid": "dbb9c8ab-0927-4204-9da5-d30468f62e4d",
     "showTitle": false,
     "title": ""
    }
   },
   "outputs": [
    {
     "output_type": "stream",
     "name": "stdout",
     "output_type": "stream",
     "text": [
      "root\n |-- _c0: string (nullable = true)\n |-- _c1: string (nullable = true)\n |-- _c2: string (nullable = true)\n |-- _c3: string (nullable = true)\n\n"
     ]
    }
   ],
   "source": [
    "df1.printSchema()"
   ]
  },
  {
   "cell_type": "code",
   "execution_count": 0,
   "metadata": {
    "application/vnd.databricks.v1+cell": {
     "cellMetadata": {
      "byteLimit": 2048000,
      "rowLimit": 10000
     },
     "inputWidgets": {},
     "nuid": "e575e3e9-9067-4228-aa5c-11b597a31888",
     "showTitle": false,
     "title": ""
    }
   },
   "outputs": [],
   "source": [
    "df2 = spark.read.option(\"header\", True).option(\"inferSchema\", True).csv(\"dbfs:/FileStore/Temp/departments.csv\")"
   ]
  },
  {
   "cell_type": "code",
   "execution_count": 0,
   "metadata": {
    "application/vnd.databricks.v1+cell": {
     "cellMetadata": {
      "byteLimit": 2048000,
      "rowLimit": 10000
     },
     "inputWidgets": {},
     "nuid": "f37c9461-1f5a-4158-9f1f-e83134ec21c2",
     "showTitle": false,
     "title": ""
    }
   },
   "outputs": [
    {
     "output_type": "stream",
     "name": "stdout",
     "output_type": "stream",
     "text": [
      "root\n |-- DEPARTMENT_ID: integer (nullable = true)\n |-- DEPARTMENT_NAME: string (nullable = true)\n |-- MANAGER_ID: string (nullable = true)\n |-- LOCATION_ID: integer (nullable = true)\n\n"
     ]
    }
   ],
   "source": [
    "df2.printSchema()"
   ]
  },
  {
   "cell_type": "code",
   "execution_count": 0,
   "metadata": {
    "application/vnd.databricks.v1+cell": {
     "cellMetadata": {
      "byteLimit": 2048000,
      "rowLimit": 10000
     },
     "inputWidgets": {},
     "nuid": "d7d84243-620f-488d-b74e-4ebd7dcbd14e",
     "showTitle": false,
     "title": ""
    }
   },
   "outputs": [
    {
     "output_type": "stream",
     "name": "stdout",
     "output_type": "stream",
     "text": [
      "+-------------+--------------------+----------+-----------+\n|DEPARTMENT_ID|     DEPARTMENT_NAME|MANAGER_ID|LOCATION_ID|\n+-------------+--------------------+----------+-----------+\n|           10|      Administration|       200|       1700|\n|           20|           Marketing|       201|       1800|\n|           30|          Purchasing|       114|       1700|\n|           40|     Human Resources|       203|       2400|\n|           50|            Shipping|       121|       1500|\n|           60|                  IT|       103|       1400|\n|           70|    Public Relations|       204|       2700|\n|           80|               Sales|       145|       2500|\n|           90|           Executive|       100|       1700|\n|          100|             Finance|       108|       1700|\n|          110|          Accounting|       205|       1700|\n|          120|            Treasury|        - |       1700|\n|          130|       Corporate Tax|        - |       1700|\n|          140|  Control And Credit|        - |       1700|\n|          150|Shareholder Services|        - |       1700|\n|          160|            Benefits|        - |       1700|\n|          170|       Manufacturing|        - |       1700|\n|          180|        Construction|        - |       1700|\n|          190|         Contracting|        - |       1700|\n|          200|          Operations|        - |       1700|\n+-------------+--------------------+----------+-----------+\nonly showing top 20 rows\n\n"
     ]
    }
   ],
   "source": [
    "df2.show()"
   ]
  },
  {
   "cell_type": "code",
   "execution_count": 0,
   "metadata": {
    "application/vnd.databricks.v1+cell": {
     "cellMetadata": {
      "byteLimit": 2048000,
      "rowLimit": 10000
     },
     "inputWidgets": {},
     "nuid": "4e115d8b-cf1e-4c42-8ced-55275b410453",
     "showTitle": false,
     "title": ""
    }
   },
   "outputs": [],
   "source": [
    "empDF = spark.read.option(\"header\", True).option(\"inferSchema\", True).csv(\"dbfs:/FileStore/Temp/employees.csv\")"
   ]
  },
  {
   "cell_type": "code",
   "execution_count": 0,
   "metadata": {
    "application/vnd.databricks.v1+cell": {
     "cellMetadata": {
      "byteLimit": 2048000,
      "rowLimit": 10000
     },
     "inputWidgets": {},
     "nuid": "fd204e43-a2ca-4875-9dc7-dbce79158f93",
     "showTitle": false,
     "title": ""
    }
   },
   "outputs": [
    {
     "output_type": "stream",
     "name": "stdout",
     "output_type": "stream",
     "text": [
      "root\n |-- EMPLOYEE_ID: integer (nullable = true)\n |-- FIRST_NAME: string (nullable = true)\n |-- LAST_NAME: string (nullable = true)\n |-- EMAIL: string (nullable = true)\n |-- PHONE_NUMBER: string (nullable = true)\n |-- HIRE_DATE: string (nullable = true)\n |-- JOB_ID: string (nullable = true)\n |-- SALARY: integer (nullable = true)\n |-- COMMISSION_PCT: string (nullable = true)\n |-- MANAGER_ID: string (nullable = true)\n |-- DEPARTMENT_ID: integer (nullable = true)\n\n"
     ]
    }
   ],
   "source": [
    "empDF.printSchema()"
   ]
  },
  {
   "cell_type": "code",
   "execution_count": 0,
   "metadata": {
    "application/vnd.databricks.v1+cell": {
     "cellMetadata": {
      "byteLimit": 2048000,
      "rowLimit": 10000
     },
     "inputWidgets": {},
     "nuid": "69a2cabd-25a1-4949-9129-01b82d285f6f",
     "showTitle": false,
     "title": ""
    }
   },
   "outputs": [
    {
     "output_type": "stream",
     "name": "stdout",
     "output_type": "stream",
     "text": [
      "+-----------+----------+---------+--------+------------+---------+--------+------+--------------+----------+-------------+\n|EMPLOYEE_ID|FIRST_NAME|LAST_NAME|   EMAIL|PHONE_NUMBER|HIRE_DATE|  JOB_ID|SALARY|COMMISSION_PCT|MANAGER_ID|DEPARTMENT_ID|\n+-----------+----------+---------+--------+------------+---------+--------+------+--------------+----------+-------------+\n|        198|    Donald| OConnell|DOCONNEL|650.507.9833|21-JUN-07|SH_CLERK|  2600|            - |       124|           50|\n|        199|   Douglas|    Grant|  DGRANT|650.507.9844|13-JAN-08|SH_CLERK|  2600|            - |       124|           50|\n|        200|  Jennifer|   Whalen| JWHALEN|515.123.4444|17-SEP-03| AD_ASST|  4400|            - |       101|           10|\n|        201|   Michael|Hartstein|MHARTSTE|515.123.5555|17-FEB-04|  MK_MAN| 13000|            - |       100|           20|\n|        202|       Pat|      Fay|    PFAY|603.123.6666|17-AUG-05|  MK_REP|  6000|            - |       201|           20|\n+-----------+----------+---------+--------+------------+---------+--------+------+--------------+----------+-------------+\nonly showing top 5 rows\n\n"
     ]
    }
   ],
   "source": [
    "empDF.show(5)"
   ]
  },
  {
   "cell_type": "code",
   "execution_count": 0,
   "metadata": {
    "application/vnd.databricks.v1+cell": {
     "cellMetadata": {
      "byteLimit": 2048000,
      "rowLimit": 10000
     },
     "inputWidgets": {},
     "nuid": "c789a597-7268-4bfb-bd48-a57aca3c6c69",
     "showTitle": false,
     "title": ""
    }
   },
   "outputs": [
    {
     "output_type": "stream",
     "name": "stdout",
     "output_type": "stream",
     "text": [
      "+-----------+----------+---------+----------+\n|EMPLOYEE_ID|FIRST_NAME|LAST_NAME|MANAGER_ID|\n+-----------+----------+---------+----------+\n|        198|    Donald| OConnell|       124|\n|        199|   Douglas|    Grant|       124|\n|        200|  Jennifer|   Whalen|       101|\n|        201|   Michael|Hartstein|       100|\n|        202|       Pat|      Fay|       201|\n+-----------+----------+---------+----------+\nonly showing top 5 rows\n\n"
     ]
    }
   ],
   "source": [
    "empDF.select(\"EMPLOYEE_ID\", \"FIRST_NAME\", \"LAST_NAME\", \"MANAGER_ID\").show(5)"
   ]
  },
  {
   "cell_type": "code",
   "execution_count": 0,
   "metadata": {
    "application/vnd.databricks.v1+cell": {
     "cellMetadata": {
      "byteLimit": 2048000,
      "rowLimit": 10000
     },
     "inputWidgets": {},
     "nuid": "dea033d6-b415-46d4-81b1-822598cb3d8c",
     "showTitle": false,
     "title": ""
    }
   },
   "outputs": [
    {
     "output_type": "stream",
     "name": "stdout",
     "output_type": "stream",
     "text": [
      "+-----------+----------+---------+----------+\n|EMPLOYEE_ID|FIRST_NAME|LAST_NAME|MANAGER_ID|\n+-----------+----------+---------+----------+\n|        198|    Donald| OConnell|       124|\n|        199|   Douglas|    Grant|       124|\n|        200|  Jennifer|   Whalen|       101|\n+-----------+----------+---------+----------+\nonly showing top 3 rows\n\n"
     ]
    }
   ],
   "source": [
    "empDF.select(empDF[\"EMPLOYEE_ID\"], empDF[\"FIRST_NAME\"], empDF[\"LAST_NAME\"], empDF[\"MANAGER_ID\"]).show(3)"
   ]
  },
  {
   "cell_type": "code",
   "execution_count": 0,
   "metadata": {
    "application/vnd.databricks.v1+cell": {
     "cellMetadata": {
      "byteLimit": 2048000,
      "rowLimit": 10000
     },
     "inputWidgets": {},
     "nuid": "b1c323f6-7c47-48a9-ab5a-261099115b9f",
     "showTitle": true,
     "title": "emp"
    }
   },
   "outputs": [],
   "source": [
    "from pyspark.sql.functions import *"
   ]
  },
  {
   "cell_type": "code",
   "execution_count": 0,
   "metadata": {
    "application/vnd.databricks.v1+cell": {
     "cellMetadata": {
      "byteLimit": 2048000,
      "rowLimit": 10000
     },
     "inputWidgets": {},
     "nuid": "5f0f45ed-7631-46e4-8561-5d1a57575159",
     "showTitle": false,
     "title": ""
    }
   },
   "outputs": [
    {
     "output_type": "stream",
     "name": "stdout",
     "output_type": "stream",
     "text": [
      "+------+--------+--------+\n|EMP_ID|  F_NAME|  L_NAME|\n+------+--------+--------+\n|   198|  Donald|OConnell|\n|   199| Douglas|   Grant|\n|   200|Jennifer|  Whalen|\n+------+--------+--------+\nonly showing top 3 rows\n\n"
     ]
    }
   ],
   "source": [
    "empDF.select(col(\"EMPLOYEE_ID\").alias(\"EMP_ID\"), col(\"FIRST_NAME\").alias(\"F_NAME\"), col(\"LAST_NAME\").alias(\"L_NAME\")).show(3)"
   ]
  },
  {
   "cell_type": "code",
   "execution_count": 0,
   "metadata": {
    "application/vnd.databricks.v1+cell": {
     "cellMetadata": {
      "byteLimit": 2048000,
      "rowLimit": 10000
     },
     "inputWidgets": {},
     "nuid": "612e07e5-57ae-49a8-84b5-42f81c5c2903",
     "showTitle": false,
     "title": ""
    }
   },
   "outputs": [
    {
     "output_type": "stream",
     "name": "stdout",
     "output_type": "stream",
     "text": [
      "+--------+\n|count(1)|\n+--------+\n|      50|\n+--------+\n\n"
     ]
    }
   ],
   "source": [
    "empDF.select(count(\"*\")).show()"
   ]
  },
  {
   "cell_type": "code",
   "execution_count": 0,
   "metadata": {
    "application/vnd.databricks.v1+cell": {
     "cellMetadata": {
      "byteLimit": 2048000,
      "rowLimit": 10000
     },
     "inputWidgets": {},
     "nuid": "8df344f8-2bf2-44a7-874b-a3569eafb8db",
     "showTitle": false,
     "title": ""
    }
   },
   "outputs": [
    {
     "output_type": "stream",
     "name": "stdout",
     "output_type": "stream",
     "text": [
      "+-----------+----------+---------+--------+------------+---------+--------+------+--------------+----------+-------------+----------+\n|EMPLOYEE_ID|FIRST_NAME|LAST_NAME|   EMAIL|PHONE_NUMBER|HIRE_DATE|  JOB_ID|SALARY|COMMISSION_PCT|MANAGER_ID|DEPARTMENT_ID|NEW_SALARY|\n+-----------+----------+---------+--------+------------+---------+--------+------+--------------+----------+-------------+----------+\n|        198|    Donald| OConnell|DOCONNEL|650.507.9833|21-JUN-07|SH_CLERK|  2600|            - |       124|           50|      3600|\n|        199|   Douglas|    Grant|  DGRANT|650.507.9844|13-JAN-08|SH_CLERK|  2600|            - |       124|           50|      3600|\n+-----------+----------+---------+--------+------------+---------+--------+------+--------------+----------+-------------+----------+\nonly showing top 2 rows\n\n"
     ]
    }
   ],
   "source": [
    "empDF.withColumn(\"NEW_SALARY\", col(\"SALARY\") + 1000).show(2)"
   ]
  },
  {
   "cell_type": "code",
   "execution_count": 0,
   "metadata": {
    "application/vnd.databricks.v1+cell": {
     "cellMetadata": {
      "byteLimit": 2048000,
      "rowLimit": 10000
     },
     "inputWidgets": {},
     "nuid": "6d66db21-2ecd-4420-bbc9-a6c04dead9fd",
     "showTitle": false,
     "title": ""
    }
   },
   "outputs": [
    {
     "output_type": "stream",
     "name": "stdout",
     "output_type": "stream",
     "text": [
      "+-----------+----------+---------+--------+------------+---------+--------+------+--------------+----------+-------------+\n|EMPLOYEE_ID|FIRST_NAME|LAST_NAME|   EMAIL|PHONE_NUMBER|HIRE_DATE|  JOB_ID|SALARY|COMMISSION_PCT|MANAGER_ID|DEPARTMENT_ID|\n+-----------+----------+---------+--------+------------+---------+--------+------+--------------+----------+-------------+\n|        198|    Donald| OConnell|DOCONNEL|650.507.9833|21-JUN-07|SH_CLERK|  3600|            - |       124|           50|\n|        199|   Douglas|    Grant|  DGRANT|650.507.9844|13-JAN-08|SH_CLERK|  3600|            - |       124|           50|\n|        200|  Jennifer|   Whalen| JWHALEN|515.123.4444|17-SEP-03| AD_ASST|  5400|            - |       101|           10|\n+-----------+----------+---------+--------+------------+---------+--------+------+--------------+----------+-------------+\nonly showing top 3 rows\n\n"
     ]
    }
   ],
   "source": [
    "empDF.withColumn(\"SALARY\",col(\"SALARY\")+1000).show(3)"
   ]
  },
  {
   "cell_type": "code",
   "execution_count": 0,
   "metadata": {
    "application/vnd.databricks.v1+cell": {
     "cellMetadata": {
      "byteLimit": 2048000,
      "rowLimit": 10000
     },
     "inputWidgets": {},
     "nuid": "8a081cc6-5550-4f3a-bfed-83cb7705b51d",
     "showTitle": false,
     "title": ""
    }
   },
   "outputs": [
    {
     "output_type": "stream",
     "name": "stdout",
     "output_type": "stream",
     "text": [
      "+-----------+----------+---------+--------+------------+---------+--------+----------+--------------+----------+-------------+\n|EMPLOYEE_ID|FIRST_NAME|LAST_NAME|   EMAIL|PHONE_NUMBER|HIRE_DATE|  JOB_ID|NEW_SALARY|COMMISSION_PCT|MANAGER_ID|DEPARTMENT_ID|\n+-----------+----------+---------+--------+------------+---------+--------+----------+--------------+----------+-------------+\n|        198|    Donald| OConnell|DOCONNEL|650.507.9833|21-JUN-07|SH_CLERK|      2600|            - |       124|           50|\n|        199|   Douglas|    Grant|  DGRANT|650.507.9844|13-JAN-08|SH_CLERK|      2600|            - |       124|           50|\n|        200|  Jennifer|   Whalen| JWHALEN|515.123.4444|17-SEP-03| AD_ASST|      4400|            - |       101|           10|\n+-----------+----------+---------+--------+------------+---------+--------+----------+--------------+----------+-------------+\nonly showing top 3 rows\n\n"
     ]
    }
   ],
   "source": [
    "empDF.withColumnRenamed(\"SALARY\", \"NEW_SALARY\").show(3)"
   ]
  },
  {
   "cell_type": "code",
   "execution_count": 0,
   "metadata": {
    "application/vnd.databricks.v1+cell": {
     "cellMetadata": {
      "byteLimit": 2048000,
      "rowLimit": 10000
     },
     "inputWidgets": {},
     "nuid": "30ed9769-3681-41f5-9ecf-e4ddf7457a69",
     "showTitle": false,
     "title": ""
    }
   },
   "outputs": [
    {
     "output_type": "stream",
     "name": "stdout",
     "output_type": "stream",
     "text": [
      "+-----------+----------+---------+--------+------------+---------+--------+------+----------+-------------+\n|EMPLOYEE_ID|FIRST_NAME|LAST_NAME|   EMAIL|PHONE_NUMBER|HIRE_DATE|  JOB_ID|SALARY|MANAGER_ID|DEPARTMENT_ID|\n+-----------+----------+---------+--------+------------+---------+--------+------+----------+-------------+\n|        198|    Donald| OConnell|DOCONNEL|650.507.9833|21-JUN-07|SH_CLERK|  2600|       124|           50|\n|        199|   Douglas|    Grant|  DGRANT|650.507.9844|13-JAN-08|SH_CLERK|  2600|       124|           50|\n|        200|  Jennifer|   Whalen| JWHALEN|515.123.4444|17-SEP-03| AD_ASST|  4400|       101|           10|\n+-----------+----------+---------+--------+------------+---------+--------+------+----------+-------------+\nonly showing top 3 rows\n\n"
     ]
    }
   ],
   "source": [
    "empDF.drop(\"COMMISSION_PCT\").show(3)"
   ]
  },
  {
   "cell_type": "code",
   "execution_count": 0,
   "metadata": {
    "application/vnd.databricks.v1+cell": {
     "cellMetadata": {
      "byteLimit": 2048000,
      "rowLimit": 10000
     },
     "inputWidgets": {},
     "nuid": "0333e321-13d7-43d7-99c1-f2e693dbbbec",
     "showTitle": false,
     "title": ""
    }
   },
   "outputs": [
    {
     "output_type": "stream",
     "name": "stdout",
     "output_type": "stream",
     "text": [
      "+-----------+----------+---------+-----+------------+---------+-------+------+--------------+----------+-------------+\n|EMPLOYEE_ID|FIRST_NAME|LAST_NAME|EMAIL|PHONE_NUMBER|HIRE_DATE| JOB_ID|SALARY|COMMISSION_PCT|MANAGER_ID|DEPARTMENT_ID|\n+-----------+----------+---------+-----+------------+---------+-------+------+--------------+----------+-------------+\n|        100|    Steven|     King|SKING|515.123.4567|17-JUN-03|AD_PRES| 24000|            - |        - |           90|\n+-----------+----------+---------+-----+------------+---------+-------+------+--------------+----------+-------------+\n\n"
     ]
    }
   ],
   "source": [
    "empDF.filter(col(\"SALARY\") > 20000).show()"
   ]
  },
  {
   "cell_type": "code",
   "execution_count": 0,
   "metadata": {
    "application/vnd.databricks.v1+cell": {
     "cellMetadata": {
      "byteLimit": 2048000,
      "rowLimit": 10000
     },
     "inputWidgets": {},
     "nuid": "b2609fa8-8452-425f-a3f3-8cfeb28835ee",
     "showTitle": false,
     "title": ""
    }
   },
   "outputs": [
    {
     "output_type": "stream",
     "name": "stdout",
     "output_type": "stream",
     "text": [
      "+-----------+----------+---------+--------+------------+---------+------+------+--------------+----------+-------------+\n|EMPLOYEE_ID|FIRST_NAME|LAST_NAME|   EMAIL|PHONE_NUMBER|HIRE_DATE|JOB_ID|SALARY|COMMISSION_PCT|MANAGER_ID|DEPARTMENT_ID|\n+-----------+----------+---------+--------+------------+---------+------+------+--------------+----------+-------------+\n|        201|   Michael|Hartstein|MHARTSTE|515.123.5555|17-FEB-04|MK_MAN| 13000|            - |       100|           20|\n|        205|   Shelley|  Higgins|SHIGGINS|515.123.8080|07-JUN-02|AC_MGR| 12008|            - |       101|          110|\n|        101|     Neena|  Kochhar|NKOCHHAR|515.123.4568|21-SEP-05| AD_VP| 17000|            - |       100|           90|\n|        102|       Lex|  De Haan| LDEHAAN|515.123.4569|13-JAN-01| AD_VP| 17000|            - |       100|           90|\n|        108|     Nancy|Greenberg|NGREENBE|515.124.4569|17-AUG-02|FI_MGR| 12008|            - |       101|          100|\n|        114|       Den| Raphaely|DRAPHEAL|515.127.4561|07-DEC-02|PU_MAN| 11000|            - |       100|           30|\n+-----------+----------+---------+--------+------------+---------+------+------+--------------+----------+-------------+\n\n"
     ]
    }
   ],
   "source": [
    "empDF.filter((col(\"SALARY\") > 10000) & (col(\"SALARY\") < 20000)).show()\n"
   ]
  },
  {
   "cell_type": "code",
   "execution_count": 0,
   "metadata": {
    "application/vnd.databricks.v1+cell": {
     "cellMetadata": {
      "byteLimit": 2048000,
      "rowLimit": 10000
     },
     "inputWidgets": {},
     "nuid": "fc032b5b-91cd-4877-b5bf-b661bf52eb2e",
     "showTitle": false,
     "title": ""
    }
   },
   "outputs": [
    {
     "output_type": "stream",
     "name": "stdout",
     "output_type": "stream",
     "text": [
      "+-----------+----------+---------+------+-------------+\n|EMPLOYEE_ID|FIRST_NAME|LAST_NAME|SALARY|DEPARTMENT_ID|\n+-----------+----------+---------+------+-------------+\n|        100|    Steven|     King| 24000|           90|\n|        101|     Neena|  Kochhar| 17000|           90|\n|        102|       Lex|  De Haan| 17000|           90|\n+-----------+----------+---------+------+-------------+\n\n"
     ]
    }
   ],
   "source": [
    "empDF.filter((col(\"SALARY\") > 10000) & (col(\"DEPARTMENT_ID\") == 90)).select(\"EMPLOYEE_ID\", \"FIRST_NAME\", \"LAST_NAME\", \"SALARY\", \"DEPARTMENT_ID\").show()"
   ]
  },
  {
   "cell_type": "code",
   "execution_count": 0,
   "metadata": {
    "application/vnd.databricks.v1+cell": {
     "cellMetadata": {
      "byteLimit": 2048000,
      "rowLimit": 10000
     },
     "inputWidgets": {},
     "nuid": "61824c40-4d7c-4bf4-b174-0f9f27173ed6",
     "showTitle": false,
     "title": ""
    }
   },
   "outputs": [
    {
     "output_type": "stream",
     "name": "stdout",
     "output_type": "stream",
     "text": [
      "+-----------+----------+---------+--------+------------+---------+--------+------+--------------+----------+-------------+\n|EMPLOYEE_ID|FIRST_NAME|LAST_NAME|   EMAIL|PHONE_NUMBER|HIRE_DATE|  JOB_ID|SALARY|COMMISSION_PCT|MANAGER_ID|DEPARTMENT_ID|\n+-----------+----------+---------+--------+------------+---------+--------+------+--------------+----------+-------------+\n|        201|   Michael|Hartstein|MHARTSTE|515.123.5555|17-FEB-04|  MK_MAN| 13000|            - |       100|           20|\n|        198|    Donald| OConnell|DOCONNEL|650.507.9833|21-JUN-07|SH_CLERK|  2600|            - |       124|           50|\n|        200|  Jennifer|   Whalen| JWHALEN|515.123.4444|17-SEP-03| AD_ASST|  4400|            - |       101|           10|\n+-----------+----------+---------+--------+------------+---------+--------+------+--------------+----------+-------------+\nonly showing top 3 rows\n\n"
     ]
    }
   ],
   "source": [
    "empDF.distinct().show(3)"
   ]
  },
  {
   "cell_type": "code",
   "execution_count": 0,
   "metadata": {
    "application/vnd.databricks.v1+cell": {
     "cellMetadata": {
      "byteLimit": 2048000,
      "rowLimit": 10000
     },
     "inputWidgets": {},
     "nuid": "8b463ea3-1ed0-4e98-9d4a-4c5b43e4a1b7",
     "showTitle": false,
     "title": ""
    }
   },
   "outputs": [
    {
     "output_type": "stream",
     "name": "stdout",
     "output_type": "stream",
     "text": [
      "+-----------+----------+---------+--------+------------+---------+--------+------+--------------+----------+-------------+\n|EMPLOYEE_ID|FIRST_NAME|LAST_NAME|   EMAIL|PHONE_NUMBER|HIRE_DATE|  JOB_ID|SALARY|COMMISSION_PCT|MANAGER_ID|DEPARTMENT_ID|\n+-----------+----------+---------+--------+------------+---------+--------+------+--------------+----------+-------------+\n|        201|   Michael|Hartstein|MHARTSTE|515.123.5555|17-FEB-04|  MK_MAN| 13000|            - |       100|           20|\n|        198|    Donald| OConnell|DOCONNEL|650.507.9833|21-JUN-07|SH_CLERK|  2600|            - |       124|           50|\n|        200|  Jennifer|   Whalen| JWHALEN|515.123.4444|17-SEP-03| AD_ASST|  4400|            - |       101|           10|\n+-----------+----------+---------+--------+------------+---------+--------+------+--------------+----------+-------------+\nonly showing top 3 rows\n\n"
     ]
    }
   ],
   "source": [
    "empDF.dropDuplicates().show(3)"
   ]
  },
  {
   "cell_type": "code",
   "execution_count": 0,
   "metadata": {
    "application/vnd.databricks.v1+cell": {
     "cellMetadata": {
      "byteLimit": 2048000,
      "rowLimit": 10000
     },
     "inputWidgets": {},
     "nuid": "5a9ccd8b-f3d5-4cf7-9dea-04970b942cbd",
     "showTitle": false,
     "title": ""
    }
   },
   "outputs": [
    {
     "output_type": "stream",
     "name": "stdout",
     "output_type": "stream",
     "text": [
      "+-----------+---------+-------------+\n|EMPLOYEE_ID|HIRE_DATE|DEPARTMENT_ID|\n+-----------+---------+-------------+\n|        106|05-FEB-06|           60|\n|        127|14-JAN-07|           50|\n|        119|10-AUG-07|           30|\n|        137|14-JUL-03|           50|\n|        114|07-DEC-02|           30|\n+-----------+---------+-------------+\nonly showing top 5 rows\n\n"
     ]
    }
   ],
   "source": [
    "empDF.dropDuplicates([\"HIRE_DATE\", \"DEPARTMENT_ID\"]).select(\"EMPLOYEE_ID\", \"HIRE_DATE\", \"DEPARTMENT_ID\").show(5)\n",
    "#in dropdulicate with two columns, output will not repeat duplicates from first column mentioned in dropduplicate, in this case it will not repeat HIRE_DATE from DEPARTMENT_ID"
   ]
  },
  {
   "cell_type": "code",
   "execution_count": 0,
   "metadata": {
    "application/vnd.databricks.v1+cell": {
     "cellMetadata": {
      "byteLimit": 2048000,
      "rowLimit": 10000
     },
     "inputWidgets": {},
     "nuid": "883a4f6d-ef9c-4f54-afbf-9c3921c7933d",
     "showTitle": false,
     "title": ""
    }
   },
   "outputs": [
    {
     "output_type": "stream",
     "name": "stdout",
     "output_type": "stream",
     "text": [
      "+------------+------------+\n|Total_Salary|Salary_Count|\n+------------+------------+\n|      309116|          50|\n+------------+------------+\n\n"
     ]
    }
   ],
   "source": [
    "empDF.select(sum(\"SALARY\").alias(\"Total_Salary\"), count(\"SALARY\").alias(\"Salary_Count\")).show()"
   ]
  },
  {
   "cell_type": "code",
   "execution_count": 0,
   "metadata": {
    "application/vnd.databricks.v1+cell": {
     "cellMetadata": {
      "byteLimit": 2048000,
      "rowLimit": 10000
     },
     "inputWidgets": {},
     "nuid": "3dafaf6d-498c-425c-9464-9fe3e3e0b433",
     "showTitle": false,
     "title": ""
    }
   },
   "outputs": [
    {
     "output_type": "stream",
     "name": "stdout",
     "output_type": "stream",
     "text": [
      "+--------------+----------+----------+-----------+\n|Average_Salary|Min_Salary|Max_Salary|Mean_Salary|\n+--------------+----------+----------+-----------+\n|       6182.32|      2100|     24000|    6182.32|\n+--------------+----------+----------+-----------+\n\n"
     ]
    }
   ],
   "source": [
    "empDF.select(avg(\"SALARY\").alias(\"Average_Salary\"), min(\"SALARY\").alias(\"Min_Salary\"), max(\"SALARY\").alias(\"Max_Salary\"), mean(\"SALARY\").alias(\"Mean_Salary\")).show()"
   ]
  },
  {
   "cell_type": "code",
   "execution_count": 0,
   "metadata": {
    "application/vnd.databricks.v1+cell": {
     "cellMetadata": {
      "byteLimit": 2048000,
      "rowLimit": 10000
     },
     "inputWidgets": {},
     "nuid": "306af60b-9eb3-4e01-ad50-ed6ffe2a3e1b",
     "showTitle": false,
     "title": ""
    }
   },
   "outputs": [
    {
     "output_type": "stream",
     "name": "stdout",
     "output_type": "stream",
     "text": [
      "+-----------+----------+----------+------+-------------+\n|EMPLOYEE_ID|FIRST_NAME| LAST_NAME|SALARY|DEPARTMENT_ID|\n+-----------+----------+----------+------+-------------+\n|        200|  Jennifer|    Whalen|  4400|           10|\n|        201|   Michael| Hartstein| 13000|           20|\n|        202|       Pat|       Fay|  6000|           20|\n|        114|       Den|  Raphaely| 11000|           30|\n|        115| Alexander|      Khoo|  3100|           30|\n|        116|    Shelli|     Baida|  2900|           30|\n|        117|     Sigal|    Tobias|  2800|           30|\n|        118|       Guy|    Himuro|  2600|           30|\n|        119|     Karen|Colmenares|  2500|           30|\n|        203|     Susan|    Mavris|  6500|           40|\n+-----------+----------+----------+------+-------------+\nonly showing top 10 rows\n\n"
     ]
    }
   ],
   "source": [
    "empDF.select(\"EMPLOYEE_ID\", \"FIRST_NAME\", \"LAST_NAME\", \"SALARY\", \"DEPARTMENT_ID\").orderBy(col(\"DEPARTMENT_ID\").asc(),col(\"SALARY\").desc()).show(10)"
   ]
  },
  {
   "cell_type": "code",
   "execution_count": 0,
   "metadata": {
    "application/vnd.databricks.v1+cell": {
     "cellMetadata": {
      "byteLimit": 2048000,
      "rowLimit": 10000
     },
     "inputWidgets": {},
     "nuid": "3d1a74c0-2280-4601-9442-ac599138318d",
     "showTitle": false,
     "title": ""
    }
   },
   "outputs": [
    {
     "output_type": "stream",
     "name": "stdout",
     "output_type": "stream",
     "text": [
      "+-------------+-----------+----------------+\n|DEPARTMENT_ID|sum(SALARY)|sum(EMPLOYEE_ID)|\n+-------------+-----------+----------------+\n|           10|       4400|             200|\n|           20|      19000|             403|\n|           30|      24900|             699|\n|           40|       6500|             203|\n|           50|      85600|            3127|\n|           60|      28800|             525|\n|           70|      10000|             204|\n|           90|      58000|             303|\n|          100|      51608|             663|\n|          110|      20308|             411|\n+-------------+-----------+----------------+\n\n"
     ]
    }
   ],
   "source": [
    "empDF.groupBy(\"DEPARTMENT_ID\").sum(\"SALARY\", \"EMPLOYEE_ID\").orderBy(col(\"DEPARTMENT_ID\")).show()\n",
    "# appling groupby with sum/min/max on two or more columns seperated by coma ','"
   ]
  },
  {
   "cell_type": "code",
   "execution_count": 0,
   "metadata": {
    "application/vnd.databricks.v1+cell": {
     "cellMetadata": {
      "byteLimit": 2048000,
      "rowLimit": 10000
     },
     "inputWidgets": {},
     "nuid": "b028306c-866b-4b72-ae0a-f951514aac2f",
     "showTitle": false,
     "title": ""
    }
   },
   "outputs": [
    {
     "output_type": "stream",
     "name": "stdout",
     "output_type": "stream",
     "text": [
      "+-------------+-----------+-----------+\n|DEPARTMENT_ID|sum(SALARY)|max(SALARY)|\n+-------------+-----------+-----------+\n|           10|       4400|       4400|\n|           20|      19000|      13000|\n|           30|      24900|      11000|\n|           40|       6500|       6500|\n|           50|      85600|       8200|\n|           60|      28800|       9000|\n|           70|      10000|      10000|\n|           90|      58000|      24000|\n|          100|      51608|      12008|\n|          110|      20308|      12008|\n+-------------+-----------+-----------+\n\n"
     ]
    }
   ],
   "source": [
    "# empDF.groupBy(\"DEPARTMENT_ID\").agg(sum(\"SALARY\"), round(avg(\"SALARY\"),2),max(\"SALARY\"),min(\"SALARY\"), count(\"SALARY\").alias(\"Total_salary\")).orderBy(col(\"DEPARTMENT_ID\").asc()).show()\n",
    "\n",
    "empDF.groupBy(\"DEPARTMENT_ID\").agg(sum(\"SALARY\"), max(\"SALARY\")).orderBy(col(\"DEPARTMENT_ID\")).show()"
   ]
  },
  {
   "cell_type": "code",
   "execution_count": 0,
   "metadata": {
    "application/vnd.databricks.v1+cell": {
     "cellMetadata": {
      "byteLimit": 2048000,
      "rowLimit": 10000
     },
     "inputWidgets": {},
     "nuid": "886c3061-050f-4834-815f-a3086ae70c61",
     "showTitle": false,
     "title": ""
    }
   },
   "outputs": [
    {
     "output_type": "stream",
     "name": "stdout",
     "output_type": "stream",
     "text": [
      "+-------------+------------+----------+----------+------------+\n|DEPARTMENT_ID|Total_Salary|Max_Salary|Min_Salary|Salary_Count|\n+-------------+------------+----------+----------+------------+\n|           20|       19000|     13000|      6000|           2|\n|           40|        6500|      6500|      6500|           1|\n|          100|       51608|     12008|      6900|           6|\n|           10|        4400|      4400|      4400|           1|\n|           50|       85600|      8200|      2100|          23|\n|           70|       10000|     10000|     10000|           1|\n|           90|       58000|     24000|     17000|           3|\n|           60|       28800|      9000|      4200|           5|\n|          110|       20308|     12008|      8300|           2|\n|           30|       24900|     11000|      2500|           6|\n+-------------+------------+----------+----------+------------+\n\n"
     ]
    }
   ],
   "source": [
    "empDF.groupBy(\"DEPARTMENT_ID\").agg(sum(\"SALARY\").alias(\"Total_Salary\"), max(\"SALARY\").alias(\"Max_Salary\"), min(\"SALARY\").alias(\"Min_Salary\"), count(\"SALARY\").alias(\"Salary_Count\")).where(((col(\"Min_Salary\") > 5000)|(col(\"Max_Salary\") < 20000))).show()\n",
    "\n",
    "#using alias in where cluase similar to sql"
   ]
  },
  {
   "cell_type": "code",
   "execution_count": 0,
   "metadata": {
    "application/vnd.databricks.v1+cell": {
     "cellMetadata": {
      "byteLimit": 2048000,
      "rowLimit": 10000
     },
     "inputWidgets": {},
     "nuid": "9865332f-b889-4134-b7c6-aa636e4ae1c3",
     "showTitle": false,
     "title": ""
    }
   },
   "outputs": [
    {
     "output_type": "stream",
     "name": "stdout",
     "output_type": "stream",
     "text": [
      "+-------------+------------+----------+----------+------------+\n|DEPARTMENT_ID|Total_Salary|Max_Salary|Min_Salary|Salary_Count|\n+-------------+------------+----------+----------+------------+\n|           50|       85600|      8200|      2100|          23|\n|           90|       58000|     24000|     17000|           3|\n|          100|       51608|     12008|      6900|           6|\n|           60|       28800|      9000|      4200|           5|\n|           30|       24900|     11000|      2500|           6|\n|          110|       20308|     12008|      8300|           2|\n|           20|       19000|     13000|      6000|           2|\n|           70|       10000|     10000|     10000|           1|\n|           40|        6500|      6500|      6500|           1|\n|           10|        4400|      4400|      4400|           1|\n+-------------+------------+----------+----------+------------+\n\n"
     ]
    }
   ],
   "source": [
    "empDF.groupBy(\"DEPARTMENT_ID\").agg(sum(\"SALARY\").alias(\"Total_Salary\"), max(\"SALARY\").alias(\"Max_Salary\"), min(\"SALARY\").alias(\"Min_Salary\"), count(\"SALARY\").alias(\"Salary_Count\")).where(((col(\"Min_Salary\")> 5000) | (col(\"Max_Salary\")< 20000))).orderBy(col(\"Total_Salary\").desc()).show()"
   ]
  },
  {
   "cell_type": "code",
   "execution_count": 0,
   "metadata": {
    "application/vnd.databricks.v1+cell": {
     "cellMetadata": {
      "byteLimit": 2048000,
      "rowLimit": 10000
     },
     "inputWidgets": {},
     "nuid": "ba48c51a-4dbb-4487-bf5f-ccc67792a954",
     "showTitle": false,
     "title": ""
    }
   },
   "outputs": [],
   "source": [
    "gradeDF = empDF.withColumn(\"EMP_GRADE\", when((col(\"SALARY\")> 20000), \"A\").when((col(\"SALARY\") > 10000) & (col(\"SALARY\") < 20000), \"B\").otherwise(\"C\"))\n",
    "# Use of withColumn, when, otherwise similar to case when in sql"
   ]
  },
  {
   "cell_type": "code",
   "execution_count": 0,
   "metadata": {
    "application/vnd.databricks.v1+cell": {
     "cellMetadata": {
      "byteLimit": 2048000,
      "rowLimit": 10000
     },
     "inputWidgets": {},
     "nuid": "d1f3c364-f400-4ddf-916f-96405afda35e",
     "showTitle": false,
     "title": ""
    }
   },
   "outputs": [
    {
     "output_type": "stream",
     "name": "stdout",
     "output_type": "stream",
     "text": [
      "+---------+-----------+-----------+\n|EMP_GRADE|sum(SALARY)|max(SALARY)|\n+---------+-----------+-----------+\n|        A|      24000|      24000|\n|        B|      82016|      17000|\n|        C|     203100|      10000|\n+---------+-----------+-----------+\n\n"
     ]
    }
   ],
   "source": [
    "gradeDF.groupBy(\"EMP_GRADE\").agg(sum(\"SALARY\"), max(\"SALARY\")).orderBy(\"EMP_GRADE\").show()"
   ]
  },
  {
   "cell_type": "code",
   "execution_count": 0,
   "metadata": {
    "application/vnd.databricks.v1+cell": {
     "cellMetadata": {
      "byteLimit": 2048000,
      "rowLimit": 10000
     },
     "inputWidgets": {},
     "nuid": "ab7bc23f-bf5f-43d2-bf9c-01ceb28c4532",
     "showTitle": false,
     "title": ""
    }
   },
   "outputs": [],
   "source": [
    "# Creating tempview to directly write sql querie instead of pyspark\n",
    "empDF.createOrReplaceTempView(\"employee\")"
   ]
  },
  {
   "cell_type": "code",
   "execution_count": 0,
   "metadata": {
    "application/vnd.databricks.v1+cell": {
     "cellMetadata": {
      "byteLimit": 2048000,
      "rowLimit": 10000
     },
     "inputWidgets": {},
     "nuid": "17e5d845-3418-4f94-8b87-4e9e1056ce8a",
     "showTitle": false,
     "title": ""
    }
   },
   "outputs": [
    {
     "output_type": "stream",
     "name": "stdout",
     "output_type": "stream",
     "text": [
      "+-----------+----------+---------+--------+------------+---------+--------+------+--------------+----------+-------------+\n|EMPLOYEE_ID|FIRST_NAME|LAST_NAME|   EMAIL|PHONE_NUMBER|HIRE_DATE|  JOB_ID|SALARY|COMMISSION_PCT|MANAGER_ID|DEPARTMENT_ID|\n+-----------+----------+---------+--------+------------+---------+--------+------+--------------+----------+-------------+\n|        198|    Donald| OConnell|DOCONNEL|650.507.9833|21-JUN-07|SH_CLERK|  2600|            - |       124|           50|\n|        199|   Douglas|    Grant|  DGRANT|650.507.9844|13-JAN-08|SH_CLERK|  2600|            - |       124|           50|\n|        200|  Jennifer|   Whalen| JWHALEN|515.123.4444|17-SEP-03| AD_ASST|  4400|            - |       101|           10|\n|        201|   Michael|Hartstein|MHARTSTE|515.123.5555|17-FEB-04|  MK_MAN| 13000|            - |       100|           20|\n|        202|       Pat|      Fay|    PFAY|603.123.6666|17-AUG-05|  MK_REP|  6000|            - |       201|           20|\n+-----------+----------+---------+--------+------------+---------+--------+------+--------------+----------+-------------+\nonly showing top 5 rows\n\n"
     ]
    }
   ],
   "source": [
    "spark.sql(\"SELECT * FROM employee\").show(5)"
   ]
  },
  {
   "cell_type": "code",
   "execution_count": 0,
   "metadata": {
    "application/vnd.databricks.v1+cell": {
     "cellMetadata": {
      "byteLimit": 2048000,
      "implicitDf": true,
      "rowLimit": 10000
     },
     "inputWidgets": {},
     "nuid": "f458cf13-1ab2-4f96-a2d7-bea55c29bc5e",
     "showTitle": false,
     "title": ""
    }
   },
   "outputs": [
    {
     "output_type": "display_data",
     "data": {
      "text/html": [
       "<style scoped>\n",
       "  .table-result-container {\n",
       "    max-height: 300px;\n",
       "    overflow: auto;\n",
       "  }\n",
       "  table, th, td {\n",
       "    border: 1px solid black;\n",
       "    border-collapse: collapse;\n",
       "  }\n",
       "  th, td {\n",
       "    padding: 5px;\n",
       "  }\n",
       "  th {\n",
       "    text-align: left;\n",
       "  }\n",
       "</style><div class='table-result-container'><table class='table-result'><thead style='background-color: white'><tr><th>EMPLOYEE_ID</th><th>FIRST_NAME</th><th>LAST_NAME</th><th>EMAIL</th><th>PHONE_NUMBER</th><th>HIRE_DATE</th><th>JOB_ID</th><th>SALARY</th><th>COMMISSION_PCT</th><th>MANAGER_ID</th><th>DEPARTMENT_ID</th></tr></thead><tbody><tr><td>100</td><td>Steven</td><td>King</td><td>SKING</td><td>515.123.4567</td><td>17-JUN-03</td><td>AD_PRES</td><td>24000</td><td> - </td><td> - </td><td>90</td></tr><tr><td>101</td><td>Neena</td><td>Kochhar</td><td>NKOCHHAR</td><td>515.123.4568</td><td>21-SEP-05</td><td>AD_VP</td><td>17000</td><td> - </td><td>100</td><td>90</td></tr><tr><td>102</td><td>Lex</td><td>De Haan</td><td>LDEHAAN</td><td>515.123.4569</td><td>13-JAN-01</td><td>AD_VP</td><td>17000</td><td> - </td><td>100</td><td>90</td></tr></tbody></table></div>"
      ]
     },
     "metadata": {
      "application/vnd.databricks.v1+output": {
       "addedWidgets": {},
       "aggData": [],
       "aggError": "",
       "aggOverflow": false,
       "aggSchema": [],
       "aggSeriesLimitReached": false,
       "aggType": "",
       "arguments": {},
       "columnCustomDisplayInfos": {},
       "data": [
        [
         100,
         "Steven",
         "King",
         "SKING",
         "515.123.4567",
         "17-JUN-03",
         "AD_PRES",
         24000,
         " - ",
         " - ",
         90
        ],
        [
         101,
         "Neena",
         "Kochhar",
         "NKOCHHAR",
         "515.123.4568",
         "21-SEP-05",
         "AD_VP",
         17000,
         " - ",
         "100",
         90
        ],
        [
         102,
         "Lex",
         "De Haan",
         "LDEHAAN",
         "515.123.4569",
         "13-JAN-01",
         "AD_VP",
         17000,
         " - ",
         "100",
         90
        ]
       ],
       "datasetInfos": [],
       "dbfsResultPath": null,
       "isJsonSchema": true,
       "metadata": {},
       "overflow": false,
       "plotOptions": {
        "customPlotOptions": {},
        "displayType": "table",
        "pivotAggregation": null,
        "pivotColumns": null,
        "xColumns": null,
        "yColumns": null
       },
       "removedWidgets": [],
       "schema": [
        {
         "metadata": "{}",
         "name": "EMPLOYEE_ID",
         "type": "\"integer\""
        },
        {
         "metadata": "{}",
         "name": "FIRST_NAME",
         "type": "\"string\""
        },
        {
         "metadata": "{}",
         "name": "LAST_NAME",
         "type": "\"string\""
        },
        {
         "metadata": "{}",
         "name": "EMAIL",
         "type": "\"string\""
        },
        {
         "metadata": "{}",
         "name": "PHONE_NUMBER",
         "type": "\"string\""
        },
        {
         "metadata": "{}",
         "name": "HIRE_DATE",
         "type": "\"string\""
        },
        {
         "metadata": "{}",
         "name": "JOB_ID",
         "type": "\"string\""
        },
        {
         "metadata": "{}",
         "name": "SALARY",
         "type": "\"integer\""
        },
        {
         "metadata": "{}",
         "name": "COMMISSION_PCT",
         "type": "\"string\""
        },
        {
         "metadata": "{}",
         "name": "MANAGER_ID",
         "type": "\"string\""
        },
        {
         "metadata": "{}",
         "name": "DEPARTMENT_ID",
         "type": "\"integer\""
        }
       ],
       "type": "table"
      }
     },
     "output_type": "display_data"
    }
   ],
   "source": [
    "%sql\n",
    "SELECT * FROM employee WHERE DEPARTMENT_ID = 90 AND SALARY > 2000 LIMIT 5"
   ]
  },
  {
   "cell_type": "code",
   "execution_count": 0,
   "metadata": {
    "application/vnd.databricks.v1+cell": {
     "cellMetadata": {
      "byteLimit": 2048000,
      "implicitDf": true,
      "rowLimit": 10000
     },
     "inputWidgets": {},
     "nuid": "db5d3ab8-ee39-4797-9068-b6ac6c447af3",
     "showTitle": false,
     "title": ""
    }
   },
   "outputs": [],
   "source": [
    "\n",
    "sqlDF = spark.sql(\"SELECT * FROM employee WHERE DEPARTMENT_ID = 90 AND SALARY > 2000 LIMIT 5\")"
   ]
  },
  {
   "cell_type": "code",
   "execution_count": 0,
   "metadata": {
    "application/vnd.databricks.v1+cell": {
     "cellMetadata": {
      "byteLimit": 2048000,
      "rowLimit": 10000
     },
     "inputWidgets": {},
     "nuid": "147ab706-1337-4756-8577-590c5e1d6aff",
     "showTitle": true,
     "title": ""
    }
   },
   "outputs": [
    {
     "output_type": "stream",
     "name": "stdout",
     "output_type": "stream",
     "text": [
      "+-------------+------------+\n|DEPARTMENT_ID|TOTAL_SALARY|\n+-------------+------------+\n|           50|       85600|\n|           90|       58000|\n|          100|       51608|\n|           60|       28800|\n|           30|       24900|\n|          110|       20308|\n|           20|       19000|\n|           70|       10000|\n|           40|        6500|\n|           10|        4400|\n+-------------+------------+\n\n"
     ]
    }
   ],
   "source": [
    "sqlDF = spark.sql(\"SELECT DEPARTMENT_ID, SUM(SALARY) AS TOTAL_SALARY FROM employee GROUP BY DEPARTMENT_ID ORDER BY TOTAL_SALARY DESC\").show()"
   ]
  },
  {
   "cell_type": "code",
   "execution_count": 0,
   "metadata": {
    "application/vnd.databricks.v1+cell": {
     "cellMetadata": {
      "byteLimit": 2048000,
      "rowLimit": 10000
     },
     "inputWidgets": {},
     "nuid": "eba62eb2-5d77-4df2-a05a-bd5d05abf91b",
     "showTitle": false,
     "title": ""
    }
   },
   "outputs": [
    {
     "output_type": "stream",
     "name": "stdout",
     "output_type": "stream",
     "text": [
      "+-----------+-------------+------+-----------+\n|EMPLOYEE_ID|DEPARTMENT_ID|SALARY|RANK_SALARY|\n+-----------+-------------+------+-----------+\n|        200|           10|  4400|          1|\n|        201|           20| 13000|          1|\n|        202|           20|  6000|          2|\n|        114|           30| 11000|          1|\n|        115|           30|  3100|          2|\n+-----------+-------------+------+-----------+\n\n"
     ]
    }
   ],
   "source": [
    "spark.sql(\"SELECT EMPLOYEE_ID, DEPARTMENT_ID, SALARY, RANK() OVER(PARTITION BY DEPARTMENT_ID ORDER BY SALARY DESC) AS RANK_SALARY FROM employee LIMIT 5\").show()"
   ]
  },
  {
   "cell_type": "code",
   "execution_count": 0,
   "metadata": {
    "application/vnd.databricks.v1+cell": {
     "cellMetadata": {
      "byteLimit": 2048000,
      "rowLimit": 10000
     },
     "inputWidgets": {},
     "nuid": "a65d17cb-473f-434d-8fb9-0bc4d007fcf7",
     "showTitle": false,
     "title": ""
    }
   },
   "outputs": [
    {
     "output_type": "stream",
     "name": "stdout",
     "output_type": "stream",
     "text": [
      "+-----------+---------+-------------+\n|EMPLOYEE_ID|HIRE_DATE|DEPARTMENT_ID|\n+-----------+---------+-------------+\n|        106|05-FEB-06|           60|\n|        127|14-JAN-07|           50|\n|        119|10-AUG-07|           30|\n|        137|14-JUL-03|           50|\n|        114|07-DEC-02|           30|\n+-----------+---------+-------------+\nonly showing top 5 rows\n\n"
     ]
    }
   ],
   "source": [
    "empDF.dropDuplicates([\"HIRE_DATE\", \"DEPARTMENT_ID\"]).select(\"EMPLOYEE_ID\", \"HIRE_DATE\", \"DEPARTMENT_ID\").show(5)"
   ]
  },
  {
   "cell_type": "code",
   "execution_count": 0,
   "metadata": {
    "application/vnd.databricks.v1+cell": {
     "cellMetadata": {
      "byteLimit": 2048000,
      "rowLimit": 10000
     },
     "inputWidgets": {},
     "nuid": "0c439c05-0dd4-4714-a207-3f7248623fdc",
     "showTitle": false,
     "title": ""
    }
   },
   "outputs": [],
   "source": [
    "deptDF = spark.read.option(\"header\", True).option(\"inferSchema\", True).csv(\"dbfs:/FileStore/Temp/departments.csv\")"
   ]
  },
  {
   "cell_type": "code",
   "execution_count": 0,
   "metadata": {
    "application/vnd.databricks.v1+cell": {
     "cellMetadata": {
      "byteLimit": 2048000,
      "rowLimit": 10000
     },
     "inputWidgets": {},
     "nuid": "79c4ebf9-59a6-4268-990d-4f13ff698474",
     "showTitle": false,
     "title": ""
    }
   },
   "outputs": [
    {
     "output_type": "stream",
     "name": "stdout",
     "output_type": "stream",
     "text": [
      "+-------------+---------------+----------+-----------+\n|DEPARTMENT_ID|DEPARTMENT_NAME|MANAGER_ID|LOCATION_ID|\n+-------------+---------------+----------+-----------+\n|           10| Administration|       200|       1700|\n|           20|      Marketing|       201|       1800|\n+-------------+---------------+----------+-----------+\nonly showing top 2 rows\n\n"
     ]
    }
   ],
   "source": [
    "deptDF.show(2)"
   ]
  },
  {
   "cell_type": "code",
   "execution_count": 0,
   "metadata": {
    "application/vnd.databricks.v1+cell": {
     "cellMetadata": {
      "byteLimit": 2048000,
      "rowLimit": 10000
     },
     "inputWidgets": {},
     "nuid": "f6503d87-9c09-43de-8634-d3202b4668e4",
     "showTitle": false,
     "title": ""
    }
   },
   "outputs": [
    {
     "output_type": "stream",
     "name": "stdout",
     "output_type": "stream",
     "text": [
      "+-----------+-------------+---------------+----------+\n|EMPLOYEE_ID|DEPARTMENT_ID|DEPARTMENT_NAME|MANAGER_ID|\n+-----------+-------------+---------------+----------+\n|        198|           50|       Shipping|       124|\n|        199|           50|       Shipping|       124|\n|        200|           10| Administration|       101|\n|        201|           20|      Marketing|       100|\n|        202|           20|      Marketing|       201|\n+-----------+-------------+---------------+----------+\nonly showing top 5 rows\n\n"
     ]
    }
   ],
   "source": [
    "empDF.join(deptDF, empDF.DEPARTMENT_ID == deptDF.DEPARTMENT_ID, \"inner\").select(empDF.EMPLOYEE_ID, deptDF.DEPARTMENT_ID, deptDF.DEPARTMENT_NAME, empDF.MANAGER_ID).show(5)\n",
    "#Join"
   ]
  },
  {
   "cell_type": "code",
   "execution_count": 0,
   "metadata": {
    "application/vnd.databricks.v1+cell": {
     "cellMetadata": {
      "byteLimit": 2048000,
      "rowLimit": 10000
     },
     "inputWidgets": {},
     "nuid": "54521ed1-a940-48a8-9622-b5e9f9dbcaf1",
     "showTitle": false,
     "title": ""
    }
   },
   "outputs": [
    {
     "output_type": "stream",
     "name": "stdout",
     "output_type": "stream",
     "text": [
      "+----------+----------+---------+\n|MANAGER_ID|FIRST_NAME|LAST_NAME|\n+----------+----------+---------+\n|       122|     Payam| Kaufling|\n|       101|     Neena|  Kochhar|\n|       100|    Steven|     King|\n|       205|   Shelley|  Higgins|\n|       114|       Den| Raphaely|\n|       103| Alexander|   Hunold|\n|       124|     Kevin|  Mourgos|\n|       120|   Matthew|    Weiss|\n|       123|    Shanta|  Vollman|\n|       121|      Adam|    Fripp|\n|       108|     Nancy|Greenberg|\n|       102|       Lex|  De Haan|\n|       201|   Michael|Hartstein|\n+----------+----------+---------+\n\n"
     ]
    }
   ],
   "source": [
    "# Selfjoin using pyspark\n",
    "# e.g. finding mangers from employee table (given managers are also employees, self join will give the details. drop duplicate to remove duplicates)\n",
    "empDF.alias(\"emp1\").join(empDF.alias(\"emp2\"), col(\"emp1.MANAGER_ID\") == col(\"emp2.EMPLOYEE_ID\"), \"inner\").select(col(\"emp1.MANAGER_ID\"), col(\"emp2.FIRST_NAME\"), col(\"emp2.LAST_NAME\")).dropDuplicates().show(20)"
   ]
  },
  {
   "cell_type": "code",
   "execution_count": 0,
   "metadata": {
    "application/vnd.databricks.v1+cell": {
     "cellMetadata": {
      "byteLimit": 2048000,
      "rowLimit": 10000
     },
     "inputWidgets": {},
     "nuid": "c1b5fbf3-90b3-4198-a7af-78c81c68a63e",
     "showTitle": false,
     "title": ""
    }
   },
   "outputs": [
    {
     "output_type": "stream",
     "name": "stdout",
     "output_type": "stream",
     "text": [
      "+-------------+--------------------+----------+-----------+\n|DEPARTMENT_ID|     DEPARTMENT_NAME|MANAGER_ID|LOCATION_ID|\n+-------------+--------------------+----------+-----------+\n|           10|      Administration|       200|       1700|\n|           20|           Marketing|       201|       1800|\n|           30|          Purchasing|       114|       1700|\n|           40|     Human Resources|       203|       2400|\n|           50|            Shipping|       121|       1500|\n|           60|                  IT|       103|       1400|\n|           70|    Public Relations|       204|       2700|\n|           80|               Sales|       145|       2500|\n|           90|           Executive|       100|       1700|\n|          100|             Finance|       108|       1700|\n|          110|          Accounting|       205|       1700|\n|          120|            Treasury|        - |       1700|\n|          130|       Corporate Tax|        - |       1700|\n|          140|  Control And Credit|        - |       1700|\n|          150|Shareholder Services|        - |       1700|\n|          160|            Benefits|        - |       1700|\n|          170|       Manufacturing|        - |       1700|\n|          180|        Construction|        - |       1700|\n|          190|         Contracting|        - |       1700|\n|          200|          Operations|        - |       1700|\n+-------------+--------------------+----------+-----------+\nonly showing top 20 rows\n\n"
     ]
    }
   ],
   "source": [
    "deptDF.show()"
   ]
  },
  {
   "cell_type": "code",
   "execution_count": 0,
   "metadata": {
    "application/vnd.databricks.v1+cell": {
     "cellMetadata": {
      "byteLimit": 2048000,
      "rowLimit": 10000
     },
     "inputWidgets": {},
     "nuid": "c154916e-427d-4112-adfe-72f3932a968f",
     "showTitle": false,
     "title": ""
    }
   },
   "outputs": [],
   "source": [
    "from pyspark.sql.types import StructType, StructField, IntegerType, StringType"
   ]
  },
  {
   "cell_type": "code",
   "execution_count": 0,
   "metadata": {
    "application/vnd.databricks.v1+cell": {
     "cellMetadata": {
      "byteLimit": 2048000,
      "rowLimit": 10000
     },
     "inputWidgets": {},
     "nuid": "adbb0e61-13b2-4320-8a71-2fe62a92e27e",
     "showTitle": false,
     "title": ""
    }
   },
   "outputs": [],
   "source": [
    "location_data = [(1700, \"INDIA\"), (1800, \"USA\")]"
   ]
  },
  {
   "cell_type": "code",
   "execution_count": 0,
   "metadata": {
    "application/vnd.databricks.v1+cell": {
     "cellMetadata": {
      "byteLimit": 2048000,
      "rowLimit": 10000
     },
     "inputWidgets": {},
     "nuid": "f9ed9b90-5dfd-4431-bd73-9d5ad9bcd84c",
     "showTitle": false,
     "title": ""
    }
   },
   "outputs": [],
   "source": [
    "schema = StructType([\n",
    "                    StructField(\"LOCATION_ID\", IntegerType(), True),\\\n",
    "                    StructField(\"LOCATION_NAME\", StringType(), True)\\\n",
    "])"
   ]
  },
  {
   "cell_type": "code",
   "execution_count": 0,
   "metadata": {
    "application/vnd.databricks.v1+cell": {
     "cellMetadata": {
      "byteLimit": 2048000,
      "rowLimit": 10000
     },
     "inputWidgets": {},
     "nuid": "fe7fcc29-b480-4e95-bc2d-425f1ca870fc",
     "showTitle": false,
     "title": ""
    }
   },
   "outputs": [],
   "source": [
    "locDF = spark.createDataFrame(data = location_data, schema = schema)"
   ]
  },
  {
   "cell_type": "code",
   "execution_count": 0,
   "metadata": {
    "application/vnd.databricks.v1+cell": {
     "cellMetadata": {
      "byteLimit": 2048000,
      "rowLimit": 10000
     },
     "inputWidgets": {},
     "nuid": "8cc01c90-b71a-4142-ba78-0bc5c799b968",
     "showTitle": false,
     "title": ""
    }
   },
   "outputs": [
    {
     "output_type": "stream",
     "name": "stdout",
     "output_type": "stream",
     "text": [
      "root\n |-- LOCATION_ID: integer (nullable = true)\n |-- LOCATION_NAME: string (nullable = true)\n\n"
     ]
    }
   ],
   "source": [
    "locDF.printSchema()"
   ]
  },
  {
   "cell_type": "code",
   "execution_count": 0,
   "metadata": {
    "application/vnd.databricks.v1+cell": {
     "cellMetadata": {
      "byteLimit": 2048000,
      "rowLimit": 10000
     },
     "inputWidgets": {},
     "nuid": "1b9bd475-f237-4df1-ac41-3e2d8f4b0b95",
     "showTitle": false,
     "title": ""
    }
   },
   "outputs": [
    {
     "output_type": "stream",
     "name": "stdout",
     "output_type": "stream",
     "text": [
      "+-----------+-------------+\n|LOCATION_ID|LOCATION_NAME|\n+-----------+-------------+\n|       1700|        INDIA|\n|       1800|          USA|\n+-----------+-------------+\n\n"
     ]
    }
   ],
   "source": [
    "locDF.show()"
   ]
  },
  {
   "cell_type": "code",
   "execution_count": 0,
   "metadata": {
    "application/vnd.databricks.v1+cell": {
     "cellMetadata": {
      "byteLimit": 2048000,
      "rowLimit": 10000
     },
     "inputWidgets": {},
     "nuid": "b9d40554-ccc3-4279-9770-5616d9e53a68",
     "showTitle": false,
     "title": ""
    }
   },
   "outputs": [
    {
     "output_type": "stream",
     "name": "stdout",
     "output_type": "stream",
     "text": [
      "+-----------+-------------+-----------+-------------+\n|EMPLOYEE_ID|DEPARTMENT_ID|LOCATION_ID|LOCATION_NAME|\n+-----------+-------------+-----------+-------------+\n|        119|           30|       1700|        INDIA|\n|        118|           30|       1700|        INDIA|\n|        117|           30|       1700|        INDIA|\n|        116|           30|       1700|        INDIA|\n|        115|           30|       1700|        INDIA|\n+-----------+-------------+-----------+-------------+\nonly showing top 5 rows\n\n"
     ]
    }
   ],
   "source": [
    "empDF.join(deptDF, (empDF.DEPARTMENT_ID== deptDF.DEPARTMENT_ID) & (deptDF.LOCATION_ID == 1700))\\\n",
    "    .join(locDF, deptDF.LOCATION_ID == locDF.LOCATION_ID)\\\n",
    "        .select(empDF.EMPLOYEE_ID, empDF.DEPARTMENT_ID, deptDF.LOCATION_ID, locDF.LOCATION_NAME)\\\n",
    "            .show(5\n",
    "                  )"
   ]
  },
  {
   "cell_type": "code",
   "execution_count": 0,
   "metadata": {
    "application/vnd.databricks.v1+cell": {
     "cellMetadata": {
      "byteLimit": 2048000,
      "rowLimit": 10000
     },
     "inputWidgets": {},
     "nuid": "16e616b6-a51f-4180-99f7-1441c13b1f6a",
     "showTitle": false,
     "title": ""
    }
   },
   "outputs": [],
   "source": [
    "#creating udf\n",
    "\n",
    "@udf(returnType=StringType())\n",
    "def upperCaseNew(in_str):\n",
    "    out_str = in_str.upper()\n",
    "    return out_str\n"
   ]
  },
  {
   "cell_type": "code",
   "execution_count": 0,
   "metadata": {
    "application/vnd.databricks.v1+cell": {
     "cellMetadata": {
      "byteLimit": 2048000,
      "rowLimit": 10000
     },
     "inputWidgets": {},
     "nuid": "a8d67445-fbc1-4237-b3c9-78b7df9d57fe",
     "showTitle": false,
     "title": ""
    }
   },
   "outputs": [],
   "source": [
    "from pyspark.sql.functions import udf\n",
    "# udf function is imported when import * is done"
   ]
  },
  {
   "cell_type": "code",
   "execution_count": 0,
   "metadata": {
    "application/vnd.databricks.v1+cell": {
     "cellMetadata": {
      "byteLimit": 2048000,
      "rowLimit": 10000
     },
     "inputWidgets": {},
     "nuid": "71afbecc-5a9f-403e-ace2-8e9d3a7bf7c8",
     "showTitle": false,
     "title": ""
    }
   },
   "outputs": [
    {
     "output_type": "stream",
     "name": "stdout",
     "output_type": "stream",
     "text": [
      "+-----------+----------+---------+------------------------+-----------------------+\n|EMPLOYEE_ID|FIRST_NAME|LAST_NAME|upperCaseNew(FIRST_NAME)|upperCaseNew(LAST_NAME)|\n+-----------+----------+---------+------------------------+-----------------------+\n|        198|    Donald| OConnell|                  DONALD|               OCONNELL|\n|        199|   Douglas|    Grant|                 DOUGLAS|                  GRANT|\n|        200|  Jennifer|   Whalen|                JENNIFER|                 WHALEN|\n|        201|   Michael|Hartstein|                 MICHAEL|              HARTSTEIN|\n|        202|       Pat|      Fay|                     PAT|                    FAY|\n+-----------+----------+---------+------------------------+-----------------------+\nonly showing top 5 rows\n\n"
     ]
    }
   ],
   "source": [
    "empDF.select(col(\"EMPLOYEE_ID\"), col(\"FIRST_NAME\"), col(\"LAST_NAME\"), upperCaseNew(col(\"FIRST_NAME\")), upperCaseNew(col(\"LAST_NAME\"))).show(5)\n",
    "  \n",
    "  #applying udf"
   ]
  },
  {
   "cell_type": "code",
   "execution_count": 0,
   "metadata": {
    "application/vnd.databricks.v1+cell": {
     "cellMetadata": {
      "byteLimit": 2048000,
      "rowLimit": 10000
     },
     "inputWidgets": {},
     "nuid": "cd991d09-af2e-45cf-a6cb-b1cccf5c37e3",
     "showTitle": false,
     "title": ""
    }
   },
   "outputs": [],
   "source": [
    "from pyspark.sql.window import Window\n",
    "# importing Window"
   ]
  },
  {
   "cell_type": "code",
   "execution_count": 0,
   "metadata": {
    "application/vnd.databricks.v1+cell": {
     "cellMetadata": {
      "byteLimit": 2048000,
      "rowLimit": 10000
     },
     "inputWidgets": {},
     "nuid": "4811682a-926d-4bd1-8fef-0d7cbf8b53f2",
     "showTitle": false,
     "title": ""
    }
   },
   "outputs": [],
   "source": [
    "# create a window spec before applying window function\n",
    "windowSpec = Window.partitionBy(\"DEPARTMENT_ID\").orderBy(col(\"SALARY\").desc())"
   ]
  },
  {
   "cell_type": "code",
   "execution_count": 0,
   "metadata": {
    "application/vnd.databricks.v1+cell": {
     "cellMetadata": {
      "byteLimit": 2048000,
      "rowLimit": 10000
     },
     "inputWidgets": {},
     "nuid": "7afb2a53-adac-43e6-9d32-4b922457a360",
     "showTitle": true,
     "title": ""
    }
   },
   "outputs": [
    {
     "output_type": "stream",
     "name": "stdout",
     "output_type": "stream",
     "text": [
      "+-------------+------+-----------+\n|DEPARTMENT_ID|SALARY|SALARY_RANK|\n+-------------+------+-----------+\n|           10|  4400|          1|\n|           20| 13000|          1|\n|           20|  6000|          2|\n|           30| 11000|          1|\n|           30|  3100|          2|\n+-------------+------+-----------+\nonly showing top 5 rows\n\n"
     ]
    }
   ],
   "source": [
    "#apply window function using window spec created begining with withColumn\n",
    "empDF.withColumn((\"SALARY_RANK\"), rank().over(windowSpec)).select(\"DEPARTMENT_ID\", \"SALARY\", \"SALARY_RANK\").show(5)"
   ]
  },
  {
   "cell_type": "code",
   "execution_count": 0,
   "metadata": {
    "application/vnd.databricks.v1+cell": {
     "cellMetadata": {
      "byteLimit": 2048000,
      "rowLimit": 10000
     },
     "inputWidgets": {},
     "nuid": "0f138fb5-876e-4038-b08d-7ad6eb1881e0",
     "showTitle": false,
     "title": ""
    }
   },
   "outputs": [
    {
     "output_type": "stream",
     "name": "stdout",
     "output_type": "stream",
     "text": [
      "+-------------+------+-----+\n|DEPARTMENT_ID|SALARY|  SUM|\n+-------------+------+-----+\n|           10|  4400| 4400|\n|           20| 13000|13000|\n|           20|  6000|19000|\n|           30| 11000|11000|\n|           30|  3100|14100|\n+-------------+------+-----+\nonly showing top 5 rows\n\n"
     ]
    }
   ],
   "source": [
    "empDF.withColumn(\"SUM\", sum(\"SALARY\").over(windowSpec)).select(\"DEPARTMENT_ID\", \"SALARY\", \"SUM\").select(\"DEPARTMENT_ID\", \"SALARY\", \"SUM\").show(5)"
   ]
  },
  {
   "cell_type": "code",
   "execution_count": 0,
   "metadata": {
    "application/vnd.databricks.v1+cell": {
     "cellMetadata": {
      "byteLimit": 2048000,
      "rowLimit": 10000
     },
     "inputWidgets": {},
     "nuid": "6f7ec413-d79d-42cd-b05a-309df155a2dd",
     "showTitle": false,
     "title": ""
    }
   },
   "outputs": [],
   "source": [
    "windowSpec = Window.partitionBy(\"DEPARTMENT_ID\")\n",
    "# when partitionBy is defined without orderBy clause, it will return total sum against each row.\n",
    "# when partitionBy is defined witth orderBy clause, it'll return rolling/running sum for each department against rows"
   ]
  },
  {
   "cell_type": "code",
   "execution_count": 0,
   "metadata": {
    "application/vnd.databricks.v1+cell": {
     "cellMetadata": {
      "byteLimit": 2048000,
      "rowLimit": 10000
     },
     "inputWidgets": {},
     "nuid": "1a8cbf9f-6592-4e2b-a766-7914049f0f27",
     "showTitle": false,
     "title": ""
    }
   },
   "outputs": [
    {
     "output_type": "stream",
     "name": "stdout",
     "output_type": "stream",
     "text": [
      "+-------------+------+-----+\n|DEPARTMENT_ID|SALARY|  SUM|\n+-------------+------+-----+\n|           10|  4400| 4400|\n|           20| 13000|19000|\n|           20|  6000|19000|\n|           30| 11000|24900|\n|           30|  3100|24900|\n+-------------+------+-----+\nonly showing top 5 rows\n\n"
     ]
    }
   ],
   "source": [
    "empDF.withColumn(\"SUM\", sum(\"SALARY\").over(windowSpec)).select(\"DEPARTMENT_ID\", \"SALARY\", \"SUM\").select(\"DEPARTMENT_ID\", \"SALARY\", \"SUM\").show(5)"
   ]
  },
  {
   "cell_type": "code",
   "execution_count": 0,
   "metadata": {
    "application/vnd.databricks.v1+cell": {
     "cellMetadata": {
      "byteLimit": 2048000,
      "rowLimit": 10000
     },
     "inputWidgets": {},
     "nuid": "484d3ee8-98bf-4d94-b5e9-486ed774ddb2",
     "showTitle": false,
     "title": ""
    }
   },
   "outputs": [
    {
     "output_type": "stream",
     "name": "stdout",
     "output_type": "stream",
     "text": [
      "Out[128]: True"
     ]
    }
   ],
   "source": [
    "dbutils.fs.mkdirs(\"/Project_1_Attrition\")"
   ]
  },
  {
   "cell_type": "code",
   "execution_count": 0,
   "metadata": {
    "application/vnd.databricks.v1+cell": {
     "cellMetadata": {
      "byteLimit": 2048000,
      "rowLimit": 10000
     },
     "inputWidgets": {},
     "nuid": "fa572783-b350-4c18-8850-d9b073eb7780",
     "showTitle": false,
     "title": ""
    }
   },
   "outputs": [],
   "source": []
  },
  {
   "cell_type": "code",
   "execution_count": 0,
   "metadata": {
    "application/vnd.databricks.v1+cell": {
     "cellMetadata": {
      "byteLimit": 2048000,
      "rowLimit": 10000
     },
     "inputWidgets": {},
     "nuid": "60bebc57-44f5-4fde-8cd1-27a7edce8287",
     "showTitle": false,
     "title": ""
    }
   },
   "outputs": [],
   "source": []
  }
 ],
 "metadata": {
  "application/vnd.databricks.v1+notebook": {
   "dashboards": [],
   "environmentMetadata": null,
   "language": "python",
   "notebookMetadata": {
    "mostRecentlyExecutedCommandWithImplicitDF": {
     "commandId": 1115401426725252,
     "dataframes": [
      "_sqldf"
     ]
    },
    "pythonIndentUnit": 4
   },
   "notebookName": "2 Databricks Practice",
   "widgets": {}
  }
 },
 "nbformat": 4,
 "nbformat_minor": 0
}
