{
 "cells": [
  {
   "cell_type": "code",
   "execution_count": 0,
   "metadata": {
    "application/vnd.databricks.v1+cell": {
     "cellMetadata": {
      "byteLimit": 2048000,
      "rowLimit": 10000
     },
     "inputWidgets": {},
     "nuid": "a6647d9f-0591-43f0-8f00-db70876d369b",
     "showTitle": false,
     "title": ""
    }
   },
   "outputs": [
    {
     "output_type": "stream",
     "name": "stdout",
     "output_type": "stream",
     "text": [
      "Out[1]: True"
     ]
    }
   ],
   "source": [
    "dbutils.fs.mkdirs(\"/US_Healthcare\")"
   ]
  },
  {
   "cell_type": "code",
   "execution_count": 0,
   "metadata": {
    "application/vnd.databricks.v1+cell": {
     "cellMetadata": {
      "byteLimit": 2048000,
      "rowLimit": 10000
     },
     "inputWidgets": {},
     "nuid": "e84fef18-bce9-4371-8276-5d05a8805105",
     "showTitle": false,
     "title": ""
    }
   },
   "outputs": [
    {
     "output_type": "stream",
     "name": "stdout",
     "output_type": "stream",
     "text": [
      "Out[2]: []"
     ]
    }
   ],
   "source": [
    "dbutils.fs.ls(\"/US_Healthcare/\")"
   ]
  },
  {
   "cell_type": "code",
   "execution_count": 0,
   "metadata": {
    "application/vnd.databricks.v1+cell": {
     "cellMetadata": {
      "byteLimit": 2048000,
      "rowLimit": 10000
     },
     "inputWidgets": {},
     "nuid": "2d9896e7-2e46-44d6-a0de-ce16da2e42db",
     "showTitle": false,
     "title": ""
    }
   },
   "outputs": [],
   "source": [
    "from pyspark.sql.functions import *"
   ]
  },
  {
   "cell_type": "code",
   "execution_count": 0,
   "metadata": {
    "application/vnd.databricks.v1+cell": {
     "cellMetadata": {
      "byteLimit": 2048000,
      "rowLimit": 10000
     },
     "inputWidgets": {},
     "nuid": "fd193620-0598-4def-ac5a-333bab99b375",
     "showTitle": false,
     "title": ""
    }
   },
   "outputs": [],
   "source": [
    "from pyspark.sql.types import *"
   ]
  },
  {
   "cell_type": "code",
   "execution_count": 0,
   "metadata": {
    "application/vnd.databricks.v1+cell": {
     "cellMetadata": {
      "byteLimit": 2048000,
      "rowLimit": 10000
     },
     "inputWidgets": {},
     "nuid": "cd9f7024-5a11-4681-b89b-a154c7b83413",
     "showTitle": false,
     "title": ""
    }
   },
   "outputs": [],
   "source": [
    "from pyspark.sql.window import Window"
   ]
  },
  {
   "cell_type": "code",
   "execution_count": 0,
   "metadata": {
    "application/vnd.databricks.v1+cell": {
     "cellMetadata": {
      "byteLimit": 2048000,
      "rowLimit": 10000
     },
     "inputWidgets": {},
     "nuid": "533c2954-470d-4889-88e6-0301ec5959cb",
     "showTitle": false,
     "title": ""
    }
   },
   "outputs": [
    {
     "output_type": "stream",
     "name": "stdout",
     "output_type": "stream",
     "text": [
      "Out[6]: DataFrame[DESYNPUF_ID: string, CLM_ID: bigint, SEGMENT: int, CLM_FROM_DT: int, CLM_THRU_DT: int, PRVDR_NUM: string, CLM_PMT_AMT: double, NCH_PRMRY_PYR_CLM_PD_AMT: double, AT_PHYSN_NPI: bigint, OP_PHYSN_NPI: bigint, OT_PHYSN_NPI: bigint, NCH_BENE_BLOOD_DDCTBL_LBLTY_AM: double, ICD9_DGNS_CD_1: string, ICD9_DGNS_CD_2: string, ICD9_DGNS_CD_3: string, ICD9_DGNS_CD_4: string, ICD9_DGNS_CD_5: string, ICD9_DGNS_CD_6: string, ICD9_DGNS_CD_7: string, ICD9_DGNS_CD_8: string, ICD9_DGNS_CD_9: string, ICD9_DGNS_CD_10: string, ICD9_PRCDR_CD_1: int, ICD9_PRCDR_CD_2: string, ICD9_PRCDR_CD_3: string, ICD9_PRCDR_CD_4: string, ICD9_PRCDR_CD_5: string, ICD9_PRCDR_CD_6: string, NCH_BENE_PTB_DDCTBL_AMT: double, NCH_BENE_PTB_COINSRNC_AMT: double, ADMTNG_ICD9_DGNS_CD: string, HCPCS_CD_1: string, HCPCS_CD_2: string, HCPCS_CD_3: string, HCPCS_CD_4: string, HCPCS_CD_5: string, HCPCS_CD_6: string, HCPCS_CD_7: string, HCPCS_CD_8: string, HCPCS_CD_9: string, HCPCS_CD_10: string, HCPCS_CD_11: string, HCPCS_CD_12: string, HCPCS_CD_13: string, HCPCS_CD_14: string, HCPCS_CD_15: string, HCPCS_CD_16: string, HCPCS_CD_17: string, HCPCS_CD_18: string, HCPCS_CD_19: string, HCPCS_CD_20: string, HCPCS_CD_21: string, HCPCS_CD_22: string, HCPCS_CD_23: string, HCPCS_CD_24: string, HCPCS_CD_25: string, HCPCS_CD_26: string, HCPCS_CD_27: string, HCPCS_CD_28: string, HCPCS_CD_29: string, HCPCS_CD_30: string, HCPCS_CD_31: string, HCPCS_CD_32: string, HCPCS_CD_33: string, HCPCS_CD_34: string, HCPCS_CD_35: string, HCPCS_CD_36: string, HCPCS_CD_37: string, HCPCS_CD_38: string, HCPCS_CD_39: string, HCPCS_CD_40: string, HCPCS_CD_41: string, HCPCS_CD_42: string, HCPCS_CD_43: string, HCPCS_CD_44: string, HCPCS_CD_45: string]"
     ]
    }
   ],
   "source": [
    "spark.read.format(\"csv\").option(\"header\", True).option(\"inferSchema\", True).load(\"dbfs:/FileStore/US_Healthcare/DE1_0_2008_to_2010_Outpatient_Claims_Sample_1.csv\")"
   ]
  },
  {
   "cell_type": "code",
   "execution_count": 0,
   "metadata": {
    "application/vnd.databricks.v1+cell": {
     "cellMetadata": {
      "byteLimit": 2048000,
      "rowLimit": 10000
     },
     "inputWidgets": {},
     "nuid": "9c66d2a3-2e5a-46f4-96c0-d01f92b0a915",
     "showTitle": false,
     "title": ""
    }
   },
   "outputs": [],
   "source": [
    "df = spark.read.format(\"csv\").option(\"header\", True).option(\"inferSchema\", True).load(\"dbfs:/FileStore/US_Healthcare/DE1_0_2008_to_2010_Outpatient_Claims_Sample_1.csv\")"
   ]
  },
  {
   "cell_type": "code",
   "execution_count": 0,
   "metadata": {
    "application/vnd.databricks.v1+cell": {
     "cellMetadata": {
      "byteLimit": 2048000,
      "rowLimit": 10000
     },
     "inputWidgets": {},
     "nuid": "6235b19b-a825-42be-8d91-d0383f301f5c",
     "showTitle": false,
     "title": ""
    }
   },
   "outputs": [],
   "source": [
    "denied_claims_df = df.filter(col(\"CLM_PMT_AMT\") == 0)"
   ]
  },
  {
   "cell_type": "code",
   "execution_count": 0,
   "metadata": {
    "application/vnd.databricks.v1+cell": {
     "cellMetadata": {
      "byteLimit": 2048000,
      "rowLimit": 10000
     },
     "inputWidgets": {},
     "nuid": "6fb61998-9810-4646-8551-545dbec1fc76",
     "showTitle": false,
     "title": ""
    }
   },
   "outputs": [
    {
     "output_type": "display_data",
     "data": {
      "text/html": [
       "<style scoped>\n",
       "  .table-result-container {\n",
       "    max-height: 300px;\n",
       "    overflow: auto;\n",
       "  }\n",
       "  table, th, td {\n",
       "    border: 1px solid black;\n",
       "    border-collapse: collapse;\n",
       "  }\n",
       "  th, td {\n",
       "    padding: 5px;\n",
       "  }\n",
       "  th {\n",
       "    text-align: left;\n",
       "  }\n",
       "</style><div class='table-result-container'><table class='table-result'><thead style='background-color: white'><tr><th>DESYNPUF_ID</th><th>CLM_ID</th><th>SEGMENT</th><th>CLM_FROM_DT</th><th>CLM_THRU_DT</th><th>PRVDR_NUM</th><th>CLM_PMT_AMT</th><th>NCH_PRMRY_PYR_CLM_PD_AMT</th><th>AT_PHYSN_NPI</th><th>OP_PHYSN_NPI</th><th>OT_PHYSN_NPI</th><th>NCH_BENE_BLOOD_DDCTBL_LBLTY_AM</th><th>ICD9_DGNS_CD_1</th><th>ICD9_DGNS_CD_2</th><th>ICD9_DGNS_CD_3</th><th>ICD9_DGNS_CD_4</th><th>ICD9_DGNS_CD_5</th><th>ICD9_DGNS_CD_6</th><th>ICD9_DGNS_CD_7</th><th>ICD9_DGNS_CD_8</th><th>ICD9_DGNS_CD_9</th><th>ICD9_DGNS_CD_10</th><th>ICD9_PRCDR_CD_1</th><th>ICD9_PRCDR_CD_2</th><th>ICD9_PRCDR_CD_3</th><th>ICD9_PRCDR_CD_4</th><th>ICD9_PRCDR_CD_5</th><th>ICD9_PRCDR_CD_6</th><th>NCH_BENE_PTB_DDCTBL_AMT</th><th>NCH_BENE_PTB_COINSRNC_AMT</th><th>ADMTNG_ICD9_DGNS_CD</th><th>HCPCS_CD_1</th><th>HCPCS_CD_2</th><th>HCPCS_CD_3</th><th>HCPCS_CD_4</th><th>HCPCS_CD_5</th><th>HCPCS_CD_6</th><th>HCPCS_CD_7</th><th>HCPCS_CD_8</th><th>HCPCS_CD_9</th><th>HCPCS_CD_10</th><th>HCPCS_CD_11</th><th>HCPCS_CD_12</th><th>HCPCS_CD_13</th><th>HCPCS_CD_14</th><th>HCPCS_CD_15</th><th>HCPCS_CD_16</th><th>HCPCS_CD_17</th><th>HCPCS_CD_18</th><th>HCPCS_CD_19</th><th>HCPCS_CD_20</th><th>HCPCS_CD_21</th><th>HCPCS_CD_22</th><th>HCPCS_CD_23</th><th>HCPCS_CD_24</th><th>HCPCS_CD_25</th><th>HCPCS_CD_26</th><th>HCPCS_CD_27</th><th>HCPCS_CD_28</th><th>HCPCS_CD_29</th><th>HCPCS_CD_30</th><th>HCPCS_CD_31</th><th>HCPCS_CD_32</th><th>HCPCS_CD_33</th><th>HCPCS_CD_34</th><th>HCPCS_CD_35</th><th>HCPCS_CD_36</th><th>HCPCS_CD_37</th><th>HCPCS_CD_38</th><th>HCPCS_CD_39</th><th>HCPCS_CD_40</th><th>HCPCS_CD_41</th><th>HCPCS_CD_42</th><th>HCPCS_CD_43</th><th>HCPCS_CD_44</th><th>HCPCS_CD_45</th></tr></thead><tbody><tr><td>00048EF1F4791C68</td><td>542302281096061</td><td>1</td><td>20081018</td><td>20081018</td><td>4400MM</td><td>0.0</td><td>0.0</td><td>4528452681</td><td>null</td><td>null</td><td>0.0</td><td>4019</td><td>null</td><td>null</td><td>null</td><td>null</td><td>null</td><td>null</td><td>null</td><td>null</td><td>null</td><td>null</td><td>null</td><td>null</td><td>null</td><td>null</td><td>null</td><td>0.0</td><td>20.0</td><td>null</td><td>36415</td><td>80053</td><td>85007</td><td>71260</td><td>85025</td><td>null</td><td>null</td><td>null</td><td>null</td><td>null</td><td>null</td><td>null</td><td>null</td><td>null</td><td>null</td><td>null</td><td>null</td><td>null</td><td>null</td><td>null</td><td>null</td><td>null</td><td>null</td><td>null</td><td>null</td><td>null</td><td>null</td><td>null</td><td>null</td><td>null</td><td>null</td><td>null</td><td>null</td><td>null</td><td>null</td><td>null</td><td>null</td><td>null</td><td>null</td><td>null</td><td>null</td><td>null</td><td>null</td><td>null</td><td>null</td></tr><tr><td>00048EF1F4791C68</td><td>542232281509421</td><td>1</td><td>20090511</td><td>20090511</td><td>4401BJ</td><td>0.0</td><td>0.0</td><td>985868387</td><td>null</td><td>985868387</td><td>0.0</td><td>72764</td><td>null</td><td>null</td><td>null</td><td>null</td><td>null</td><td>null</td><td>null</td><td>null</td><td>null</td><td>null</td><td>null</td><td>null</td><td>null</td><td>null</td><td>null</td><td>0.0</td><td>0.0</td><td>null</td><td>36415</td><td>80061</td><td>80053</td><td>77280</td><td>85610</td><td>null</td><td>null</td><td>null</td><td>null</td><td>null</td><td>null</td><td>null</td><td>null</td><td>null</td><td>null</td><td>null</td><td>null</td><td>null</td><td>null</td><td>null</td><td>null</td><td>null</td><td>null</td><td>null</td><td>null</td><td>null</td><td>null</td><td>null</td><td>null</td><td>null</td><td>null</td><td>null</td><td>null</td><td>null</td><td>null</td><td>null</td><td>null</td><td>null</td><td>null</td><td>null</td><td>null</td><td>null</td><td>null</td><td>null</td><td>null</td></tr><tr><td>0004F0ABD505251D</td><td>542302281055787</td><td>1</td><td>20091205</td><td>20091225</td><td>41008M</td><td>0.0</td><td>0.0</td><td>8603670838</td><td>null</td><td>5882072092</td><td>0.0</td><td>71893</td><td>null</td><td>null</td><td>null</td><td>null</td><td>null</td><td>null</td><td>null</td><td>null</td><td>null</td><td>null</td><td>null</td><td>null</td><td>null</td><td>null</td><td>null</td><td>0.0</td><td>20.0</td><td>null</td><td>36415</td><td>97150</td><td>97110</td><td>97010</td><td>97110</td><td>97140</td><td>97140</td><td>97035</td><td>97112</td><td>97001</td><td>G0283</td><td>97140</td><td>97530</td><td>97140</td><td>G0283</td><td>G0283</td><td>G0283</td><td>97012</td><td>97110</td><td>G0283</td><td>97035</td><td>G0283</td><td>97116</td><td>97012</td><td>97110</td><td>97110</td><td>97035</td><td>null</td><td>null</td><td>null</td><td>null</td><td>null</td><td>null</td><td>null</td><td>null</td><td>null</td><td>null</td><td>null</td><td>null</td><td>null</td><td>null</td><td>null</td><td>null</td><td>null</td><td>null</td></tr><tr><td>0007F12A492FD25D</td><td>542202281627228</td><td>1</td><td>20080305</td><td>20080305</td><td>3401TG</td><td>0.0</td><td>0.0</td><td>6494876540</td><td>null</td><td>null</td><td>0.0</td><td>34663</td><td>null</td><td>null</td><td>null</td><td>null</td><td>null</td><td>null</td><td>null</td><td>null</td><td>null</td><td>null</td><td>null</td><td>null</td><td>null</td><td>null</td><td>null</td><td>0.0</td><td>70.0</td><td>78703</td><td>97530</td><td>null</td><td>null</td><td>null</td><td>null</td><td>null</td><td>null</td><td>null</td><td>null</td><td>null</td><td>null</td><td>null</td><td>null</td><td>null</td><td>null</td><td>null</td><td>null</td><td>null</td><td>null</td><td>null</td><td>null</td><td>null</td><td>null</td><td>null</td><td>null</td><td>null</td><td>null</td><td>null</td><td>null</td><td>null</td><td>null</td><td>null</td><td>null</td><td>null</td><td>null</td><td>null</td><td>null</td><td>null</td><td>null</td><td>null</td><td>null</td><td>null</td><td>null</td><td>null</td><td>null</td></tr><tr><td>0007F12A492FD25D</td><td>542952281531877</td><td>1</td><td>20080323</td><td>20080323</td><td>4225KN</td><td>0.0</td><td>0.0</td><td>4090717408</td><td>null</td><td>null</td><td>0.0</td><td>3598</td><td>7820</td><td>null</td><td>null</td><td>null</td><td>null</td><td>null</td><td>null</td><td>null</td><td>null</td><td>null</td><td>null</td><td>null</td><td>null</td><td>null</td><td>null</td><td>0.0</td><td>70.0</td><td>7845</td><td>92611</td><td>null</td><td>null</td><td>null</td><td>null</td><td>null</td><td>null</td><td>null</td><td>null</td><td>null</td><td>null</td><td>null</td><td>null</td><td>null</td><td>null</td><td>null</td><td>null</td><td>null</td><td>null</td><td>null</td><td>null</td><td>null</td><td>null</td><td>null</td><td>null</td><td>null</td><td>null</td><td>null</td><td>null</td><td>null</td><td>null</td><td>null</td><td>null</td><td>null</td><td>null</td><td>null</td><td>null</td><td>null</td><td>null</td><td>null</td><td>null</td><td>null</td><td>null</td><td>null</td><td>null</td></tr></tbody></table></div>"
      ]
     },
     "metadata": {
      "application/vnd.databricks.v1+output": {
       "addedWidgets": {},
       "aggData": [],
       "aggError": "",
       "aggOverflow": false,
       "aggSchema": [],
       "aggSeriesLimitReached": false,
       "aggType": "",
       "arguments": {},
       "columnCustomDisplayInfos": {},
       "data": [
        [
         "00048EF1F4791C68",
         542302281096061,
         1,
         20081018,
         20081018,
         "4400MM",
         0.0,
         0.0,
         4528452681,
         null,
         null,
         0.0,
         "4019",
         null,
         null,
         null,
         null,
         null,
         null,
         null,
         null,
         null,
         null,
         null,
         null,
         null,
         null,
         null,
         0.0,
         20.0,
         null,
         "36415",
         "80053",
         "85007",
         "71260",
         "85025",
         null,
         null,
         null,
         null,
         null,
         null,
         null,
         null,
         null,
         null,
         null,
         null,
         null,
         null,
         null,
         null,
         null,
         null,
         null,
         null,
         null,
         null,
         null,
         null,
         null,
         null,
         null,
         null,
         null,
         null,
         null,
         null,
         null,
         null,
         null,
         null,
         null,
         null,
         null,
         null
        ],
        [
         "00048EF1F4791C68",
         542232281509421,
         1,
         20090511,
         20090511,
         "4401BJ",
         0.0,
         0.0,
         985868387,
         null,
         985868387,
         0.0,
         "72764",
         null,
         null,
         null,
         null,
         null,
         null,
         null,
         null,
         null,
         null,
         null,
         null,
         null,
         null,
         null,
         0.0,
         0.0,
         null,
         "36415",
         "80061",
         "80053",
         "77280",
         "85610",
         null,
         null,
         null,
         null,
         null,
         null,
         null,
         null,
         null,
         null,
         null,
         null,
         null,
         null,
         null,
         null,
         null,
         null,
         null,
         null,
         null,
         null,
         null,
         null,
         null,
         null,
         null,
         null,
         null,
         null,
         null,
         null,
         null,
         null,
         null,
         null,
         null,
         null,
         null,
         null
        ],
        [
         "0004F0ABD505251D",
         542302281055787,
         1,
         20091205,
         20091225,
         "41008M",
         0.0,
         0.0,
         8603670838,
         null,
         5882072092,
         0.0,
         "71893",
         null,
         null,
         null,
         null,
         null,
         null,
         null,
         null,
         null,
         null,
         null,
         null,
         null,
         null,
         null,
         0.0,
         20.0,
         null,
         "36415",
         "97150",
         "97110",
         "97010",
         "97110",
         "97140",
         "97140",
         "97035",
         "97112",
         "97001",
         "G0283",
         "97140",
         "97530",
         "97140",
         "G0283",
         "G0283",
         "G0283",
         "97012",
         "97110",
         "G0283",
         "97035",
         "G0283",
         "97116",
         "97012",
         "97110",
         "97110",
         "97035",
         null,
         null,
         null,
         null,
         null,
         null,
         null,
         null,
         null,
         null,
         null,
         null,
         null,
         null,
         null,
         null,
         null,
         null
        ],
        [
         "0007F12A492FD25D",
         542202281627228,
         1,
         20080305,
         20080305,
         "3401TG",
         0.0,
         0.0,
         6494876540,
         null,
         null,
         0.0,
         "34663",
         null,
         null,
         null,
         null,
         null,
         null,
         null,
         null,
         null,
         null,
         null,
         null,
         null,
         null,
         null,
         0.0,
         70.0,
         "78703",
         "97530",
         null,
         null,
         null,
         null,
         null,
         null,
         null,
         null,
         null,
         null,
         null,
         null,
         null,
         null,
         null,
         null,
         null,
         null,
         null,
         null,
         null,
         null,
         null,
         null,
         null,
         null,
         null,
         null,
         null,
         null,
         null,
         null,
         null,
         null,
         null,
         null,
         null,
         null,
         null,
         null,
         null,
         null,
         null,
         null
        ],
        [
         "0007F12A492FD25D",
         542952281531877,
         1,
         20080323,
         20080323,
         "4225KN",
         0.0,
         0.0,
         4090717408,
         null,
         null,
         0.0,
         "3598",
         "7820",
         null,
         null,
         null,
         null,
         null,
         null,
         null,
         null,
         null,
         null,
         null,
         null,
         null,
         null,
         0.0,
         70.0,
         "7845",
         "92611",
         null,
         null,
         null,
         null,
         null,
         null,
         null,
         null,
         null,
         null,
         null,
         null,
         null,
         null,
         null,
         null,
         null,
         null,
         null,
         null,
         null,
         null,
         null,
         null,
         null,
         null,
         null,
         null,
         null,
         null,
         null,
         null,
         null,
         null,
         null,
         null,
         null,
         null,
         null,
         null,
         null,
         null,
         null,
         null
        ]
       ],
       "datasetInfos": [],
       "dbfsResultPath": null,
       "isJsonSchema": true,
       "metadata": {},
       "overflow": false,
       "plotOptions": {
        "customPlotOptions": {},
        "displayType": "table",
        "pivotAggregation": null,
        "pivotColumns": null,
        "xColumns": null,
        "yColumns": null
       },
       "removedWidgets": [],
       "schema": [
        {
         "metadata": "{}",
         "name": "DESYNPUF_ID",
         "type": "\"string\""
        },
        {
         "metadata": "{}",
         "name": "CLM_ID",
         "type": "\"long\""
        },
        {
         "metadata": "{}",
         "name": "SEGMENT",
         "type": "\"integer\""
        },
        {
         "metadata": "{}",
         "name": "CLM_FROM_DT",
         "type": "\"integer\""
        },
        {
         "metadata": "{}",
         "name": "CLM_THRU_DT",
         "type": "\"integer\""
        },
        {
         "metadata": "{}",
         "name": "PRVDR_NUM",
         "type": "\"string\""
        },
        {
         "metadata": "{}",
         "name": "CLM_PMT_AMT",
         "type": "\"double\""
        },
        {
         "metadata": "{}",
         "name": "NCH_PRMRY_PYR_CLM_PD_AMT",
         "type": "\"double\""
        },
        {
         "metadata": "{}",
         "name": "AT_PHYSN_NPI",
         "type": "\"long\""
        },
        {
         "metadata": "{}",
         "name": "OP_PHYSN_NPI",
         "type": "\"long\""
        },
        {
         "metadata": "{}",
         "name": "OT_PHYSN_NPI",
         "type": "\"long\""
        },
        {
         "metadata": "{}",
         "name": "NCH_BENE_BLOOD_DDCTBL_LBLTY_AM",
         "type": "\"double\""
        },
        {
         "metadata": "{}",
         "name": "ICD9_DGNS_CD_1",
         "type": "\"string\""
        },
        {
         "metadata": "{}",
         "name": "ICD9_DGNS_CD_2",
         "type": "\"string\""
        },
        {
         "metadata": "{}",
         "name": "ICD9_DGNS_CD_3",
         "type": "\"string\""
        },
        {
         "metadata": "{}",
         "name": "ICD9_DGNS_CD_4",
         "type": "\"string\""
        },
        {
         "metadata": "{}",
         "name": "ICD9_DGNS_CD_5",
         "type": "\"string\""
        },
        {
         "metadata": "{}",
         "name": "ICD9_DGNS_CD_6",
         "type": "\"string\""
        },
        {
         "metadata": "{}",
         "name": "ICD9_DGNS_CD_7",
         "type": "\"string\""
        },
        {
         "metadata": "{}",
         "name": "ICD9_DGNS_CD_8",
         "type": "\"string\""
        },
        {
         "metadata": "{}",
         "name": "ICD9_DGNS_CD_9",
         "type": "\"string\""
        },
        {
         "metadata": "{}",
         "name": "ICD9_DGNS_CD_10",
         "type": "\"string\""
        },
        {
         "metadata": "{}",
         "name": "ICD9_PRCDR_CD_1",
         "type": "\"integer\""
        },
        {
         "metadata": "{}",
         "name": "ICD9_PRCDR_CD_2",
         "type": "\"string\""
        },
        {
         "metadata": "{}",
         "name": "ICD9_PRCDR_CD_3",
         "type": "\"string\""
        },
        {
         "metadata": "{}",
         "name": "ICD9_PRCDR_CD_4",
         "type": "\"string\""
        },
        {
         "metadata": "{}",
         "name": "ICD9_PRCDR_CD_5",
         "type": "\"string\""
        },
        {
         "metadata": "{}",
         "name": "ICD9_PRCDR_CD_6",
         "type": "\"string\""
        },
        {
         "metadata": "{}",
         "name": "NCH_BENE_PTB_DDCTBL_AMT",
         "type": "\"double\""
        },
        {
         "metadata": "{}",
         "name": "NCH_BENE_PTB_COINSRNC_AMT",
         "type": "\"double\""
        },
        {
         "metadata": "{}",
         "name": "ADMTNG_ICD9_DGNS_CD",
         "type": "\"string\""
        },
        {
         "metadata": "{}",
         "name": "HCPCS_CD_1",
         "type": "\"string\""
        },
        {
         "metadata": "{}",
         "name": "HCPCS_CD_2",
         "type": "\"string\""
        },
        {
         "metadata": "{}",
         "name": "HCPCS_CD_3",
         "type": "\"string\""
        },
        {
         "metadata": "{}",
         "name": "HCPCS_CD_4",
         "type": "\"string\""
        },
        {
         "metadata": "{}",
         "name": "HCPCS_CD_5",
         "type": "\"string\""
        },
        {
         "metadata": "{}",
         "name": "HCPCS_CD_6",
         "type": "\"string\""
        },
        {
         "metadata": "{}",
         "name": "HCPCS_CD_7",
         "type": "\"string\""
        },
        {
         "metadata": "{}",
         "name": "HCPCS_CD_8",
         "type": "\"string\""
        },
        {
         "metadata": "{}",
         "name": "HCPCS_CD_9",
         "type": "\"string\""
        },
        {
         "metadata": "{}",
         "name": "HCPCS_CD_10",
         "type": "\"string\""
        },
        {
         "metadata": "{}",
         "name": "HCPCS_CD_11",
         "type": "\"string\""
        },
        {
         "metadata": "{}",
         "name": "HCPCS_CD_12",
         "type": "\"string\""
        },
        {
         "metadata": "{}",
         "name": "HCPCS_CD_13",
         "type": "\"string\""
        },
        {
         "metadata": "{}",
         "name": "HCPCS_CD_14",
         "type": "\"string\""
        },
        {
         "metadata": "{}",
         "name": "HCPCS_CD_15",
         "type": "\"string\""
        },
        {
         "metadata": "{}",
         "name": "HCPCS_CD_16",
         "type": "\"string\""
        },
        {
         "metadata": "{}",
         "name": "HCPCS_CD_17",
         "type": "\"string\""
        },
        {
         "metadata": "{}",
         "name": "HCPCS_CD_18",
         "type": "\"string\""
        },
        {
         "metadata": "{}",
         "name": "HCPCS_CD_19",
         "type": "\"string\""
        },
        {
         "metadata": "{}",
         "name": "HCPCS_CD_20",
         "type": "\"string\""
        },
        {
         "metadata": "{}",
         "name": "HCPCS_CD_21",
         "type": "\"string\""
        },
        {
         "metadata": "{}",
         "name": "HCPCS_CD_22",
         "type": "\"string\""
        },
        {
         "metadata": "{}",
         "name": "HCPCS_CD_23",
         "type": "\"string\""
        },
        {
         "metadata": "{}",
         "name": "HCPCS_CD_24",
         "type": "\"string\""
        },
        {
         "metadata": "{}",
         "name": "HCPCS_CD_25",
         "type": "\"string\""
        },
        {
         "metadata": "{}",
         "name": "HCPCS_CD_26",
         "type": "\"string\""
        },
        {
         "metadata": "{}",
         "name": "HCPCS_CD_27",
         "type": "\"string\""
        },
        {
         "metadata": "{}",
         "name": "HCPCS_CD_28",
         "type": "\"string\""
        },
        {
         "metadata": "{}",
         "name": "HCPCS_CD_29",
         "type": "\"string\""
        },
        {
         "metadata": "{}",
         "name": "HCPCS_CD_30",
         "type": "\"string\""
        },
        {
         "metadata": "{}",
         "name": "HCPCS_CD_31",
         "type": "\"string\""
        },
        {
         "metadata": "{}",
         "name": "HCPCS_CD_32",
         "type": "\"string\""
        },
        {
         "metadata": "{}",
         "name": "HCPCS_CD_33",
         "type": "\"string\""
        },
        {
         "metadata": "{}",
         "name": "HCPCS_CD_34",
         "type": "\"string\""
        },
        {
         "metadata": "{}",
         "name": "HCPCS_CD_35",
         "type": "\"string\""
        },
        {
         "metadata": "{}",
         "name": "HCPCS_CD_36",
         "type": "\"string\""
        },
        {
         "metadata": "{}",
         "name": "HCPCS_CD_37",
         "type": "\"string\""
        },
        {
         "metadata": "{}",
         "name": "HCPCS_CD_38",
         "type": "\"string\""
        },
        {
         "metadata": "{}",
         "name": "HCPCS_CD_39",
         "type": "\"string\""
        },
        {
         "metadata": "{}",
         "name": "HCPCS_CD_40",
         "type": "\"string\""
        },
        {
         "metadata": "{}",
         "name": "HCPCS_CD_41",
         "type": "\"string\""
        },
        {
         "metadata": "{}",
         "name": "HCPCS_CD_42",
         "type": "\"string\""
        },
        {
         "metadata": "{}",
         "name": "HCPCS_CD_43",
         "type": "\"string\""
        },
        {
         "metadata": "{}",
         "name": "HCPCS_CD_44",
         "type": "\"string\""
        },
        {
         "metadata": "{}",
         "name": "HCPCS_CD_45",
         "type": "\"string\""
        }
       ],
       "type": "table"
      }
     },
     "output_type": "display_data"
    }
   ],
   "source": [
    "\n",
    "limited_df_denied_claims = denied_claims_df.limit(5).display()"
   ]
  },
  {
   "cell_type": "code",
   "execution_count": 0,
   "metadata": {
    "application/vnd.databricks.v1+cell": {
     "cellMetadata": {
      "byteLimit": 2048000,
      "rowLimit": 10000
     },
     "inputWidgets": {},
     "nuid": "d5432567-e139-4b11-9293-2dd4391cc9d3",
     "showTitle": false,
     "title": ""
    }
   },
   "outputs": [
    {
     "output_type": "stream",
     "name": "stdout",
     "output_type": "stream",
     "text": [
      "+--------------+-----+\n|ICD9_DGNS_CD_1|count|\n+--------------+-----+\n|          4011|  700|\n|          4019|  690|\n|         78659|  125|\n|          2723|  124|\n|         78650|  123|\n|         78651|  112|\n|         OTHER|  111|\n|          2724|  110|\n|          2721|  103|\n|          2720|  101|\n+--------------+-----+\nonly showing top 10 rows\n\n"
     ]
    }
   ],
   "source": [
    "icd_denial_pattern= denied_claims_df.groupBy(\"ICD9_DGNS_CD_1\").count().orderBy(\"count\", ascending=False).show(10)"
   ]
  },
  {
   "cell_type": "code",
   "execution_count": 0,
   "metadata": {
    "application/vnd.databricks.v1+cell": {
     "cellMetadata": {
      "byteLimit": 2048000,
      "rowLimit": 10000
     },
     "inputWidgets": {},
     "nuid": "8cb1c590-a883-464f-9762-e530f08791c6",
     "showTitle": false,
     "title": ""
    }
   },
   "outputs": [
    {
     "output_type": "stream",
     "name": "stdout",
     "output_type": "stream",
     "text": [
      "+----------+-----+\n|HCPCS_CD_1|count|\n+----------+-----+\n|      null| 5867|\n|     36415| 5308|\n|     99213| 1268|\n|     99212| 1052|\n|     80053|  835|\n|     97110|  673|\n|     99214|  548|\n|     71020|  544|\n|     80048|  543|\n|     99211|  481|\n+----------+-----+\nonly showing top 10 rows\n\n"
     ]
    }
   ],
   "source": [
    "hcpcs_denial_pattaern = denied_claims_df.groupBy(\"HCPCS_CD_1\").count().orderBy(\"count\", ascending=False).show(10)"
   ]
  },
  {
   "cell_type": "code",
   "execution_count": 0,
   "metadata": {
    "application/vnd.databricks.v1+cell": {
     "cellMetadata": {
      "byteLimit": 2048000,
      "rowLimit": 10000
     },
     "inputWidgets": {},
     "nuid": "33afcba4-177b-412a-b209-3fcf583893b9",
     "showTitle": false,
     "title": ""
    }
   },
   "outputs": [
    {
     "output_type": "stream",
     "name": "stdout",
     "output_type": "stream",
     "text": [
      "+-------+-----------------+\n|summary|      CLM_PMT_AMT|\n+-------+-----------------+\n|  count|           790790|\n|   mean|283.9245691017843|\n| stddev|571.3927944312754|\n|    min|           -100.0|\n|    25%|             40.0|\n|    50%|             80.0|\n|    75%|            200.0|\n|    max|           3300.0|\n+-------+-----------------+\n\n"
     ]
    },
    {
     "output_type": "display_data",
     "data": {
      "image/png": "[encoded data removed]"
     },
     "metadata": {
      "application/vnd.databricks.v1+output": {
       "addedWidgets": {},
       "arguments": {},
       "data": "data:image/png;base64,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\n",
       "datasetInfos": [],
       "metadata": {},
       "removedWidgets": [],
       "type": "image"
      }
     },
     "output_type": "display_data"
    }
   ],
   "source": [
    "# Calculate summary statistics for payment amounts\n",
    "payment_summary = df.select(\"CLM_PMT_AMT\").summary(\"count\", \"mean\", \"stddev\", \"min\", \"25%\", \"50%\", \"75%\", \"max\")\n",
    "\n",
    "# Display the summary statistics\n",
    "payment_summary.show()\n",
    "\n",
    "# Visualize the distribution of payment amounts\n",
    "import matplotlib.pyplot as plt\n",
    "import seaborn as sns\n",
    "\n",
    "payment_amounts = df.select(\"CLM_PMT_AMT\").toPandas()\n",
    "plt.figure(figsize=(12, 6))\n",
    "sns.histplot(payment_amounts[\"CLM_PMT_AMT\"], bins=30, kde=True)\n",
    "plt.title(\"Distribution of Payment Amounts\")\n",
    "plt.xlabel(\"Payment Amount\")\n",
    "plt.ylabel(\"Frequency\")\n",
    "plt.show()\n",
    "\n"
   ]
  },
  {
   "cell_type": "code",
   "execution_count": 0,
   "metadata": {
    "application/vnd.databricks.v1+cell": {
     "cellMetadata": {
      "byteLimit": 2048000,
      "rowLimit": 10000
     },
     "inputWidgets": {},
     "nuid": "1ac6e6fb-8a41-4b0b-9d17-4d0554314b64",
     "showTitle": false,
     "title": ""
    }
   },
   "outputs": [],
   "source": [
    "\n",
    "# Filter the DataFrame for negative payment amounts\n",
    "negative_pmts_df = df.filter(col(\"CLM_PMT_AMT\")<0)"
   ]
  },
  {
   "cell_type": "code",
   "execution_count": 0,
   "metadata": {
    "application/vnd.databricks.v1+cell": {
     "cellMetadata": {
      "byteLimit": 2048000,
      "rowLimit": 10000
     },
     "inputWidgets": {},
     "nuid": "42d0a382-a79b-4626-ae9a-a942cb787c37",
     "showTitle": false,
     "title": ""
    }
   },
   "outputs": [
    {
     "output_type": "stream",
     "name": "stdout",
     "output_type": "stream",
     "text": [
      "+-------+-------------------+\n|summary|        CLM_PMT_AMT|\n+-------+-------------------+\n|  count|               2566|\n|   mean|-31.336710833982853|\n| stddev|  21.09955129960387|\n|    min|             -100.0|\n|    25%|              -50.0|\n|    50%|              -30.0|\n|    75%|              -10.0|\n|    max|              -10.0|\n+-------+-------------------+\n\n"
     ]
    }
   ],
   "source": [
    "# negative_pmts_df.display()\n",
    "\n",
    "# Calculate summary statistics for the negative payment amounts\n",
    "negative_pmts_summary = negative_pmts_df.select(\"CLM_PMT_AMT\").summary(\"count\", \"mean\", \"stddev\", \"min\", \"25%\", \"50%\", \"75%\", \"max\")\n",
    "\n",
    "# Display the summary statistics\n",
    "negative_pmts_summary.show()"
   ]
  },
  {
   "cell_type": "code",
   "execution_count": 0,
   "metadata": {
    "application/vnd.databricks.v1+cell": {
     "cellMetadata": {
      "byteLimit": 2048000,
      "rowLimit": 10000
     },
     "inputWidgets": {},
     "nuid": "2ab337b5-1608-45e9-817d-7e086ddb8502",
     "showTitle": false,
     "title": ""
    }
   },
   "outputs": [
    {
     "output_type": "display_data",
     "data": {
      "image/png": "[encoded data removed]"
     },
     "metadata": {
      "application/vnd.databricks.v1+output": {
       "addedWidgets": {},
       "arguments": {},
       "data": "data:image/png;base64,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\n",
       "datasetInfos": [],
       "metadata": {},
       "removedWidgets": [],
       "type": "image"
      }
     },
     "output_type": "display_data"
    }
   ],
   "source": [
    "import matplotlib.pyplot as plt\n",
    "\n",
    "import seaborn as sns\n",
    "\n",
    "\n",
    "negative_pmt_amt = negative_pmts_df.select(\"CLM_PMT_AMT\").toPandas()\n",
    "\n",
    "plt.figure(figsize=(12,6))\n",
    "\n",
    "sns.histplot(negative_pmt_amt[\"CLM_PMT_AMT\"], bins=30, kde = True)\n",
    "\n",
    "plt.title(\"Distribution of Negative Payments\")\n",
    "\n",
    "plt.xlabel(\"Negative_Payment_Amount\")\n",
    "\n",
    "plt.ylabel(\"Frequency\")\n",
    "\n",
    "plt.show()"
   ]
  },
  {
   "cell_type": "code",
   "execution_count": 0,
   "metadata": {
    "application/vnd.databricks.v1+cell": {
     "cellMetadata": {
      "byteLimit": 2048000,
      "rowLimit": 10000
     },
     "inputWidgets": {},
     "nuid": "9642c382-0b85-4518-b253-abad2a1e8850",
     "showTitle": false,
     "title": ""
    }
   },
   "outputs": [],
   "source": [
    "# df.groupBy(\"HCPCS_CD_1\").count().orderBy(\"count\", ascending=False)\n",
    "\n",
    "procedure_count_df = df.groupBy(\"HCPCS_CD_1\").count().orderBy(\"count\", ascending = False)\n"
   ]
  },
  {
   "cell_type": "code",
   "execution_count": 0,
   "metadata": {
    "application/vnd.databricks.v1+cell": {
     "cellMetadata": {
      "byteLimit": 2048000,
      "rowLimit": 10000
     },
     "inputWidgets": {},
     "nuid": "f1c9cf8b-5ea9-474f-9a71-2d275b9ddeba",
     "showTitle": false,
     "title": ""
    }
   },
   "outputs": [
    {
     "output_type": "stream",
     "name": "stdout",
     "output_type": "stream",
     "text": [
      "+----------+------+\n|HCPCS_CD_1| count|\n+----------+------+\n|     36415|161373|\n|      null|144530|\n|     99213| 31792|\n|     99212| 23658|\n|     80053| 22883|\n|     A4657| 20237|\n|     85610| 19812|\n|     97110| 18410|\n|     99214| 14890|\n|     80048| 13866|\n|     G0202| 13462|\n|     71020| 12244|\n|     99211| 11512|\n|     G0283|  5701|\n|     97001|  5484|\n|     77080|  5414|\n|     87086|  5400|\n|     90658|  5300|\n|     88305|  5085|\n|     A0425|  4865|\n+----------+------+\nonly showing top 20 rows\n\n"
     ]
    }
   ],
   "source": [
    "procedure_count_df.show()"
   ]
  },
  {
   "cell_type": "code",
   "execution_count": 0,
   "metadata": {
    "application/vnd.databricks.v1+cell": {
     "cellMetadata": {
      "byteLimit": 2048000,
      "rowLimit": 10000
     },
     "inputWidgets": {},
     "nuid": "85e638e9-3ad5-4d45-8d30-8d33ce93acc6",
     "showTitle": false,
     "title": ""
    }
   },
   "outputs": [],
   "source": [
    "    top_procedure_pmt = procedure_count_df.limit(10).toPandas() \n",
    "    # Limit to top 10 for better visualization"
   ]
  },
  {
   "cell_type": "code",
   "execution_count": 0,
   "metadata": {
    "application/vnd.databricks.v1+cell": {
     "cellMetadata": {
      "byteLimit": 2048000,
      "rowLimit": 10000
     },
     "inputWidgets": {},
     "nuid": "0ff303cc-6bc5-4b54-ae8f-432e803ce067",
     "showTitle": false,
     "title": ""
    }
   },
   "outputs": [],
   "source": [
    "import matplotlib.pyplot as plt\n",
    "\n",
    "import seaborn as sns"
   ]
  },
  {
   "cell_type": "code",
   "execution_count": 0,
   "metadata": {
    "application/vnd.databricks.v1+cell": {
     "cellMetadata": {
      "byteLimit": 2048000,
      "rowLimit": 10000
     },
     "inputWidgets": {},
     "nuid": "7a1a91c8-acc1-498b-809c-336c347dd554",
     "showTitle": false,
     "title": ""
    }
   },
   "outputs": [
    {
     "output_type": "display_data",
     "data": {
      "image/png": "[encoded data removed]"
     },
     "metadata": {
      "application/vnd.databricks.v1+output": {
       "addedWidgets": {},
       "arguments": {},
       "data": "data:image/png;base64,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\n",
       "datasetInfos": [],
       "metadata": {},
       "removedWidgets": [],
       "type": "image"
      }
     },
     "output_type": "display_data"
    }
   ],
   "source": [
    "plt.figure(figsize=(12,8))\n",
    "sns.barplot(x= \"HCPCS_CD_1\", y= \"count\", data= top_procedure_pmt)\n",
    "plt.title(\"Top 10 Procedure Payments\")\n",
    "plt.xlabel(\"Procedure Code\")\n",
    "plt.ylabel(\"Frequency\")\n",
    "plt.show()"
   ]
  },
  {
   "cell_type": "code",
   "execution_count": 0,
   "metadata": {
    "application/vnd.databricks.v1+cell": {
     "cellMetadata": {
      "byteLimit": 2048000,
      "rowLimit": 10000
     },
     "inputWidgets": {},
     "nuid": "d3a3cd25-3310-445e-a5a0-0b87ef12f496",
     "showTitle": false,
     "title": ""
    }
   },
   "outputs": [],
   "source": [
    "diagnosis_counts_df = df.groupBy(\"ICD9_DGNS_CD_1\").count().orderBy(\"count\", ascending = False)\n",
    "# Count the frequency of each diagnosis code"
   ]
  },
  {
   "cell_type": "code",
   "execution_count": 0,
   "metadata": {
    "application/vnd.databricks.v1+cell": {
     "cellMetadata": {
      "byteLimit": 2048000,
      "rowLimit": 10000
     },
     "inputWidgets": {},
     "nuid": "697ff4d0-41b7-4e30-9334-0d9be68325de",
     "showTitle": false,
     "title": ""
    }
   },
   "outputs": [],
   "source": [
    "top_diagnosis_pmt = diagnosis_counts_df.limit(10).toPandas()\n",
    "# Limit to top 10 for better visualization"
   ]
  },
  {
   "cell_type": "code",
   "execution_count": 0,
   "metadata": {
    "application/vnd.databricks.v1+cell": {
     "cellMetadata": {
      "byteLimit": 2048000,
      "rowLimit": 10000
     },
     "inputWidgets": {},
     "nuid": "0295a732-7dcd-4382-af34-319ba2d49163",
     "showTitle": false,
     "title": ""
    }
   },
   "outputs": [
    {
     "output_type": "display_data",
     "data": {
      "image/png": "[encoded data removed]"
     },
     "metadata": {
      "application/vnd.databricks.v1+output": {
       "addedWidgets": {},
       "arguments": {},
       "data": "data:image/png;base64,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\n",
       "datasetInfos": [],
       "metadata": {},
       "removedWidgets": [],
       "type": "image"
      }
     },
     "output_type": "display_data"
    }
   ],
   "source": [
    "plt.figure(figsize=(12,8))\n",
    "sns.barplot(x= \"ICD9_DGNS_CD_1\", y= \"count\", data= top_diagnosis_pmt)\n",
    "plt.title(\"Top Diagnosis Payments\")\n",
    "plt.xlabel(\"Diagnosis Code\")\n",
    "plt.ylabel(\"Frequency\")\n",
    "plt.show()"
   ]
  },
  {
   "cell_type": "code",
   "execution_count": 0,
   "metadata": {
    "application/vnd.databricks.v1+cell": {
     "cellMetadata": {
      "byteLimit": 2048000,
      "rowLimit": 10000
     },
     "inputWidgets": {},
     "nuid": "3e38f94b-67b2-4796-b69f-097bd602ab2d",
     "showTitle": false,
     "title": ""
    }
   },
   "outputs": [
    {
     "output_type": "display_data",
     "data": {
      "text/html": [
       "<style scoped>\n",
       "  .table-result-container {\n",
       "    max-height: 300px;\n",
       "    overflow: auto;\n",
       "  }\n",
       "  table, th, td {\n",
       "    border: 1px solid black;\n",
       "    border-collapse: collapse;\n",
       "  }\n",
       "  th, td {\n",
       "    padding: 5px;\n",
       "  }\n",
       "  th {\n",
       "    text-align: left;\n",
       "  }\n",
       "</style><div class='table-result-container'><table class='table-result'><thead style='background-color: white'><tr><th>ICD9_DGNS_CD_1</th><th>TOTAL_PAYMENT</th></tr></thead><tbody><tr><td>OTHER</td><td>7748400.0</td></tr><tr><td>null</td><td>7498650.0</td></tr><tr><td>V562</td><td>2215270.0</td></tr><tr><td>V560</td><td>2144310.0</td></tr><tr><td>7925</td><td>2125980.0</td></tr><tr><td>V5631</td><td>2122630.0</td></tr><tr><td>5855</td><td>2117530.0</td></tr><tr><td>V568</td><td>2113200.0</td></tr><tr><td>5856</td><td>2106320.0</td></tr><tr><td>5859</td><td>2101030.0</td></tr></tbody></table></div>"
      ]
     },
     "metadata": {
      "application/vnd.databricks.v1+output": {
       "addedWidgets": {},
       "aggData": [],
       "aggError": "",
       "aggOverflow": false,
       "aggSchema": [],
       "aggSeriesLimitReached": false,
       "aggType": "",
       "arguments": {},
       "columnCustomDisplayInfos": {},
       "data": [
        [
         "OTHER",
         7748400.0
        ],
        [
         null,
         7498650.0
        ],
        [
         "V562",
         2215270.0
        ],
        [
         "V560",
         2144310.0
        ],
        [
         "7925",
         2125980.0
        ],
        [
         "V5631",
         2122630.0
        ],
        [
         "5855",
         2117530.0
        ],
        [
         "V568",
         2113200.0
        ],
        [
         "5856",
         2106320.0
        ],
        [
         "5859",
         2101030.0
        ]
       ],
       "datasetInfos": [],
       "dbfsResultPath": null,
       "isJsonSchema": true,
       "metadata": {},
       "overflow": false,
       "plotOptions": {
        "customPlotOptions": {},
        "displayType": "table",
        "pivotAggregation": null,
        "pivotColumns": null,
        "xColumns": null,
        "yColumns": null
       },
       "removedWidgets": [],
       "schema": [
        {
         "metadata": "{}",
         "name": "ICD9_DGNS_CD_1",
         "type": "\"string\""
        },
        {
         "metadata": "{}",
         "name": "TOTAL_PAYMENT",
         "type": "\"double\""
        }
       ],
       "type": "table"
      }
     },
     "output_type": "display_data"
    },
    {
     "output_type": "display_data",
     "data": {
      "text/plain": [
       "Databricks visualization. Run in Databricks to view."
      ]
     },
     "metadata": {
      "application/vnd.databricks.v1.subcommand+json": {
       "baseErrorDetails": null,
       "bindings": {},
       "collapsed": false,
       "command": "%python\n__backend_agg_display_orig = display\n__backend_agg_dfs = []\ndef __backend_agg_display_new(df):\n    __backend_agg_df_modules = [\"pandas.core.frame\", \"databricks.koalas.frame\", \"pyspark.sql.dataframe\", \"pyspark.pandas.frame\", \"pyspark.sql.connect.dataframe\"]\n    if (type(df).__module__ in __backend_agg_df_modules and type(df).__name__ == 'DataFrame') or isinstance(df, list):\n        __backend_agg_dfs.append(df)\n\ndisplay = __backend_agg_display_new\n\ndef __backend_agg_user_code_fn():\n    import base64\n    exec(base64.standard_b64decode(\"IyBBZ2dyZWdhdGUgcGF5bWVudCBhbW91bnRzIGJ5IGRpYWdub3NpcyBjb2RlCmRpYWdub3Npc19wYXltZW50X3RvdGFscyA9IGRmLmdyb3VwQnkoIklDRDlfREdOU19DRF8xIikuc3VtKCJDTE1fUE1UX0FNVCIpXAogICAgICAgICAgICAgICAgICAgICAgICAgICAgLndpdGhDb2x1bW5SZW5hbWVkKCJzdW0oQ0xNX1BNVF9BTVQpIiwgIlRPVEFMX1BBWU1FTlQiKVwKICAgICAgICAgICAgICAgICAgICAgICAgICAgIC5vcmRlckJ5KCJUT1RBTF9QQVlNRU5UIiwgYXNjZW5kaW5nPSBGYWxzZSkubGltaXQoMTApLmRpc3BsYXkoKQ==\").decode())\n\ntry:\n    # run user code\n    __backend_agg_user_code_fn()\n\n    #reset display function\n    display = __backend_agg_display_orig\n\n    if len(__backend_agg_dfs) > 0:\n        # create a temp view\n        if type(__backend_agg_dfs[0]).__module__ == \"databricks.koalas.frame\":\n            # koalas dataframe\n            __backend_agg_dfs[0].to_spark().createOrReplaceTempView(\"DatabricksViewb339a2f\")\n        elif type(__backend_agg_dfs[0]).__module__ == \"pandas.core.frame\" or isinstance(__backend_agg_dfs[0], list):\n            # pandas dataframe\n            spark.createDataFrame(__backend_agg_dfs[0]).createOrReplaceTempView(\"DatabricksViewb339a2f\")\n        else:\n            __backend_agg_dfs[0].createOrReplaceTempView(\"DatabricksViewb339a2f\")\n        #run backend agg\n        display(spark.sql(\"\"\"WITH q AS (select * from DatabricksViewb339a2f) SELECT `ICD9_DGNS_CD_1`,SUM(`TOTAL_PAYMENT`) `column_ca30d7256` FROM q GROUP BY `ICD9_DGNS_CD_1`\"\"\"))\n    else:\n        displayHTML(\"dataframe no longer exists. If you're using dataframe.display(), use display(dataframe) instead.\")\n\n\nfinally:\n    spark.sql(\"drop view if exists DatabricksViewb339a2f\")\n    display = __backend_agg_display_orig\n    del __backend_agg_display_new\n    del __backend_agg_display_orig\n    del __backend_agg_dfs\n    del __backend_agg_user_code_fn\n\n",
       "commandTitle": "Visualization 1",
       "commandType": "auto",
       "commandVersion": 0,
       "commentThread": [],
       "commentsVisible": false,
       "contentSha256Hex": null,
       "customPlotOptions": {
        "redashChart": [
         {
          "key": "type",
          "value": "CHART"
         },
         {
          "key": "options",
          "value": {
           "alignYAxesAtZero": true,
           "coefficient": 1,
           "columnConfigurationMap": {
            "x": {
             "column": "ICD9_DGNS_CD_1",
             "id": "column_ca30d7255"
            },
            "y": [
             {
              "column": "TOTAL_PAYMENT",
              "id": "column_ca30d7256",
              "transform": "SUM"
             }
            ]
           },
           "dateTimeFormat": "DD/MM/YYYY HH:mm",
           "direction": {
            "type": "counterclockwise"
           },
           "error_y": {
            "type": "data",
            "visible": true
           },
           "globalSeriesType": "column",
           "isAggregationOn": true,
           "legend": {
            "traceorder": "normal"
           },
           "missingValuesAsZero": true,
           "numberFormat": "0,0.[00000]",
           "percentFormat": "0[.]00%",
           "series": {
            "error_y": {
             "type": "data",
             "visible": true
            },
            "stacking": null
           },
           "seriesOptions": {
            "column_ca30d7256": {
             "name": "TOTAL_PAYMENT",
             "yAxis": 0
            }
           },
           "showDataLabels": false,
           "sizemode": "diameter",
           "sortX": false,
           "sortY": true,
           "swappedAxes": false,
           "textFormat": "",
           "useAggregationsUi": true,
           "valuesOptions": {},
           "version": 2,
           "xAxis": {
            "labels": {
             "enabled": true
            },
            "type": "-"
           },
           "yAxis": [
            {
             "type": "-"
            },
            {
             "opposite": true,
             "type": "-"
            }
           ]
          }
         }
        ]
       },
       "datasetPreviewNameToCmdIdMap": {},
       "diffDeletes": [],
       "diffInserts": [],
       "displayType": "redashChart",
       "error": null,
       "errorDetails": null,
       "errorSummary": null,
       "errorTraceType": null,
       "finishTime": 0,
       "globalVars": {},
       "guid": "",
       "height": "auto",
       "hideCommandCode": false,
       "hideCommandResult": false,
       "iPythonMetadata": null,
       "inputWidgets": {},
       "isLockedInExamMode": false,
       "latestUser": "a user",
       "latestUserId": null,
       "listResultMetadata": null,
       "metadata": {},
       "nuid": "128836bf-c93e-4f98-9421-316ac3399611",
       "origId": 0,
       "parentHierarchy": [],
       "pivotAggregation": null,
       "pivotColumns": null,
       "position": 10.0,
       "resultDbfsErrorMessage": null,
       "resultDbfsStatus": "INLINED_IN_TREE",
       "results": null,
       "showCommandTitle": false,
       "startTime": 0,
       "state": "input",
       "streamStates": {},
       "subcommandOptions": {
        "queryPlan": {
         "groups": [
          {
           "column": "ICD9_DGNS_CD_1",
           "type": "column"
          }
         ],
         "selects": [
          {
           "column": "ICD9_DGNS_CD_1",
           "type": "column"
          },
          {
           "alias": "column_ca30d7256",
           "args": [
            {
             "column": "TOTAL_PAYMENT",
             "type": "column"
            }
           ],
           "function": "SUM",
           "type": "function"
          }
         ]
        }
       },
       "submitTime": 0,
       "subtype": "tableResultSubCmd.visualization",
       "tableResultIndex": 0,
       "useConsistentColors": false,
       "version": "CommandV1",
       "width": "auto",
       "workflows": [],
       "xColumns": null,
       "yColumns": null
      }
     },
     "output_type": "display_data"
    }
   ],
   "source": [
    "# Aggregate payment amounts by diagnosis code\n",
    "diagnosis_payment_totals = df.groupBy(\"ICD9_DGNS_CD_1\").sum(\"CLM_PMT_AMT\")\\\n",
    "                            .withColumnRenamed(\"sum(CLM_PMT_AMT)\", \"TOTAL_PAYMENT\")\\\n",
    "                            .orderBy(\"TOTAL_PAYMENT\", ascending= False).limit(10).display()"
   ]
  },
  {
   "cell_type": "code",
   "execution_count": 0,
   "metadata": {
    "application/vnd.databricks.v1+cell": {
     "cellMetadata": {
      "byteLimit": 2048000,
      "rowLimit": 10000
     },
     "inputWidgets": {},
     "nuid": "f7985223-7779-4bd4-bc4e-7c681dc2a91a",
     "showTitle": false,
     "title": ""
    }
   },
   "outputs": [],
   "source": [
    "# Aggregate payment amounts by procedure code\n",
    "procedure_payment_totals = df.groupBy(\"HCPCS_CD_1\").sum(\"CLM_PMT_AMT\")\\\n",
    "                            .withColumnRenamed(\"sum(CLM_PMT_AMT)\", \"TOTAL_PAYMENT\")\\\n",
    "                            .orderBy(col(\"TOTAL_PAYMENT\").desc())"
   ]
  },
  {
   "cell_type": "code",
   "execution_count": 0,
   "metadata": {
    "application/vnd.databricks.v1+cell": {
     "cellMetadata": {
      "byteLimit": 2048000,
      "rowLimit": 10000
     },
     "inputWidgets": {},
     "nuid": "05363abe-0fc5-43ac-9583-5dd63e4b3d4c",
     "showTitle": false,
     "title": ""
    }
   },
   "outputs": [
    {
     "output_type": "display_data",
     "data": {
      "image/png": "[encoded data removed]"
     },
     "metadata": {
      "application/vnd.databricks.v1+output": {
       "addedWidgets": {},
       "arguments": {},
       "data": "data:image/png;base64,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\n",
       "datasetInfos": [],
       "metadata": {},
       "removedWidgets": [],
       "type": "image"
      }
     },
     "output_type": "display_data"
    }
   ],
   "source": [
    "# Create a bar plot visualization for top payments by procedure code\n",
    "\n",
    "top_procedure_pmt_amt = procedure_payment_totals.orderBy(\"TOTAL_PAYMENT\", ascending= False).limit(10).toPandas()\n",
    "\n",
    "plt.figure(figsize=(12,8))\n",
    "sns.barplot(x= \"HCPCS_CD_1\", y= \"TOTAL_PAYMENT\", data= top_procedure_pmt_amt)\n",
    "plt.title(\"Total Payments for Top Procedure Code\")\n",
    "plt.xlabel(\"Procedure Code\")\n",
    "plt.ylabel(\"Total Payment\")\n",
    "plt.show()"
   ]
  },
  {
   "cell_type": "code",
   "execution_count": 0,
   "metadata": {
    "application/vnd.databricks.v1+cell": {
     "cellMetadata": {},
     "inputWidgets": {},
     "nuid": "f0ab2ea7-ea5b-49d5-a6ea-21ba9c1f925a",
     "showTitle": false,
     "title": ""
    }
   },
   "outputs": [
    {
     "output_type": "stream",
     "name": "stdout",
     "output_type": "stream",
     "text": [
      "Out[122]: DataFrame[DESYNPUF_ID: string, CLM_ID: bigint, SEGMENT: int, CLM_FROM_DT: int, CLM_THRU_DT: int, PRVDR_NUM: string, CLM_PMT_AMT: double, NCH_PRMRY_PYR_CLM_PD_AMT: double, AT_PHYSN_NPI: bigint, OP_PHYSN_NPI: bigint, OT_PHYSN_NPI: bigint, NCH_BENE_BLOOD_DDCTBL_LBLTY_AM: double, ICD9_DGNS_CD_1: string, ICD9_DGNS_CD_2: string, ICD9_DGNS_CD_3: string, ICD9_DGNS_CD_4: string, ICD9_DGNS_CD_5: string, ICD9_DGNS_CD_6: string, ICD9_DGNS_CD_7: string, ICD9_DGNS_CD_8: string, ICD9_DGNS_CD_9: string, ICD9_DGNS_CD_10: string, ICD9_PRCDR_CD_1: int, ICD9_PRCDR_CD_2: string, ICD9_PRCDR_CD_3: string, ICD9_PRCDR_CD_4: string, ICD9_PRCDR_CD_5: string, ICD9_PRCDR_CD_6: string, NCH_BENE_PTB_DDCTBL_AMT: double, NCH_BENE_PTB_COINSRNC_AMT: double, ADMTNG_ICD9_DGNS_CD: string, HCPCS_CD_1: string, HCPCS_CD_2: string, HCPCS_CD_3: string, HCPCS_CD_4: string, HCPCS_CD_5: string, HCPCS_CD_6: string, HCPCS_CD_7: string, HCPCS_CD_8: string, HCPCS_CD_9: string, HCPCS_CD_10: string, HCPCS_CD_11: string, HCPCS_CD_12: string, HCPCS_CD_13: string, HCPCS_CD_14: string, HCPCS_CD_15: string, HCPCS_CD_16: string, HCPCS_CD_17: string, HCPCS_CD_18: string, HCPCS_CD_19: string, HCPCS_CD_20: string, HCPCS_CD_21: string, HCPCS_CD_22: string, HCPCS_CD_23: string, HCPCS_CD_24: string, HCPCS_CD_25: string, HCPCS_CD_26: string, HCPCS_CD_27: string, HCPCS_CD_28: string, HCPCS_CD_29: string, HCPCS_CD_30: string, HCPCS_CD_31: string, HCPCS_CD_32: string, HCPCS_CD_33: string, HCPCS_CD_34: string, HCPCS_CD_35: string, HCPCS_CD_36: string, HCPCS_CD_37: string, HCPCS_CD_38: string, HCPCS_CD_39: string, HCPCS_CD_40: string, HCPCS_CD_41: string, HCPCS_CD_42: string, HCPCS_CD_43: string, HCPCS_CD_44: string, HCPCS_CD_45: string]"
     ]
    }
   ],
   "source": [
    "df.filter(col(\"CLM_PMT_AMT\") == 0)"
   ]
  },
  {
   "cell_type": "code",
   "execution_count": 0,
   "metadata": {
    "application/vnd.databricks.v1+cell": {
     "cellMetadata": {
      "byteLimit": 2048000,
      "rowLimit": 10000
     },
     "inputWidgets": {},
     "nuid": "52cfde02-b652-423b-860d-1b62f0034e05",
     "showTitle": false,
     "title": ""
    }
   },
   "outputs": [],
   "source": [
    "df.createOrReplaceTempView(\"CLAIMS\")"
   ]
  },
  {
   "cell_type": "code",
   "execution_count": 0,
   "metadata": {
    "application/vnd.databricks.v1+cell": {
     "cellMetadata": {
      "byteLimit": 2048000,
      "rowLimit": 10000
     },
     "inputWidgets": {},
     "nuid": "6a3d5cda-be17-4950-acce-bfaccaa89bfd",
     "showTitle": false,
     "title": ""
    }
   },
   "outputs": [],
   "source": [
    "denied_claims_df.createOrReplaceTempView(\"DENIED_CLAIMS\")"
   ]
  },
  {
   "cell_type": "code",
   "execution_count": 0,
   "metadata": {
    "application/vnd.databricks.v1+cell": {
     "cellMetadata": {
      "byteLimit": 2048000,
      "rowLimit": 10000
     },
     "inputWidgets": {},
     "nuid": "25f357b4-cde4-4524-9659-d342529e09aa",
     "showTitle": false,
     "title": ""
    }
   },
   "outputs": [
    {
     "output_type": "display_data",
     "data": {
      "text/html": [
       "<style scoped>\n",
       "  .table-result-container {\n",
       "    max-height: 300px;\n",
       "    overflow: auto;\n",
       "  }\n",
       "  table, th, td {\n",
       "    border: 1px solid black;\n",
       "    border-collapse: collapse;\n",
       "  }\n",
       "  th, td {\n",
       "    padding: 5px;\n",
       "  }\n",
       "  th {\n",
       "    text-align: left;\n",
       "  }\n",
       "</style><div class='table-result-container'><table class='table-result'><thead style='background-color: white'><tr><th>HCPCS_CD_1</th><th>ICD9_DGNS_CD_1</th><th>ZERO_PAYMENT_COUNT</th></tr></thead><tbody><tr><td>36415</td><td>4019</td><td>233</td></tr><tr><td>36415</td><td>4011</td><td>211</td></tr><tr><td>null</td><td>4011</td><td>89</td></tr><tr><td>null</td><td>4019</td><td>86</td></tr><tr><td>99213</td><td>4011</td><td>70</td></tr></tbody></table></div>"
      ]
     },
     "metadata": {
      "application/vnd.databricks.v1+output": {
       "addedWidgets": {},
       "aggData": [],
       "aggError": "",
       "aggOverflow": false,
       "aggSchema": [],
       "aggSeriesLimitReached": false,
       "aggType": "",
       "arguments": {},
       "columnCustomDisplayInfos": {},
       "data": [
        [
         "36415",
         "4019",
         233
        ],
        [
         "36415",
         "4011",
         211
        ],
        [
         null,
         "4011",
         89
        ],
        [
         null,
         "4019",
         86
        ],
        [
         "99213",
         "4011",
         70
        ]
       ],
       "datasetInfos": [],
       "dbfsResultPath": null,
       "isJsonSchema": true,
       "metadata": {},
       "overflow": false,
       "plotOptions": {
        "customPlotOptions": {},
        "displayType": "table",
        "pivotAggregation": null,
        "pivotColumns": null,
        "xColumns": null,
        "yColumns": null
       },
       "removedWidgets": [],
       "schema": [
        {
         "metadata": "{}",
         "name": "HCPCS_CD_1",
         "type": "\"string\""
        },
        {
         "metadata": "{}",
         "name": "ICD9_DGNS_CD_1",
         "type": "\"string\""
        },
        {
         "metadata": "{}",
         "name": "ZERO_PAYMENT_COUNT",
         "type": "\"long\""
        }
       ],
       "type": "table"
      }
     },
     "output_type": "display_data"
    }
   ],
   "source": [
    "spark.sql(\"SELECT HCPCS_CD_1, ICD9_DGNS_CD_1,\\\n",
    "        COUNT(*) AS ZERO_PAYMENT_COUNT\\\n",
    "        FROM DENIED_CLAIMS\\\n",
    "        GROUP BY HCPCS_CD_1, ICD9_DGNS_CD_1\\\n",
    "        ORDER BY ZERO_PAYMENT_COUNT DESC\")\n",
    "\n",
    "\n",
    "limited_df_cpt_dx_claims_denied= spark.sql(\"SELECT HCPCS_CD_1, ICD9_DGNS_CD_1,\\\n",
    "        COUNT(*) AS ZERO_PAYMENT_COUNT\\\n",
    "        FROM DENIED_CLAIMS\\\n",
    "        GROUP BY HCPCS_CD_1, ICD9_DGNS_CD_1\\\n",
    "        ORDER BY ZERO_PAYMENT_COUNT DESC\").limit(5).display()"
   ]
  },
  {
   "cell_type": "code",
   "execution_count": 0,
   "metadata": {
    "application/vnd.databricks.v1+cell": {
     "cellMetadata": {
      "byteLimit": 2048000,
      "rowLimit": 10000
     },
     "inputWidgets": {},
     "nuid": "5fcf2561-a88c-4916-83e4-0b2d539aba28",
     "showTitle": false,
     "title": ""
    }
   },
   "outputs": [
    {
     "output_type": "display_data",
     "data": {
      "text/html": [
       "<style scoped>\n",
       "  .table-result-container {\n",
       "    max-height: 300px;\n",
       "    overflow: auto;\n",
       "  }\n",
       "  table, th, td {\n",
       "    border: 1px solid black;\n",
       "    border-collapse: collapse;\n",
       "  }\n",
       "  th, td {\n",
       "    padding: 5px;\n",
       "  }\n",
       "  th {\n",
       "    text-align: left;\n",
       "  }\n",
       "</style><div class='table-result-container'><table class='table-result'><thead style='background-color: white'><tr><th>HCPCS_CD_1</th><th>ICD9_DGNS_CD_1</th><th>TOTAL_CLAIMS</th></tr></thead><tbody><tr><td>36415</td><td>4019</td><td>6343</td></tr><tr><td>36415</td><td>4011</td><td>6288</td></tr><tr><td>A4657</td><td>null</td><td>2680</td></tr><tr><td>A4657</td><td>OTHER</td><td>2670</td></tr><tr><td>36415</td><td>2721</td><td>2653</td></tr></tbody></table></div>"
      ]
     },
     "metadata": {
      "application/vnd.databricks.v1+output": {
       "addedWidgets": {},
       "aggData": [],
       "aggError": "",
       "aggOverflow": false,
       "aggSchema": [],
       "aggSeriesLimitReached": false,
       "aggType": "",
       "arguments": {},
       "columnCustomDisplayInfos": {},
       "data": [
        [
         "36415",
         "4019",
         6343
        ],
        [
         "36415",
         "4011",
         6288
        ],
        [
         "A4657",
         null,
         2680
        ],
        [
         "A4657",
         "OTHER",
         2670
        ],
        [
         "36415",
         "2721",
         2653
        ]
       ],
       "datasetInfos": [],
       "dbfsResultPath": null,
       "isJsonSchema": true,
       "metadata": {},
       "overflow": false,
       "plotOptions": {
        "customPlotOptions": {},
        "displayType": "table",
        "pivotAggregation": null,
        "pivotColumns": null,
        "xColumns": null,
        "yColumns": null
       },
       "removedWidgets": [],
       "schema": [
        {
         "metadata": "{}",
         "name": "HCPCS_CD_1",
         "type": "\"string\""
        },
        {
         "metadata": "{}",
         "name": "ICD9_DGNS_CD_1",
         "type": "\"string\""
        },
        {
         "metadata": "{}",
         "name": "TOTAL_CLAIMS",
         "type": "\"long\""
        }
       ],
       "type": "table"
      }
     },
     "output_type": "display_data"
    }
   ],
   "source": [
    "spark.sql(\"SELECT HCPCS_CD_1, ICD9_DGNS_CD_1,\\\n",
    "        COUNT(*) AS TOTAL_CLAIMS\\\n",
    "        FROM CLAIMS\\\n",
    "        GROUP BY HCPCS_CD_1, ICD9_DGNS_CD_1\\\n",
    "        ORDER BY TOTAL_CLAIMS DESC\")\n",
    "\n",
    "\n",
    "limited_df_cpt_dx_claims= spark.sql(\"SELECT HCPCS_CD_1, ICD9_DGNS_CD_1,\\\n",
    "        COUNT(*) AS TOTAL_CLAIMS\\\n",
    "        FROM CLAIMS\\\n",
    "        GROUP BY HCPCS_CD_1, ICD9_DGNS_CD_1\\\n",
    "        ORDER BY TOTAL_CLAIMS DESC\").limit(5).display()"
   ]
  },
  {
   "cell_type": "code",
   "execution_count": 0,
   "metadata": {
    "application/vnd.databricks.v1+cell": {
     "cellMetadata": {
      "byteLimit": 2048000,
      "rowLimit": 10000
     },
     "inputWidgets": {},
     "nuid": "ffe73be1-5546-43e6-9df4-5beb219cb9bc",
     "showTitle": false,
     "title": ""
    }
   },
   "outputs": [],
   "source": [
    "resultDF = spark.sql(\"\"\"\n",
    "SELECT \n",
    "    TOTAL.HCPCS_CD_1, \n",
    "    TOTAL.ICD9_DGNS_CD_1,\n",
    "    TOTAL.TOTAL_CLAIMS,\n",
    "    COALESCE(DENIED.ZERO_PAYMENT_COUNT, 0) AS ZERO_PAYMENT_COUNT,\n",
    "    ROUND((COALESCE(DENIED.ZERO_PAYMENT_COUNT, 0)/TOTAL.TOTAL_CLAIMS) * 100, 2) AS DENIAL_PERCENTAGE,\n",
    "    ROUND(((TOTAL.TOTAL_CLAIMS - COALESCE(DENIED.ZERO_PAYMENT_COUNT, 0)) / TOTAL.TOTAL_CLAIMS) * 100, 2) AS PAYMENT_PERCENTAGE\n",
    "FROM \n",
    "    (SELECT \n",
    "        HCPCS_CD_1, \n",
    "        ICD9_DGNS_CD_1,\n",
    "        COUNT(*) AS ZERO_PAYMENT_COUNT\n",
    "     FROM DENIED_CLAIMS\n",
    "     GROUP BY HCPCS_CD_1, ICD9_DGNS_CD_1\n",
    "    ) DENIED\n",
    "LEFT JOIN\n",
    "    (SELECT \n",
    "        HCPCS_CD_1,\n",
    "        ICD9_DGNS_CD_1,\n",
    "        COUNT(*) AS TOTAL_CLAIMS\n",
    "     FROM CLAIMS\n",
    "     GROUP BY HCPCS_CD_1, ICD9_DGNS_CD_1\n",
    "    ) TOTAL\n",
    "ON TOTAL.HCPCS_CD_1 = DENIED.HCPCS_CD_1\n",
    "AND TOTAL.ICD9_DGNS_CD_1 = DENIED.ICD9_DGNS_CD_1\n",
    "\"\"\") \n"
   ]
  },
  {
   "cell_type": "code",
   "execution_count": 0,
   "metadata": {
    "application/vnd.databricks.v1+cell": {
     "cellMetadata": {
      "byteLimit": 2048000,
      "rowLimit": 10000
     },
     "inputWidgets": {},
     "nuid": "24c7c871-a534-4a9d-be39-59b98afdc4f5",
     "showTitle": false,
     "title": ""
    }
   },
   "outputs": [],
   "source": [
    "#Step 1: Dataframe converted to Pandas to be used for visualization.  Order by Total Claims and Limit to Top 20\n",
    "Procedure_Diag_Pmt_Dnl_Analysis = resultDF.orderBy(\"TOTAL_CLAIMS\", ascending = False).limit(20).toPandas()"
   ]
  },
  {
   "cell_type": "code",
   "execution_count": 0,
   "metadata": {
    "application/vnd.databricks.v1+cell": {
     "cellMetadata": {
      "byteLimit": 2048000,
      "rowLimit": 10000
     },
     "inputWidgets": {},
     "nuid": "cdb3fd4a-a459-445c-956b-2f88877a281e",
     "showTitle": false,
     "title": ""
    }
   },
   "outputs": [
    {
     "output_type": "display_data",
     "data": {
      "image/png": "[encoded data removed]"
     },
     "metadata": {
      "application/vnd.databricks.v1+output": {
       "addedWidgets": {},
       "arguments": {},
       "data": "data:image/png;base64,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\n",
       "datasetInfos": [],
       "metadata": {},
       "removedWidgets": [],
       "type": "image"
      }
     },
     "output_type": "display_data"
    }
   ],
   "source": [
    "# This Plot shows payment percentage of procedure code billed with each diagnosis code\n",
    "\n",
    "# Plot the Data\n",
    "import matplotlib.pyplot as plt\n",
    "import seaborn as sns\n",
    "\n",
    "\n",
    "# Set the figure size for better visibility\n",
    "plt.figure(figsize=(18, 10))  # Increase the width of the figure\n",
    "\n",
    "# Adjust the width of the bars\n",
    "bar_width = 0.8  # You can adjust this value to make the bars wider or narrower\n",
    "\n",
    "# Create a bar plot with procedure codes on the x-axis, payment percentage on the y-axis, and hue based on diagnosis codes\n",
    "sns.barplot(data=Procedure_Diag_Pmt_Dnl_Analysis, x='HCPCS_CD_1', y='PAYMENT_PERCENTAGE', hue='ICD9_DGNS_CD_1', palette='tab20', dodge=True)\n",
    "\n",
    "# Add a title to the plot\n",
    "plt.title('Payment Percentage for Top 20 Procedures by Diagnosis Code')\n",
    "\n",
    "# Label the x-axis\n",
    "plt.xlabel('Procedure Code')\n",
    "\n",
    "# Label the y-axis\n",
    "plt.ylabel('Payment Percentage')\n",
    "\n",
    "# Rotate the x-axis labels for better readability\n",
    "plt.xticks(rotation=45)\n",
    "\n",
    "# Move the legend to the right side of the plot\n",
    "plt.legend(title='Diagnosis Code', bbox_to_anchor=(1.05, 1), loc='upper left')\n",
    "\n",
    "# Adjust the layout to prevent clipping of the plot\n",
    "plt.tight_layout()\n",
    "\n",
    "# Display the plot\n",
    "plt.show()\n"
   ]
  },
  {
   "cell_type": "code",
   "execution_count": 0,
   "metadata": {
    "application/vnd.databricks.v1+cell": {
     "cellMetadata": {
      "byteLimit": 2048000,
      "rowLimit": 10000
     },
     "inputWidgets": {},
     "nuid": "df2e07c5-c77b-48b1-ba12-c3fc2e4400e8",
     "showTitle": false,
     "title": ""
    }
   },
   "outputs": [
    {
     "output_type": "display_data",
     "data": {
      "image/png": "[encoded data removed]"
     },
     "metadata": {
      "application/vnd.databricks.v1+output": {
       "addedWidgets": {},
       "arguments": {},
       "data": "data:image/png;base64,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\n",
       "datasetInfos": [],
       "metadata": {},
       "removedWidgets": [],
       "type": "image"
      }
     },
     "output_type": "display_data"
    }
   ],
   "source": [
    "# This Plot shows denial percentage of procedure code billed with each diagnosis code\n",
    "\n",
    "# Plot the Data\n",
    "import matplotlib.pyplot as plt\n",
    "import seaborn as sns\n",
    "\n",
    "# Set the figure size for better visibility\n",
    "plt.figure(figsize=(14, 8))\n",
    "\n",
    "# Create a bar plot with procedure codes on the x-axis, payment percentage on the y-axis, and hue based on diagnosis codes\n",
    "sns.barplot(data=Procedure_Diag_Pmt_Dnl_Analysis, x='HCPCS_CD_1', y='DENIAL_PERCENTAGE', hue='ICD9_DGNS_CD_1', palette='tab20', dodge=True)\n",
    "\n",
    "# Add a title to the plot\n",
    "plt.title('Payment Percentage for Top 20 Procedures by Diagnosis Code')\n",
    "\n",
    "# Label the x-axis\n",
    "plt.xlabel('Procedure Code')\n",
    "\n",
    "# Label the y-axis\n",
    "plt.ylabel('Denial Percentage')\n",
    "\n",
    "# Rotate the x-axis labels for better readability\n",
    "plt.xticks(rotation=45)\n",
    "\n",
    "# Add a legend to the plot, with the title indicating that it shows diagnosis codes\n",
    "plt.legend(title='Diagnosis Code')\n",
    "\n",
    "# Move the legend to the right side of the plot\n",
    "plt.legend(title='Diagnosis Code', bbox_to_anchor=(1.05, 1), loc='upper left')\n",
    "\n",
    "# Adjust the layout to prevent clipping of the plot\n",
    "plt.tight_layout()\n",
    "\n",
    "# Display the plot\n",
    "plt.show()\n"
   ]
  },
  {
   "cell_type": "code",
   "execution_count": 0,
   "metadata": {
    "application/vnd.databricks.v1+cell": {
     "cellMetadata": {
      "byteLimit": 2048000,
      "rowLimit": 10000
     },
     "inputWidgets": {},
     "nuid": "c7f4b295-7b8b-486a-bc34-efc1aed7b6f9",
     "showTitle": false,
     "title": ""
    }
   },
   "outputs": [
    {
     "output_type": "display_data",
     "data": {
      "image/png": "[encoded data removed]"
     },
     "metadata": {
      "application/vnd.databricks.v1+output": {
       "addedWidgets": {},
       "arguments": {},
       "data": "data:image/png;base64,iVBORw0KGgoAAAANSUhEUgAABQ0AAAI4CAYAAADAlM8JAAAAOXRFWHRTb2Z0d2FyZQBNYXRwbG90bGliIHZlcnNpb24zLjUuMSwgaHR0cHM6Ly9tYXRwbG90bGliLm9yZy/YYfK9AAAACXBIWXMAAAsTAAALEwEAmpwYAABxF0lEQVR4nOzdeXgV5fn/8c+dBQKyBjBgRJDdIKINKgqIS78uENEfCKiouKG1blWstnWDimKpqNXSal1RFFyoIKJQRKpSFxYXhBhkkX0Na9hCQu7fHzOnPSeyBElyILxf18VlzsxzZu45mYznfM7zPGPuLgAAAAAAAACISIh3AQAAAAAAAAAOLoSGAAAAAAAAAGIQGgIAAAAAAACIQWgIAAAAAAAAIAahIQAAAAAAAIAYhIYAAAAAAAAAYhAaAgBwGDCzP5jZ86W4vS1m1iT8+WUzG1SK237GzO4vre1FbdfM7CUz22Bm00p7+9h/ZuZm1izONZTq+VuC/X1gZn3La3/7K/pvO441DDCzEfGsAQAAEBoCQIVgZovMbHv4YW91+CG4WrzrKqmw/l/uZf2ZZlYUHl+emc01s2vKs8Z92dcxlPG+/21mO8LXZrOZzTSz35lZ5Ugbd3/E3a8v4bb22c7dq7n7wlKo/Wozm1ps279y94cOdNu70VHS/0k62t1POZANmVmn8HzcYmZbw/BrS9S/Yw60WDM70sxGmtkKM9tkZv8xs1OLtbnczBaHNYwxs9S9bM/DdlvMbLmZPW5miQdaJ/6n2Gu8zswmm1nv6DbufoG7D49Xjfvyc/+2zayBmb1gZivDa1GOmQ00syPKok4AAFD2CA0BoOK40N2rSfqFpHaS7otzPaVtRXh8NSTdI+k5M8vYnw2YWVKZVHZwuMXdq0tqIKm/pEslvW9mVpo7OcRfw0aSFrn71v19YvHjdvdPw3ClmqTW4eJakWXuvqQU6q0mabqkTEmpkoZLGh/5QsDMWkt6VtKVktIkbZP0t31ss21Y8zmSLpfUr3iDQ+F3fJDXGHmNW0p6WdJfzezB+JZUtsKw+nNJVSSdFl6L/k9SLUlN41gaAAA4AISGAFDBuPtySR9IOt7MapvZe2a2NhyS+Z6ZHS1JZtbTzGZGP9fM7jSzseHPL5vZ38KhdFvCXk71zezJcFs5ZnZS1HOPMrPR4b5+NLPbotYNMLM3zeyVsAfKHDNrF657VdIxksaF+7l7H8fn7j5G0gZJGWaWEPaqWxD27Hkz0tvKzBqHPX+uM7Mlkj4Kl/czs+/DWrLN7BdlcQxm9paZrQp7iX0ShjyR7dUxs3EW9AycbmaDLKrHnZm1MrNJZrbegp6VvUr4+9/q7v+W1E3SaZK6RtU/Ivw5xcxGhK/XxnD/aWb2sKROCkKOLWb217C9m9nNZjZP0ryoZdHDSuuG9eaZ2cdm1qjY7+C/IY+FvRnN7DhJz0g6LdzfxnB9zHDR8Pc1P3wt3jWzo6LWuZn9yszmhccyzOynQamZXSfp+ah9DSzhtmOOuyTC8+jdcJvzzaxf1LoBZva2mb0RvlZfmVnb3W3H3Re6++PuvtLdd7n7PyRVUhBGSVIfSePc/RN33yLpfkndzaz6vmp09xxJnyq4Tvzk7yT8u7rPgl6Ma8LzvmbUcXQ0s8/C13ypmV0dLq9sZo+Z2RILej0/Y2ZVop73Wwt6oq0ws2uLvW4xvVytWC/UPZyHWWb2TVjHZ2Z2QlT7eyzoURnpnXzOXl6SPZ2/w8xsaLE63zWzO0rwGue6+6uSbpL0ezOrU/w4zaypmX0U/i3mmtlrZlYral+/MLOvw7reCs+bQeG6M81smZn1D39HKy2qB7aZ1Qx/b2vD3+N9ZpYQrmsWHuemcL9vFHudm4U/d7HgGpkXvpZ37eFw75SUJ+kKd18UHv9Sd7/d3WeF2zrdgmvNpvC/p0ft89iwnjwzmySpbrHXvH3U+fatmZ25r9cfAAAcOEJDAKhgzKyhpC6SvlZwnX9JQQ+rYyRtl/TXsOm7ko61ILiJuFLSK1GPeynosVhXUr6CniRfhY/flvR4uM8ESeMkfSspXUEvpt+Y2XlR2+omaZSCnifvRupw9yslLVHYU9Ldh+zj+BLM7P+F2/lO0q2SLpbUWdJRCsLEYcWe1lnScZLOM7OekgZIukpBr8VuktaV0TF8IKm5pCPD1+21qG0Nk7RVUn1JfcN/kWM8QtIkSa+Hz71U0t9sP3pWhj3dZigIAYvrK6mmpIaS6kj6laTt7n6vgiDplvA4bol6zsWSTpW0pxr6SHpIwbnxTbFj3VON34f7/jzcX63ibczsbEmDFZyLDSQtVvA7iJYl6WRJJ4Ttziu2Xu7+QrF9PVjCbV+svR/37oyStEzB+XiJpEfCfUVcJOktBb0HX5c0xsyS97VRMztRQWg4P1zUWsH5GjnGBZJ2SmpRgm1lKDg3vo5a/N+/E0lXh//OktREQa/HSIjcSMG5/bSkepJOVPA7l6RHw/2fKKmZgr+lB8LnnS/pLgU90JpL+jnD+S9W+Puw4EuLFyXdqOA8flbSu2Fw2VLSLZJODnu9nSdp0V62u6fzd7iky6LCtrph3a/vR81jJSVJ2t2QeFNwDh6l4LVvqOD6JDOrJOkdBb0VUyWNlPT/ij2/voK/5XRJ10kaZma1w3VPh+uaKPjdXiUpEio+JOlfkmpLOjpsuzsvSLoxfA2PV/jFy278UtI/3b1odyst+CJnvKSnFPyuHlfQa7ZO2OR1STMVvP4PKfZ6mB4+d1D4OtwlabSZ1dtDLQAAoJQQGgJAxTHGgp5aUyV9LOkRd1/n7qPdfZu750l6WMGHR7l7vqQ3JF0h/XeoY2NJ70Vt8x13n+nuOxR8eN3h7q+4+67wuZGehidLqufuf3T3neF8WM8pCLsiprr7++FzX5W0295Ve3FUeHy5kh6UdKW7z1UQBN3r7svCYxog6RKLHb44IOyBt13S9ZKGuPv0sNfifHdfXBbH4O4vunteVF1tw94/iZJ6SHow/N1kKwgnIrIUDKN9yd0L3f1rSaMl9dzP12yFgg/ZxRUo+ODeLOzBNtPdN+9jW4PdfX34Gu7O+LDHW76kexX06Gu4n/XuTh9JL7r7V+G2fx9uu3FUm0fdfWMYlE5REFiV1rb3ddwxwmPuIOked9/h7t8o6OF4VVSzme7+trsXKAhPUiS138d2ayg45wa6+6ZwcTVJm4o13SRpbz0NvzKzDQoC8ucVfKkQEf130kfS42Fvxy0KXptLw7+ryyV96O4j3b0gvM58Y2Ym6QZJd4SvWZ6kR/S/v6Fekl5y99keDBEfsLdj3oPo38cNkp519y/D83i4gi832kvaJamygnAx2d0XhaHqnuz2/HX3aQpe00gvxUsl/dvdV5e04PD3nKvd/C2G159J7p7v7msVnA+dw9XtFYSNT4Wv8z8lFb+BT4GkP4br35e0RVLL8BpzqaTfh9egRZKGKvhiKPK8RpKOCs/Tqdq9AgWvYQ133+DuX+2hXR1JK/fyMnSVNM/dXw2vaSMl5Ui60IL5P0+WdH/4Onyi4PyMuELS++G1t8jdJyn4QqTLXvYHAABKAaEhAFQcF7t7LXdv5O6/dvftZlbVzJ4Nh6ZtlvSJpFr2v5sfDJd0efhh/0pJb4YfmiOiPxhv383jyM1WGikM9SL/JP1BwTxrEauift4mKcX2b16yFeHxpbr7ie4e6RHWSNI7Ufv9XkFgEL3vpVE/N5S0u/CgVI/BzBLN7FELhk1v1v96OdVV0DsrqVhd0T83knRqsVr6KOhVtD/SJa3fzfJXJU2UNMqCYaJDStDTbWlJ14ch03oFvacO1FEKegBGb3udgmOLKP57KelNgEqy7X0d9+62GQnMIhbvaZthz6xIr8TdsmB47zhJX7j74KhVWxT0lo1WQ8Ew0T35hbvXdvem7n6fx/YMiz7WmNcm/DlJwd/Dnv6G6kmqKmlm1Hk7IVwe2Wb0PhZr/xX/O+lf7O+koYIgbL6k3ygIJteY2SiLGnq+t+3u5vwdrvDLlfC/r+5PweHfVj3t5m/RgmkBRoVDfzdLGqH/Dc09StJyd/fd1Rla5+6FUY8j539dScn66e8wch7eraCX4zQLplqIGSoepYeCcG5xOHz4tD20W6egt+6eFD+fous5StIGj51rNLptI0k9i/2eO+5jfwAAoBQQGgJAxdZfwfxnp7p7DUlnhMtNktz9CwXDGTsp6D20Xx+GoyyV9GMY6kX+VXf3kvYE8X032eu+Lyi27xQP5nbc3faXavcT85f2MVyuYBjqLxUMEWwcLjdJayUVKhgWGBHdK2+ppI+L1VLN3W8qYS2RHm+ZCoYbxxYa9Eoa6O4Zkk5X0LMx0hNuT7+Lff2O/lu/BTfqSFXQ0zESBFSNahsdfu5ruysUhAaRbR+hoFfT8j0+o+RKsu39PTdXSEq12HkFjym2zejXKkHBebBidxuz4A7YYxQEizcWWz1HUb1dzayJgt51P+xnzRHRxxrz2ig4hkIFXxzs6W8oV8GXCa2jztuaHtwURAp6okWf58XvML1Vez5PdlfjUkkPF/s7qRr2YpO7v+7uHcPjcEl/2s32IvZ0/kpBkHeRBXNPHqfg97E/LlLw2hXvJSgFPTFdUpvwGn2FwuuzgtcrPfxS5yd17kOu/tebMOK/56G7r3L3fu5+lILz6m8WO0epwnbT3f0iBdMkjJH05h7296Gk/xcZxr0bxc+n6HpWSqptsXdZjj43lkp6tdjv+Qh3f3QP+wIAAKWE0BAAKrbqCj7EbwznlNrdHTxfUTBXWcFehqjtyzRJeRbceKBK2MvueDM7uYTPX61g3q2f4xlJD9v/blxQz8wu2kv75yXdZWaZFmgWPre0j6G6gqGS6xQEIY9EVngwvPmfkgaEvUFbKXb46nuSWpjZlWaWHP472WLnn9ytcHudFcyjNk3S+7tpc5aZtQl7nG5WEC5Eepz93N9FFwtujlFJwZxkX3hwI4S1CoKBK8LX9FrFBk6rJR0dPm93Rkq6xsxODAO0RyR9GQ63PFClvm13XyrpM0mDLbjhzAkK5pobEdUs08y6h71Uf6PgPPmi+LbCHmpvK/gb7us/nS/uNQXDOzuFgcsfFcwrt7eehiU1UtIdFtygopqC1+aNsFfba5J+aWa9zCzJgpv6nBjW95ykJ8zsyPAY0u1/84K+KelqM8sws6r66fXoGwU3cqkaBljX7aPG5yT9ysxODf+WjzCzrmZW3cxamtnZ4e91h4LXcLfz7YV2e/5KkrsvU3AX61cljfaSD1VPNbM+CuYv/ZO7r9tNs+oKeoxusmDuvt9GrftcQa/pW8LX+SLtfl7EnwivMW8quDZWD69xdyo8Dy24EVbkS4sNCoLLmNfHzCqZWR8zqxkOsd5cvE2UxxX0ch0edS1ON7PHw7+B9xVc0y4Pj6W3gnlC3/NgeogZkgaG++wo6cKobY9QcJ6fF15DUiy4CczRAgAAZYrQEAAqticlVVHQ6+QLBUMFi3tVwQT3I3azrkTCD6hZCuaS+zHc3/MKetiVxGBJ94VDz/Z0d849+YuCm5L8y8zyFBznqXup9S0Fczu+rmAY5xhJqWVwDK8oGGK3XFK2fhoK3RJue5WC38FIBeGRwtDnXAVzkq0I2/xJQS+yPflrePyrFfzeR0s6fzdBkxT04HpbQQjwvYI5MCO9TP+iYE7IDWb2VAmPXQpezwcVDMHM1P+Gc0pSPwVhyDoFN+/4LGrdRwp6zK0ys9ziG3X3DxXcFXi0gh5JTRU7z+TPVobbvkxBz9IVCuYCfTDcV8RYSb0VhDVXSuoehjLFRXqBnqsg+N8S/usU1j9HwZyer0laoyCA+nUp1C8FNxh5VcGUBj8qCN5uDfe7RMGQ1f4Kft/f6H89Hu9RcKOWLywYbvuhwrs9u/sHCs7Nj8I2xW+q8YSCns+rFQwJ3uvNdNx9hoJz668KXsv5Cm7eIgV/K48q+DtepaCn3O/3srm9nb8K62mjkvXG/tbMtoT1XK9gjscH9tB2oKRfKJg3cbyCLxMix7dTUncF4enGsKb3FF4nSuBWBb03FyqY6/Z1Bb9XKZhD8Muwzncl3e7BPK7FXSlpUfi7/JWCaRJ+wt3XKzhfC8Lt5kmaHB7X/DAwzVJwzqxTMDw6y90jf/OXK7hur1fwe3glattLFfTW/IOCXtpLFVxP+BwDAEAZs9hpUgAAhxsL5ktbo2Cus3nxrudwZWZ/klTf3fvuszEOWWY2QMENaIqHUjiImdkZCr5YaeRxfPNsZl9KesbdX9pnYwAAgAPEN3QAgJskTScwLF9m1srMTgiHVZ6ioDfRO/GuC0CscJj47ZKeL+/A0Mw6m1n9cEhvX0knaPc9xgEAAErd/ty1EgBQwZjZIgWT7l8c30oOS9UVDEk+SsFwzKEKhq0COEiE84jOkPStpGviUEJLBXMTHqFgmPEl7r4yDnUAAIDDEMOTAQAAAAAAAMRgeDIAAAAAAACAGIf08OS6det648aN410GAAAAAABAuZs5c2auu9eLdx2omA7p0LBx48aaMWNGvMsAAAAAAAAod2a2ON41oOJieDIAAAAAAACAGISGAAAAAAAAAGIQGgIAAAAAAACIcUjPaQgAAAAAAIDDw8yZM49MSkp6XtLxoiPcgSqSNLuwsPD6zMzMNbtrQGgIAAAAAACAg15SUtLz9evXP65evXobEhISPN71HMqKiops7dq1GatWrXpeUrfdtSGVBQAAAAAAwKHg+Hr16m0mMDxwCQkJXq9evU0Kem3uvk051gMAAAAAAAD8XAkEhqUnfC33mA0SGgIAAAAAAACIQWgIAAAAAACAQ1JiYmJmq1atMpo1a9a6ZcuWGQ8++GDarl27JEmffPJJ1auvvrphPOvb3xqWLFmSlJWV1aRhw4bHt27d+rjOnTs3mzVrVuWSPr9Hjx6NX3rppdo/r9pY3AgFAAAAAAAAh6TKlSsX5eTkZEvS8uXLk3r27Nlk8+bNiU888cSKM844Y9sZZ5yxLZ717U8NRUVF6tatW7PLL7983XvvvbdQkj7//PMqK1asSD7hhBPyy7bSn6KnIQAAAAAAAA556enphc8///yil1566ciioiK999571c8666xmkjRlypSqJ554Yqvjjjsu46STTmr17bffVpakvLy8hC5dujRp2rRp6//7v/9resIJJ7T65JNPqkpS1apVT7r11lvTW7ZsmdG2bdtWS5cuTZKkuXPnVmrfvn2LFi1aZJx22mkt5s2bV0mSXnzxxdrNmzdv3bJly4x27dq1lBRTw/jx46u1atUqo1WrVhnHHXdcxoYNG2Jyuffee696UlKS33333Wsjy0477bTt559//paioiLdeOONRzdv3rx1ixYtMp577rnaUhA0XnXVVcc0btz4+NNPP71Fbm7ufzsIfvrpp1VPPvnklq1btz6uY8eOzRcvXpy8P68noSEAAAAAAAAqhIyMjJ27du3S8uXLY0bXtm3bdsf06dNzvv/+++wHH3xw+d133320JP35z3+uV6tWrV0LFiyY88gjjyzPzs4+IvKc7du3J5x22mlb5s6dm33aaadtefrpp+tJ0k033XRMnz591v3www/ZvXv3XnfTTTc1lKRHH320wb/+9a8f5s6dmz1hwoT5xWsbOnRo/aeeempxTk5O9hdffJFTrVq1ouj1s2bNqtK2bdvd9kp85ZVXan333XdVvv/++zmTJ0/+4YEHHjh68eLFya+++mqt+fPnV54/f/7s119//cevvvqqmiTl5+fbbbfddszYsWMXzJkz5/u+ffvm3nXXXen781oyPBkAAAAAAAAV2vr16xN79+597KJFi1LMzAsKCkySPvvss2q33377Gkk6+eSTd7Ro0eK/oV1ycrJfeumlmyQpMzNz64cfflhDkr7++usjPvjggwWSdNNNN60fOHDg0ZLUrl27LX369Gnco0ePDX369NlQvIb27dtvueuuuxr26tVr/WWXXbahadOmRcXb7Mmnn35avVevXuuTkpLUsGHDwlNPPXXL1KlTq3788cf/Xd64ceOC0047LU+SZs2aVXnevHlVzj777BZS0COxXr16BfvzmtHTEAAAAAAAABVCdnZ2pcTERKWnpxdGL7/nnnvSO3funDdv3rw548aNm79z5859ZmJJSUmekJAQ+VmFhYW2t/avv/76kkGDBq1YunRppczMzIxVq1YlRq9/5JFHVj3//POLt2/fntCpU6dWX3/9dUr0+jZt2mz/9ttvq5b4YPfC3a1Zs2bbc3JysnNycrJ/+OGH7P/85z/z9mcbZRYamtmLZrbGzGZHLUs1s0lmNi/8b+1wuZnZU2Y238xmmdkvyqouAAAAAAAAVDwrVqxI6tevX6NrrrlmTSTsi9i8eXPi0UcfvVOSnn322bqR5aeddtqWUaNG1ZakmTNnpvzwww9V9rWfk046aevzzz9fO9xWart27bZI0pw5cyqfffbZW5988skVtWvXLly4cGGl6OfNmTOn8imnnLL94YcfXnXCCSdsnT17dkxoeOGFF+bt3LnTHnvssf/W9+WXX1aZMGFCtTPOOCPv7bffTi0sLNSKFSuSpk2bVq1Tp05bO3fu/N/lixcvTv7iiy+qS9IJJ5ywY/369UkffvjhEVIwXHnGjBkx+9uXsuxp+LKk84st+52kye7eXNLk8LEkXSCpefjvBkl/L8O6AAAAAAAAUAHk5+cntGrVKqNZs2atzzrrrBbnnHPO5scee2xF8Xb33HPPqgEDBhx93HHHZRQW/q8T4m9/+9u169atS2ratGnr3//+9+nNmjXbUbt27V172+czzzyz5NVXX63bokWLjJEjR9b529/+tlSS7rjjjqNbtGiR0bx589Ynn3zylvbt22+Pft6QIUOOjNzIJDk52S+55JJN0esTEhL07rvvLvjoo49qNGzY8PhmzZq1vueee9LT09MLrrzyyo2tW7feftxxx7U+88wzWwwcOHDZMcccU3jllVdubNKkSX6zZs2Ov+yyyxqfdNJJWyQpJSXFR40ateB3v/vd0S1btsxo3bp1xscff1xtf15bc/f9ab9fzKyxpPfc/fjw8VxJZ7r7SjNrIOnf7t7SzJ4Nfx5ZvN3ett+uXTufMWNGmdUPAAAAAABwsDKzme7eLt51lJdvv/12Udu2bXNLc5uFhYXauXOnVa1a1efMmVP53HPPbbFgwYLZKSkpZReYHUS+/fbbum3btm28u3XlfSOUtKggcJWktPDndElLo9otC5f9JDQ0sxsU9EbUMcccU3aVAgAAAAAAoELLy8tL6NSpU8uCggJzdz3xxBOLD5fAcF/idvdkd3cz2+9fgrv/Q9I/pKCnYakXBgAAAAAAgMNC7dq1i2bPnv19vOs4GJX33ZNXh8OSFf53Tbh8uaSGUe2ODpcBAAAAAAAAKGflHRq+K6lv+HNfSWOjll8V3kW5vaRN+5rPEAAAAAAAAEDZKLPhyWY2UtKZkuqa2TJJD0p6VNKbZnadpMWSeoXN35fURdJ8SdskXVNWdQEAAAAAAADYuzILDd39sj2sOmc3bV3SzWVVC4DSteSPbUrc9pgHvivDSgAAAAAAQFmI241QgHiZMvy5Erc9q2+/MqwEAAAAAACUhczfvpJZmtub+eerZpa0bWFhodq0aZNRv379nVOmTJmfk5NTqVevXk02btyY1KZNm22jR4/+MSUlxT/44INq/fv3b/jDDz9Ufe655xZec801GyLbuOmmm9I//PDDWpJ09913r+jXr9+GPe6wjBAaotz8tf+4Ere9ZeiFZVgJAAAAAABA2Rg0aFBas2bNtm/ZsiVRku68886jb7nlltU33HDDhssvv/yYv/zlL3XvueeetU2aNNn50ksvLXr00UfTop8/atSomt9++23V7OzsOdu3b084/fTTW/bo0WNTampqUXkeB6EhDkr/ef/b/Wr/79cfKnHb0//vvP0tBwAAAAAAYJ8WLFiQPHHixJq///3vVz7xxBNpRUVF+vzzz6uPHTt2oSRde+216wYMGHDUPffcs7Zly5Y7JSkhIfY+xXPmzEnp0KHDluTkZCUnJxdlZGRs++c//1nz+uuvL9fehuV992QAAAAAAACgQrr55psbDhkyZFkkCFy9enVS9erVdyUnJ0uSGjduvHP16tWV9raNk046afvkyZNr5uXlJaxcuTLps88+q7F06dK9Pqcs0NPwMPDynL/tV/tjb3qjxG07f/Lx/pYDAAAAAABQ4YwcObJm3bp1Czt16rTtvffeq/5zt9O9e/fNX375ZdWTTz65VWpqasEvfvGLLYmJiV6atZYEoeFBZMOHQ0rctvYv7y7DSgAAAAAAALA/pk6dWm3SpEm10tPTa+bn5yds3bo14cYbb2yYl5eXWFBQoOTkZC1atKhSWlrazn1t609/+tOqP/3pT6sk6cILLzy2ZcuW+WV/BLEIDQ9RHZ7uUOK2/c7uU2Z15L0+Yj9a1yyzOsrK9w9/VOK2x917dhlWAgAAAAAADmbDhg1bPmzYsOWS9N5771UfOnRo2rvvvvvjBRdc0OSll16qfcMNN2x48cUX62RlZW3c23YKCwuVm5ubWL9+/V1ffvlllZycnKrdu3f/sVwOIgqhIQDgkJL521dK3Hbmn68qw0oAAAAAHKxm/vmqmfGuIWLo0KHLevfu3XTQoEHprVu33nb77bfnStLHH39ctVevXs02b96cOHny5FoPP/zwUfPnz5+zc+dO69ChQytJqlat2q7hw4cvjMyJWJ4IDQEAAAAAAIBSlJWVlZeVlZUnSRkZGTu/++6774u36dy587bVq1fPKr68atWqvmDBgjnlUefeEBoCAAAAAFBCjHoAcLggNPwZ3v9ySYnbdjn1mDKsBAAAAAAAACh9hIbav2+KJOmhS84sm0IAAAAAAACAgwChIQCgwqJnOAAcOrhmAwBwcCE0BAAAOITsT7AiEa4gvvZnRA+jeQAAOLgQGgIAAMQZwQoAAAAONoSGAAAAAAAAqFDe/3JJZmlur8upx8wsadvCwkK1adMmo379+junTJkyPycnp1KvXr2abNy4MalNmzbbRo8e/WNKSop/8MEH1fr379/whx9+qPrcc88tvOaaazZEttGpU6fm33zzzRHt2rXbMmXKlPmleSwllRCPnQIAAAAAAAAV0aBBg9KaNWu2PfL4zjvvPPqWW25ZvWTJktk1a9Ys/Mtf/lJXkpo0abLzpZdeWnThhReuK76Nu+66a9Wzzz77Y3nWXRyhIQAAAAAAAFAKFixYkDxx4sSa/fr1y5WkoqIiff7559UjvQivvfbadePGjaslSS1bttx56qmnbk9I+Gk8d9FFF+XVqFGjqDxrL47QEAAAAAAAACgFN998c8MhQ4YsiwSBq1evTqpevfqu5ORkSVLjxo13rl69ulI8aywpQkMAAAAAAADgAI0cObJm3bp1Czt16rQt3rWUBm6EAgAAAAAAABygqVOnVps0aVKt9PT0mvn5+Qlbt25NuPHGGxvm5eUlFhQUKDk5WYsWLaqUlpa2M961lgQ9DQEAAAAAAIADNGzYsOWrV6+etXz58u9efvnlhe3bt8979913f2zfvn3eSy+9VFuSXnzxxTpZWVkb41xqidDTEAAAAAAAABVKl1OPmRnvGiKGDh26rHfv3k0HDRqU3rp162233357riR9/PHHVXv16tVs8+bNiZMnT6718MMPHzV//vw5kpSZmdly4cKFKdu3b09MS0s74W9/+9uiHj16bC7PugkNAQAAAAAAgFKUlZWVl5WVlSdJGRkZO7/77rvvi7fp3LnzttWrV8/a3fNnzpw5t6xr3BeGJwMAAAAAAACIQWgIAAAAAAAAIAahIQAAAAAAAIAYhIYAAAAAAAAAYhAaAgAAAAAAAIhBaAgAAAAAAAAgRlK8CwAAAAAAAABK05I/tsksze0d88B3M0vSbsGCBck33HDDMfPnz69SVFSkX/7yl5uysrI23XvvvUdL0pIlSyofeeSRBSkpKUXHHXfctuuuu27d0KFD06ZMmTI/so0ePXo0zsrK2nTNNddsOOWUU1quWbMmOSUlpUiSGjduvGPChAkL77zzzqNGjBhRNzU1tbCgoMDuvvvulTfeeOP60jxmehoCAAAAAAAAB6ioqEgXX3xxs27dum1cvHjx7B9//HH21q1bE/71r3/VyMnJyc7Jyck+/vjjt73yyisLc3Jyst95551FJdlupH1OTk72hAkTFkaW/+pXv1qdk5OTPWbMmPn9+/dvlJ+fb6V5PISGAAAAAAAAwAEaN25c9cqVKxfdfvvt6yQpKSlJzzzzzNI33nijbl5eXpllcG3atMlPSUkpys3NTSzN7TI8GQAAAAAAADhA3333XZW2bdtui16Wmppa1KBBg53Z2dmVTz311O27e96MGTOqtWrVKiPyeOXKlZWysrI2RR5fddVVTSLDkzt37rz52WefXRb9/KlTp1Zt1KjRjvT09MLSPB5CQwAAAAAAACBO2rVrt6X4nIbR61955ZWFZ5xxxrbiz3vmmWfSXn/99bqLFi2qPGrUqPnF1x8ohicDAAAAAAAAB+j444/f/u2331aNXrZ+/fqElStXVsrIyMgv7f396le/Wj1//vw5w4cPX/DrX/+68bZt25jTEAAAAAAAADiYdOvWLW/Hjh0Jf/3rX+tIUmFhoX7961837NmzZ2716tWLymq/ffr02dSmTZutw4YNq1Oa22V4MgAAAAAAACqUYx74bmZ57zMhIUFjxoyZf8MNNzT685//3KCoqEhnn332pqeeemr5gWw3ek7D1NTUws8+++yH4m0GDBiw8sorr2xy55135iYmls79UAgNAQAAAAAAgFLQrFmzgo8++miP8wtOmzZtbvTjrKysvKysrLzoZaNHj160p/YRjz/++Irox506ddq2aNGi2T+r6D1geDIAAAAAAACAGISGAAAAAAAAAGIQGgIAAAAAAACIQWgIAAAAAAAAIAahIQAAAAAAAIAYhIYAAAAAAAAAYiTFuwAAAAAAAACgNG34cEhmaW6v9i/vnrmvNvPnz0/u06fPsbm5uclmpr59+669//7713Tt2rXJggULUiQpLy8vsXr16rtycnKy33nnnRr33XdfekFBgSUnJ/vgwYOXdevWLU+Sbr311vS33nqrzubNmxO3bdv2dWkeS0kRGgIAAAAAAAAHKDk5WUOHDl3WsWPHbRs2bEg46aSTMrp06bJ5/PjxCyNt+vXrd3TNmjV3SdKRRx5ZMH78+PmNGzcumD59ekrXrl1brFmzZpYkXXzxxRvvuuuuNccdd9zx8ToeQkMAAAAAAADgADVq1KigUaNGBZJUu3btoqZNm25fsmRJpczMzB2SVFRUpHHjxqVOmjRpriR16NBhe+S5mZmZO/Lz8xO2b99uVapU8XPOOWdrfI7if5jTEAAAAAAAAChFc+fOrZSdnV21c+fOWyLLJk6cWK1u3boFbdq0yS/efvjw4bVbt269rUqVKl6+le4ZPQ0BAAAAAACAUrJp06aE7t27N3300UeXpqamFkWWjxgxIrVHjx7ri7efMWNGygMPPJA+YcKEeeVb6d4RGgIAAAAAAAClID8/37p27dq0Z8+e6/v27bsxsrygoEATJkyoPW3atOzo9gsWLEi+5JJLmr3wwgs/tm7d+ic9EOOJ4ckAAAAAAADAASoqKtKll17aqEWLFjsGDBiwOnrd2LFjazRp0mRH06ZNCyLLcnNzE7t06dJ84MCBy84999y4z2FYHD0NAQAAAAAAUKHU/uXdM8t7n5MmTao2ZsyYOs2bN9/eqlWrDEkaOHDg8t69e28aOXJkas+ePWOGJg8ZMuTIJUuWVB48ePBRgwcPPkqSJk+e/EN6enrhr371q6Pfeeed1B07diSkpaWd0KdPn9zHH398RXkeD6EhAAAAAAAAcIDOO++8Le6+27By9OjRi4ovGzJkyMohQ4as3F37Z555ZtkzzzyzrJRL3C8MTwYAAAAAAAAQg9AQAAAAAAAAQAxCQwAAAAAAAAAxCA0BAAAAAAAAxCA0BAAAAAAAABCD0BAAAAAAAABAjKR4FwAAAAAAAACUpg5Pd8gsze3959b/zNxXm/nz5yf36dPn2Nzc3GQzU9++fdfef//9a7p27dpkwYIFKZKUl5eXWL169V05OTnZ77zzTo377rsvvaCgwJKTk33w4MHLunXrlpeXl5dw4YUXNlm8eHHlxMREnXvuuRv/9re/LS/N4ykJQkMAAAAAAADgACUnJ2vo0KHLOnbsuG3Dhg0JJ510UkaXLl02jx8/fmGkTb9+/Y6uWbPmLkk68sgjC8aPHz+/cePGBdOnT0/p2rVrizVr1sySpP79+6++8MIL83bs2GEdOnRo8eabb9bo1avX5vI8HkJDAAAAAAAA4AA1atSooFGjRgWSVLt27aKmTZtuX7JkSaXMzMwdklRUVKRx48alTpo0aa4kdejQYXvkuZmZmTvy8/MTtm/fbtWrVy+68MIL8yQpJSXFTzjhhG1Lly6tVN7Hw5yGAAAAAAAAQCmaO3dupezs7KqdO3feElk2ceLEanXr1i1o06ZNfvH2w4cPr926dettVapU8ejlubm5iZMmTap1wQUXlGsvQ4mehgAAAAAAAECp2bRpU0L37t2bPvroo0tTU1OLIstHjBiR2qNHj/XF28+YMSPlgQceSJ8wYcK86OUFBQXq3r17kxtuuGF1RkbGzvKoPRqhIQAAAAAAAFAK8vPzrWvXrk179uy5vm/fvhsjywsKCjRhwoTa06ZNy45uv2DBguRLLrmk2QsvvPBj69atY3ogXn755Y2bNGmy44EHHlhTTuXHIDQEAAAAAAAADlBRUZEuvfTSRi1atNgxYMCA1dHrxo4dW6NJkyY7mjZtWhBZlpubm9ilS5fmAwcOXHbuuedujW5/2223HbV58+bEUaNGLSqn8n+C0BAAAAAAAAAVyn9u/c/M8t7npEmTqo0ZM6ZO8+bNt7dq1SpDkgYOHLi8d+/em0aOHJnas2fPmKHJQ4YMOXLJkiWVBw8efNTgwYOPkqTJkyf/sGPHDnv66acbHHvssTtat26dIUk33HDDmjvvvDO3PI+H0BAAAAAAAAA4QOedd94Wd99tWDl69OhFxZcNGTJk5ZAhQ1burv2etlOeuHsyAAAAAAAAgBiEhgAAAAAAAABiEBoCAAAAAAAAiEFoCAAAAAAAACAGoSEAAAAAAACAGISGAAAAAAAAAGIkxbsAAAAAAAAAoDS9POdvmaW5vatb/3rmvtrMnz8/uU+fPsfm5uYmm5n69u279v7771/TtWvXJgsWLEiRpLy8vMTq1avvysnJyX7nnXdq3HfffekFBQWWnJzsgwcPXtatW7c8Sfr000+rXnfddY137NiRcPbZZ2968cUXlyYklG/fP0JDAAAAAAAA4AAlJydr6NChyzp27Lhtw4YNCSeddFJGly5dNo8fP35hpE2/fv2Orlmz5i5JOvLIIwvGjx8/v3HjxgXTp09P6dq1a4s1a9bMkqRf//rXjf7+978vPuuss7aeeeaZzd9+++0avXr12lyex8PwZAAAAAAAAOAANWrUqKBjx47bJKl27dpFTZs23b5kyZJKkfVFRUUaN25cat++fddLUocOHbY3bty4QJIyMzN35OfnJ2zfvt0WL16cvGXLloRzzjlna0JCgvr06bNuzJgxtcv7eAgNAQAAAAAAgFI0d+7cStnZ2VU7d+68JbJs4sSJ1erWrVvQpk2b/OLthw8fXrt169bbqlSp4osXL05u0KBBQWRdo0aNdq5cuTK5vGqPYHgyAAAAAAAAUEo2bdqU0L1796aPPvro0tTU1KLI8hEjRqT26NFjffH2M2bMSHnggQfSJ0yYMK98K907QkMAAAAAAACgFOTn51vXrl2b9uzZc33fvn03RpYXFBRowoQJtadNm5Yd3X7BggXJl1xySbMXXnjhx9atW+dLwTDn6J6FixcvrhTd87C8MDwZAAAAAAAAOEBFRUW69NJLG7Vo0WLHgAEDVkevGzt2bI0mTZrsaNq06X/Dv9zc3MQuXbo0Hzhw4LJzzz13a2R5o0aNCqpVq1Y0efLkI4qKivTaa6/VueiiizaW46FIoqchAAAAAAAAKpirW/96Znnvc9KkSdXGjBlTp3nz5ttbtWqVIUkDBw5c3rt3700jR45M7dmzZ8zQ5CFDhhy5ZMmSyoMHDz5q8ODBR0nS5MmTf0hPTy8cNmzY4uuuu+7YHTt22FlnnbW5Z8+em8r7eAgNAQAAAAAAgAN03nnnbXH33YaVo0ePXlR82ZAhQ1YOGTJk5e7an3HGGdvmzZs3p5RL3C8MTwYAAAAAAAAQIy6hoZndYWZzzGy2mY00sxQzO9bMvjSz+Wb2hplVikdtAAAAAAAAwOGu3ENDM0uXdJukdu5+vKRESZdK+pOkJ9y9maQNkq4r79oAAAAAAAAAxG94cpKkKmaWJKmqpJWSzpb0drh+uKSL41MaAAAAAAAAcHgr99DQ3ZdLekzSEgVh4SZJMyVtdPfCsNkySem7e76Z3WBmM8xsxtq1a8ujZAAAAAAAAOCwEo/hybUlXSTpWElHSTpC0vklfb67/8Pd27l7u3r16pVRlQAAAAAAAMDhKykO+/ylpB/dfa0kmdk/JXWQVMvMksLehkdLWh6H2gAAAAAAAHCI+/iMzpmlub3On3w8c19t5s+fn9ynT59jc3Nzk81Mffv2XXv//fev6dq1a5MFCxakSFJeXl5i9erVd+Xk5GS/8847Ne677770goICS05O9sGDBy/r1q1bXvQ2zz777GZLly6tPG/evDmleTwlEY/QcImk9mZWVdJ2SedImiFpiqRLJI2S1FfS2DjUBgAAAAAAAOy35ORkDR06dFnHjh23bdiwIeGkk07K6NKly+bx48cvjLTp16/f0TVr1twlSUceeWTB+PHj5zdu3Lhg+vTpKV27dm2xZs2aWZG2w4cPr3XEEUfsisexSPGZ0/BLBTc8+UrSd2EN/5B0j6Q7zWy+pDqSXijv2gAAAAAAAICfo1GjRgUdO3bcJkm1a9cuatq06fYlS5ZUiqwvKirSuHHjUvv27btekjp06LC9cePGBZKUmZm5Iz8/P2H79u0mSZs2bUp46qmn0gYMGLAyHscixaenodz9QUkPFlu8UNIpcSgHAAAAAAAAKDVz586tlJ2dXbVz585bIssmTpxYrW7dugVt2rTJL95++PDhtVu3br2tSpUqLkl33nln+u233766WrVqReVZd7Ry72kIAAAAAAAAVFSbNm1K6N69e9NHH310aWpq6n9DvxEjRqT26NFjffH2M2bMSHnggQfSn3vuucWS9Nlnn1X58ccfK1911VUby7Hsn4hLT0MAAAAAAACgosnPz7euXbs27dmz5/q+fftujCwvKCjQhAkTak+bNi07uv2CBQuSL7nkkmYvvPDCj61bt86XpE8//bTa7Nmzq6anp7cpLCy09evXJ51yyiktp02bNrc8j4WehgAAAAAAAMABKioq0qWXXtqoRYsWOwYMGLA6et3YsWNrNGnSZEfTpk0LIstyc3MTu3Tp0nzgwIHLzj333K2R5ffcc8/aNWvWzFq+fPl3n3zySU7jxo3zyzswlOhpCAAAAAAAgAqm8ycfzyzvfU6aNKnamDFj6jRv3nx7q1atMiRp4MCBy3v37r1p5MiRqT179owZmjxkyJAjlyxZUnnw4MFHDR48+ChJmjx58g/p6emF5V377hAaAgAAAAAAAAfovPPO2+Luuw0rR48evaj4siFDhqwcMmTIXu+O3LJly53z5s2bU0ol7heGJwMAAAAAAACIQWgIAAAAAAAAIAahIQAAAAAAAIAYhIYAAAAAAAAAYhAaAgAAAAAAAIhBaAgAAAAAAAAgRlK8CwAAAAAAAABKU97rIzJLc3vVL79i5r7azJ8/P7lPnz7H5ubmJpuZ+vbtu/b+++9f07Vr1yYLFixIkaS8vLzE6tWr78rJycl+5513atx3333pBQUFlpyc7IMHD17WrVu3PEnq1KlT8zVr1iTv2rXLTjnllLxXXnllSVJS+cZ4hIYAAAAAAADAAUpOTtbQoUOXdezYcduGDRsSTjrppIwuXbpsHj9+/MJIm379+h1ds2bNXZJ05JFHFowfP35+48aNC6ZPn57StWvXFmvWrJklSWPHjl2QmppaVFRUpAsuuKDpiy++WPuGG27YUJ7HQ2gIAAAAAAAAHKBGjRoVNGrUqECSateuXdS0adPtS5YsqZSZmblDkoqKijRu3LjUSZMmzZWkDh06bI88NzMzc0d+fn7C9u3brUqVKp6amlokSQUFBVZQUGBmVu7Hw5yGAAAAAAAAQCmaO3dupezs7KqdO3feElk2ceLEanXr1i1o06ZNfvH2w4cPr926dettVapU8ciyjh07Nq9Xr17bI444Ytc111xTrr0MJUJDAAAAAAAAoNRs2rQpoXv37k0fffTRpZEeg5I0YsSI1B49eqwv3n7GjBkpDzzwQPpzzz23OHr51KlT561aterbnTt3JowbN65GedQejdAQAAAAAAAAKAX5+fnWtWvXpj179lzft2/fjZHlBQUFmjBhQu2rrroqJjRcsGBB8iWXXNLshRde+LF169Y/6YFYtWpVv/DCCze+8847tcq++liEhgAAAAAAAMABKioq0qWXXtqoRYsWOwYMGLA6et3YsWNrNGnSZEfTpk0LIstyc3MTu3Tp0nzgwIHLzj333K2R5Zs2bUpYvHhxshSEjR988EHNVq1abVc540YoAAAAAAAAqFCqX37FzPLe56RJk6qNGTOmTvPmzbe3atUqQ5IGDhy4vHfv3ptGjhyZ2rNnz5hehkOGDDlyyZIllQcPHnzU4MGDj5KkyZMn/1BUVKSuXbs227lzp7m7nX766Zt/+9vfri3v4yE0BAAAAAAAAA7Qeeedt8XddxtWjh49elHxZUOGDFk5ZMiQlbtrP3v27O9Lubz9xvBkAAAAAAAAADEIDQEAAAAAAADEIDQEAAAAAAAAEIPQEAAAAAAAAEAMQkMAAAAAAAAAMQgNAQAAAAAAAMRIincBAAAAAAAAQGn6a/9xmaW5vVuGXjhzX22+/fbbyr17924aebxs2bLKd9999/Jf/vKXeTfddFOj/Pz8hKSkJH/66acXn3XWWdvee++96pdddlnT9PT0nZKUlZW14bHHHlspST179mw8efLkmnXq1CmcN2/enNI8lpIiNAQAAAAAAAAOUNu2bfNzcnKyJamwsFD169dve+mll2685pprGt17770revXqtfmNN96oec899zScNm3aXElq167dlilTpswvvq1rr7029/bbb19zzTXXHFvexxHB8GQAAAAAAACgFL377rs1jjnmmPwWLVrsNDNt2rQpUZI2btyYmJaWtnNfz7/gggu21KtXr7DsK90zehoCAAAAAAAApWjkyJGpl1xyyTpJeuqpp5Z27dq1+f3339+wqKhIU6dOzYm0+/rrr6u1bNkyIy0treDxxx9f2q5dux3xqzoWPQ0BAAAAAACAUrJjxw778MMPa1555ZUbJOmpp56qN3jw4KWrVq2a9cgjjyy9+uqrG0vS6aefvnXx4sWz5s6dm33zzTev6dGjR7O4Fl4MoSEAAAAAAABQSt5+++2aGRkZ2xo2bFgoSaNHj65z1VVXbZSka6+9dsOsWbOOkKTU1NSimjVrFklS7969NxUWFtrKlSsPmlHBhIYAAAAAAABAKRk1alRqr1691kce16tXr+D999+vLknjxo2r3qhRox2StGTJkqSioiJJ0pQpU6oWFRUpLS0trvMYRjto0ksAAAAAAACgNNwy9MKZ8djv5s2bE6ZOnVpj+PDhiyPL/v73vy++8847G/bv398qV65c9MwzzyyWpBEjRtR+8cUXj0xMTPSUlJSiV155ZWFCQtC/78ILLzz2iy++qL5hw4aktLS0E373u9+tuOOOO3LL81gIDQEAAAAAAIBSUKNGjaKNGzd+E73svPPO2zJnzpzvi7f9wx/+sPYPf/jD2t1tZ9y4cT+WUYklxvBkAAAAAAAAADEIDQEAAAAAAADEIDQEAAAAAAAAEIPQEAAAAAAAAEAMQkMAAAAAAAAAMQgNAQAAAAAAAMRIincBAAAAAAAAQGn6z/vfZpbm9jp0aTuzpG0LCwvVpk2bjPr16++cMmXK/G7duh07a9asI5KTk/3EE0/cOmLEiMWVK1f2+++/P+2tt96qI0m7du2yhQsXpqxYseKbvLy8hD59+hybm5ubbGbq27fv2vvvv39NaR5PSdDTEAAAAAAAACglgwYNSmvWrNn2yOM+ffqsX7hw4ey5c+fO2bFjhz355JN1Jemhhx5anZOTk52Tk5M9cODAZSeffHJeWlraruTkZA0dOnTZggUL5kyfPv37F1544ciZM2emlPdxEBoCAAAAAAAApWDBggXJEydOrNmvX7/cyLLevXtvSkhIUEJCgtq1a7d12bJllYo/b+TIkak9e/ZcL0mNGjUq6Nix4zZJql27dlHTpk23L1my5CfPKWuEhgAAAAAAAEApuPnmmxsOGTJkWULCTyO3/Px8e+ONN+p07dp1U/TyvLy8hE8++aTmFVdcsaH4c+bOnVspOzu7aufOnbeUYdm7RWgIAAAAAAAAHKCRI0fWrFu3bmGnTp227W593759j2nfvv2W888/PyYAHDVqVM3MzMwtaWlpu6KXb9q0KaF79+5NH3300aWpqalFZVn77nAjFAAAAAAAAOAATZ06tdqkSZNqpaen18zPz0/YunVrwkUXXXTs2LFjf+zfv3+D3NzcpIkTJy4o/rw333wztVevXuujl+Xn51vXrl2b9uzZc33fvn03lttBRKGnIQAAAAAAAHCAhg0btnz16tWzli9f/t3LL7+8sH379nljx4798fHHH6/70Ucf1RwzZszCxMTEmOesW7cucdq0adUvv/zyjZFlRUVFuvTSSxu1aNFix4ABA1aX93FE0NMQAAAAAAAAFUqHLm1nxruGiLvvvrtRgwYN8tu1a3ecJGVlZW147LHHVkrSa6+9VqtTp06ba9So8d/hx5MmTao2ZsyYOs2bN9/eqlWrDEkaOHDg8t69e2/a/R7KBqEhAAAAAAAAUIqysrLysrKy8iSpsLBwjwHmbbfdtu62225bF73svPPO2+LucQ89GZ4MAAAAAAAAIAahIQAAAAAAAIAYhIYAAAAAAAAAYhAaAgAAAAAAAIhBaAgAAAAAAAAgBqEhAAAAAAAAgBhJ8S4AAAAAAAAAKE0PX3FJZmlu794Rb88sadvCwkK1adMmo379+junTJkyv1u3bsfOmjXriOTkZD/xxBO3jhgxYnHlypX9/vvvT3vrrbfqSNKuXbts4cKFKStWrPgmLS1t10MPPXTkK6+8Us/dddVVV6194IEH1pTm8ZQEPQ0BAAAAAACAUjJo0KC0Zs2abY887tOnz/qFCxfOnjt37pwdO3bYk08+WVeSHnroodU5OTnZOTk52QMHDlx28skn56Wlpe2aPn16yiuvvFLvq6+++v7777+fM2HChFqzZ8+uXN7HQWgIAAAAAAAAlIIFCxYkT5w4sWa/fv1yI8t69+69KSEhQQkJCWrXrt3WZcuWVSr+vJEjR6b27NlzvSR99913VU466aQt1atXL0pOTlaHDh3yRo0aVascD0MSoSEAAAAAAABQKm6++eaGQ4YMWZaQ8NPILT8/39544406Xbt23RS9PC8vL+GTTz6pecUVV2yQpBNPPHH7tGnTqq9atSoxLy8vYdKkSTWXLl36k6CxrBEaAgAAAAAAAAdo5MiRNevWrVvYqVOnbbtb37dv32Pat2+/5fzzz98SvXzUqFE1MzMzt6Slpe2SpF/84hc7br/99lXnnHNOi7POOqt569attyUmJpbHIcTgRigAAAAAAADAAZo6dWq1SZMm1UpPT6+Zn5+fsHXr1oSLLrro2LFjx/7Yv3//Brm5uUkTJ05cUPx5b775ZmqvXr3WRy+74447cu+4445cSbrlllvSjz766J3ldRwR9DQEAAAAAAAADtCwYcOWr169etby5cu/e/nllxe2b98+b+zYsT8+/vjjdT/66KOaY8aMWVi8x+C6desSp02bVv3yyy/fGL18+fLlSZI0b968SuPHj691/fXXx4SK5YGehgAAAAAAAKhQ7h3x9sx41xBx9913N2rQoEF+u3btjpOkrKysDY899thKSXrttddqderUaXONGjWKop/TrVu3phs3bkxKSkryJ598ckndunV3lXfdhIYAAAAAAABAKcrKysrLysrKk6TCwsI9Bpi33Xbbuttuu21d8eUzZ86cW5b1lQTDkwEAAAAAAADEIDQEAAAAAAAAEIPQEAAAAAAAAEAMQkMAAAAAAAAAMQgNAQAAAAAAAMQgNAQAAAAAAAAQIyneBQAAAAAAAAClacrw5zJLc3tn9e03s6RtCwsL1aZNm4z69evvnDJlyvxu3bodO2vWrCOSk5P9xBNP3DpixIjFlStX9vvvvz/trbfeqiNJu3btsoULF6asWLHim+rVqxedeuqprXbu3Gm7du2yCy+8cMMTTzyxQpIeeeSRes8880za0qVLK69YseLbBg0aFJbmcUajpyEAAAAAAABQSgYNGpTWrFmz7ZHHffr0Wb9w4cLZc+fOnbNjxw578skn60rSQw89tDonJyc7Jycne+DAgctOPvnkvLS0tF0pKSk+derUuXPnzs2eM2dO9uTJk2tMnjz5CEnq3LnzlkmTJv1w1FFH7Szr4yA0BAAAAAAAAErBggULkidOnFizX79+uZFlvXv33pSQkKCEhAS1a9du67JlyyoVf97IkSNTe/bsuV6SEhISVLNmzSJJ2rlzpxUWFpqZSZI6dOiwvWXLlmUeGEqEhgAAAAAAAECpuPnmmxsOGTJkWULCTyO3/Px8e+ONN+p07dp1U/TyvLy8hE8++aTmFVdcsSGyrLCwUK1atcpIS0tr27lz581nn3321nIoP0aJQkMzq2JmLcu6GAAAAAAAAOBQNHLkyJp169Yt7NSp07bdre/bt+8x7du333L++edviV4+atSompmZmVvS0tJ2RZYlJSUpJycne8mSJbO++uqrI6ZPn55S1vUXt8/Q0MwulPSNpAnh4xPN7N0yrgsAAAAAAAA4ZEydOrXapEmTaqWnp7e5+uqrm3zxxRfVL7roomMlqX///g1yc3OTnnvuuaXFn/fmm2+m9urVa/3utlm3bt1dnTp1yhs3blzNsq6/uJL0NBwg6RRJGyXJ3b+RdGyZVQQAAAAAAAAcYoYNG7Z89erVs5YvX/7dyy+/vLB9+/Z5Y8eO/fHxxx+v+9FHH9UcM2bMwsTExJjnrFu3LnHatGnVL7/88o2RZStWrEjKzc1NlKQtW7bYlClTahx33HE7yvdopKQStClw902RCRdDXkb1AAAAAAAAAAfkrL79Zsa7hoi77767UYMGDfLbtWt3nCRlZWVteOyxx1ZK0muvvVarU6dOm2vUqFEUab906dLkq6+++thdu3bJ3e2iiy5af9lll22SpEGDBh359NNP11+3bl1y27ZtM84666xNb7zxxuKyqLskoeEcM7tcUqKZNZd0m6TPyqIYAAAAAAAA4FCXlZWVl5WVlSdJhYWFewwwb7vttnW33Xbbuuhlp5566vbvv/8+e3ft77vvvjX33XffmtKtdvdKMjz5VkmtJeVLGilps6TflGFNAAAAAAAAAOJonz0N3X2bpHvDfwAAAAAAAAAquH2GhmY2Tj+dw3CTpBmSnnX3cp+IEQAAAAAAAEDZKcnw5IWStkh6Lvy3WVKepBbhYwAAAAAAAAAVSEluhHK6u58c9XicmU1395PNbM7P2amZ1ZL0vKTjFfRivFbSXElvSGosaZGkXu6+4edsHwAAAAAAAMDPV5KehtXM7JjIg/DnauHDnT9zv3+RNMHdW0lqK+l7Sb+TNNndm0uaHD4GAAAAAAAAUM5K0tOwv6SpZrZAkkk6VtKvzewIScP3d4dmVlPSGZKuliR33ylpp5ldJOnMsNlwSf+WdM/+bh8AAAAAAACHt+8f/iizNLd33L1nzyxp28LCQrVp0yajfv36O6dMmTK/W7dux86aNeuI5ORkP/HEE7eOGDFiceXKlf3+++9Pe+utt+pI0q5du2zhwoUpK1as+CYtLW3X22+/XeOuu+46pqioSFdccUXuI488sqo0j6ck9tnT0N3fl9Rc0m8k3S6ppbuPd/et7v7kz9jnsZLWSnrJzL42s+fDADLN3VeGbVZJSvsZ2wYAAAAAAADiZtCgQWnNmjXbHnncp0+f9QsXLpw9d+7cOTt27LAnn3yyriQ99NBDq3NycrJzcnKyBw4cuOzkk0/OS0tL21VYWKg77rjjmPfff/+HH374Yc7o0aNTZ86cmVLex1GS4clSEBq2VDCUuJeZXXUA+0yS9AtJf3f3kyRtVbGhyO7u+ukdmyVJZnaDmc0wsxlr1649gDIAAAAAAACA0rNgwYLkiRMn1uzXr19uZFnv3r03JSQkKCEhQe3atdu6bNmySsWfN3LkyNSePXuul6R///vfRzRq1Cg/IyNjZ0pKinfv3n3922+/XascD0NSCUJDM3tQ0tPhv7MkDZHU7QD2uUzSMnf/Mnz8toIQcbWZNQj32UDSmt092d3/4e7t3L1dvXr1DqAMAAAAAAAAoPTcfPPNDYcMGbIsIeGnkVt+fr698cYbdbp27bopenleXl7CJ598UvOKK67YIElLly6tlJ6e/t/7iBx99NE7ly9f/pOgsayVpKfhJZLOkbTK3a9R0Nuw5s/dobuvkrTUzFqGi86RlC3pXUl9w2V9JY39ufsAAAAAAAAAytPIkSNr1q1bt7BTp07bdre+b9++x7Rv337L+eefvyV6+ahRo2pmZmZuSUtL21U+lZZMSW6Est3di8ys0MxqKOgB2PAA93urpNfMrJKkhZKuURBgvmlm10laLKnXAe4DAAAAAAAAKBdTp06tNmnSpFrp6ek18/PzE7Zu3Zpw0UUXHTt27Ngf+/fv3yA3Nzdp4sSJC4o/780330zt1avX+sjjhg0bxvQsXLZsWUzPw/JSktBwhpnVkvScpJmStkj6/EB26u7fSGq3m1XnHMh2AQAAAAAAgHgYNmzY8mHDhi2XpPfee6/60KFD08aOHfvj448/Xvejjz6q+emnn85NTEyMec66desSp02bVn306NE/RpZ17tx566JFi1JycnIqNW7cuOCf//xn6muvvbawnA9n36Ghu/86/PEZM5sgqYa7zyrbsgAAAAAAAICf57h7z54Z7xoi7r777kYNGjTIb9eu3XGSlJWVteGxxx5bKUmvvfZarU6dOm2uUaNGUaR9cnKyhg4duuT8889vsWvXLl1++eW57dq121Hede8zNDSzye5+jiS5+6LiywAAAAAAAAD8T1ZWVl5WVlaeJBUWFu4xwLztttvW3XbbbeuKL+/du/em3r17b9rdc8rLHkNDM0uRVFVSXTOrLcnCVTUkpZdDbQAAAAAAAADiYG89DW+U9BtJRymYyzASGm6W9NeyLQsAAAAAAABAvOwxNHT3v0j6i5nd6u5Pl2NNAAAAAAAAQHFFRUVFlpCQ4PEupCIoKioySUV7Wl+SG6E8bWanS2oc3d7dXymNAgEAAAAAAIASmL127dqMevXqbSI4PDBFRUW2du3ampJm76lNSW6E8qqkppK+kbQrXOySCA0BAAAAAABQLgoLC69ftWrV86tWrTpeUkK86znEFUmaXVhYeP2eGuwzNJTUTlKGu5PgAgAAAAAAIC4yMzPXSOoW7zoOFyVJZWdLql/WhQAAAAAAAAA4OJSkp2FdSdlmNk1SfmShu5PsAgAAAAAAABVQSULDAWVdBAAAAAAAAICDR0nunvyxmTWS1NzdPzSzqpISy740AAAAAAAAAPGwzzkNzayfpLclPRsuSpc0pgxrAgAAAAAAABBHJbkRys2SOkjaLEnuPk/SkWVZFAAAAAAAAID4KUlomO/uOyMPzCxJkpddSQAAAAAAAADiqSSh4cdm9gdJVczs/yS9JWlc2ZYFAAAAAAAAIF5KEhr+TtJaSd9JulHS+5LuK8uiAAAAAAAAAMTPPu+eLKmKpBfd/TlJMrPEcNm2siwMAAAAAAAAQHyUpKfhZAUhYUQVSR+WTTkAAAAAAAAA4q0koWGKu2+JPAh/rlp2JQEAAAAAAACIp5KEhlvN7BeRB2aWKWl72ZUEAAAAAAAAIJ5KMqfh7ZLeMrMVkkxSfUm9y7QqAAAAAAAAAHGz19AwvOlJJ0mtJLUMF89194KyLgwAAAAAAABAfOx1eLK775J0mbsXuPvs8B+BIQAAAAAAAFCBlWR48n/M7K+S3pC0NbLQ3b8qs6oAAAAAAAAAxE1JQsMTw//+MWqZSzq71KsBAAAAAAAAEHf7DA3d/azyKAQAAAAAAADAwWGvcxpKkpmlmdkLZvZB+DjDzK4r+9IAAAAAAAAAxMM+Q0NJL0uaKOmo8PEPkn5TRvUAAAAAAAAAiLOShIZ13f1NSUWS5O6FknaVaVUAAAAAAAAA4qYkoeFWM6uj4OYnMrP2kjaVaVUAAAAAAAAA4qYkd0++U9K7kpqa2X8k1ZN0SZlWBQAAAAAAACBu9hoamlk9Bb0RL5Z0pCSTNNfdC8q+NAAAAAAAAADxsMfhyWZ2vaQ5kp6W9J2kpu4+m8AQAAAAAAAAqNj21tPwN5Jau/taM2si6TUFw5QBAAAAAAAAVGB7uxHKTndfK0nuvlBS5fIpCQAAAAAAAEA87a2n4dFm9tSeHrv7bWVXFgAAAAAAAIB42Vto+Ntij2eWZSEAAAAAAAAADg57DA3dfXh5FgIAAAAAAADg4LC3OQ0BAAAAAAAAHIYIDQEAAAAAAADE2GdoaGYdSrIMAAAAAAAAQMVQkp6GT5dwGQAAAAAAAIAKYI83QjGz0ySdLqmemd0ZtaqGpMSyLgwAAAAAAABAfOwxNJRUSVK1sE31qOWbJV1SlkUBAAAAAAAAiJ89hobu/rGkj83sZXdfXI41AQAAAAAAAIijvfU0jKhsZv+Q1Di6vbufXVZFAQAAAAAAAIifkoSGb0l6RtLzknaVbTkAAAAAAAAA4q0koWGhu/+9zCsBAAAAAAAAcFBIKEGbcWb2azNrYGapkX9lXhkAAAAAAACAuChJT8O+4X9/G7XMJTUp/XIAAAAAAAAAxNs+Q0N3P7Y8CgEAAAAAAABwcNjn8GQzq2pm94V3UJaZNTezrLIvDQAAAAAAAEA8lGROw5ck7ZR0evh4uaRBZVYRAAAAAAAAgLgqSWjY1N2HSCqQJHffJsnKtCoAAAAAAAAAcVOS0HCnmVVRcPMTmVlTSfllWhUAAAAAAACAuCnJ3ZMflDRBUkMze01SB0lXl2VRAAAAAAAAAOKnJHdPnmRmX0lqr2BY8u3unlvmlQEAAAAAAACIi5IMT5akdEmJkipJOsPMupddSQAAAAAAAADiaZ89Dc3sRUknSJojqShc7JL+WYZ1AQAAAAAAAIiTksxp2N7dM8q8EgAAAAAAAAAHhZIMT/7czAgNAQAAAAAAgMNESXoavqIgOFwlKV/BzVDc3U8o08oAAAAAAAAAxEVJQsMXJF0p6Tv9b05DAAAAAAAAABVUSULDte7+bplXAgAAAAAAAOCgUJLQ8Gsze13SOAXDkyVJ7s7dkwEAAAAAAIAKqCShYRUFYeG5UctcEqEhAAAAAAAAUAGVJDS8y93XlXklAAAAAAAAAA4KCSVo84WZvWVmXczMyrwiAAAAAAAAAHFVktCwhaR/KLiD8jwze8TMWpRtWQAAAAAAAADiZZ+hoQcmuftlkvpJ6itpmpl9bGanlXmFAAAAAAAAAMrVPuc0NLM6kq5Q0NNwtaRbJb0r6URJb0k6tgzrAwAAAAAAAFDOSnIjlM8lvSrpYndfFrV8hpk9UzZlAQAAAAAAAIiXkoSGLd3dd7fC3f9UyvUAAAAAAAAAiLOShIZ1zexuSa0lpUQWuvvZZVYVAAAAAAAAgLgpyd2TX5OUo2DuwoGSFkmaXoY1AQAAAAAAAIijkoSGddz9BUkF7v6xu18riV6GAAAAAAAAQAVVkuHJBeF/V5pZV0krJKWWXUkAAAAAAAAA4qkkoeEgM6spqb+kpyXVkHRHmVYFAAAAAAAAIG72GBqaWYqkX0lqJild0gvuflZ5FQYAAAAAAAAgPvY2p+FwSe0kfSfpAklDy6UiAAAAAAAAAHG1t+HJGe7eRpLM7AVJ08qnJAAAAAAAAADxtLeehpEboMjdC8uhFgAAAAAAAAAHgb31NGxrZpvDn01SlfCxSXJ3r1Hm1QEAAAAAAAAod3sMDd09sTwLAQAAAAAAAHBw2Nvw5DJlZolm9rWZvRc+PtbMvjSz+Wb2hplVildtAAAAAAAAwOEsbqGhpNslfR/1+E+SnnD3ZpI2SLouLlUBAAAAAAAAh7m4hIZmdrSkrpKeDx+bpLMlvR02GS7p4njUBgAAAAAAABzu4tXT8ElJd0sqCh/XkbQx6i7NyySl7+6JZnaDmc0wsxlr164t80IBAAAAAACAw025h4ZmliVpjbvP/DnPd/d/uHs7d29Xr169Uq4OAAAAAAAAwB7vnlyGOkjqZmZdJKVIqiHpL5JqmVlS2NvwaEnL41AbAAAAAAAAcNgr956G7v57dz/a3RtLulTSR+7eR9IUSZeEzfpKGlvetQEAAAAAAACI792Ti7tH0p1mNl/BHIcvxLkeAAAAAAAA4LAUj+HJ/+Xu/5b07/DnhZJOiWc9AAAAAAAAAA6unoYAAAAAAAAADgKEhgAAAAAAAABiEBoCAAAAAAAAiEFoCAAAAAAAACAGoSEAAAAAAACAGISGAAAAAAAAAGIQGgIAAAAAAACIQWgIAAAAAAAAIAahIQAAAAAAAIAYhIYAAAAAAAAAYhAaAgAAAAAAAIhBaAgAAAAAAAAgBqEhAAAAAAAAgBiEhgAAAAAAAABiEBoCAAAAAAAAiEFoCAAAAAAAACAGoSEAAAAAAACAGISGAAAAAAAAAGIQGgIAAAAAAACIQWgIAAAAAAAAIAahIQAAAAAAAIAYhIYAAAAAAAAAYhAaAgAAAAAAAIhBaAgAAAAAAAAgBqEhAAAAAAAAgBiEhgAAAAAAAABiEBoCAAAAAAAAiEFoCAAAAAAAACAGoSEAAAAAAACAGISGAAAAAAAAAGIQGgIAAAAAAACIQWgIAAAAAAAAIAahIQAAAAAAAIAYhIYAAAAAAAAAYhAaAgAAAAAAAIhBaAgAAAAAAAAgBqEhAAAAAAAAgBiEhgAAAAAAAABiEBoCAAAAAAAAiEFoCAAAAAAAACAGoSEAAAAAAACAGISGAAAAAAAAAGIQGgIAAAAAAACIQWgIAAAAAAAAIAahIQAAAAAAAIAYhIYAAAAAAAAAYhAaAgAAAAAAAIhBaAgAAAAAAAAgBqEhAAAAAAAAgBiEhgAAAAAAAABiEBoCAAAAAAAAiEFoCAAAAAAAACAGoSEAAAAAAACAGISGAAAAAAAAAGIQGgIAAAAAAACIQWgIAAAAAAAAIAahIQAAAAAAAIAYhIYAAAAAAAAAYhAaAgAAAAAAAIhBaAgAAAAAAAAgBqEhAAAAAAAAgBiEhgAAAAAAAABiEBoCAAAAAAAAiEFoCAAAAAAAACAGoSEAAAAAAACAGISGAAAAAAAAAGIQGgIAAAAAAACIQWgIAAAAAAAAIAahIQAAAAAAAIAYhIYAAAAAAAAAYhAaAgAAAAAAAIhBaAgAAAAAAAAgBqEhAAAAAAAAgBiEhgAAAAAAAABiEBoCAAAAAAAAiEFoCAAAAAAAACAGoSEAAAAAAACAGISGAAAAAAAAAGIQGgIAAAAAAACIQWgIAAAAAAAAIAahIQAAAAAAAIAYhIYAAAAAAAAAYhAaAgAAAAAAAIhBaAgAAAAAAAAgBqEhAAAAAAAAgBjlHhqaWUMzm2Jm2WY2x8xuD5enmtkkM5sX/rd2edcGAAAAAAAAID49DQsl9Xf3DEntJd1sZhmSfidpsrs3lzQ5fAwAAAAAAACgnJV7aOjuK939q/DnPEnfS0qXdJGk4WGz4ZIuLu/aAAAAAAAAAMR5TkMzayzpJElfSkpz95XhqlWS0vbwnBvMbIaZzVi7dm35FAoAAAAAAAAcRuIWGppZNUmjJf3G3TdHr3N3l+S7e567/8Pd27l7u3r16pVDpQAAAAAAAMDhJS6hoZklKwgMX3P3f4aLV5tZg3B9A0lr4lEbAAAAAAAAcLiLx92TTdILkr5398ejVr0rqW/4c19JY8u7NgAAAAAAAABSUhz22UHSlZK+M7NvwmV/kPSopDfN7DpJiyX1ikNtAAAAAAAAwGGv3ENDd58qyfaw+pzyrAUAAAAAAADAT8X17skAAAAAAAAADj6EhgAAAAAAAABiEBoCAAAAAAAAiEFoCAAAAAAAACAGoSEAAAAAAACAGISGAAAAAAAAAGIQGgIAAAAAAACIQWgIAAAAAAAAIAahIQAAAAAAAIAYhIYAAAAAAAAAYhAaAgAAAAAAAIhBaAgAAAAAAAAgBqEhAAAAAAAAgBiEhgAAAAAAAABiEBoCAAAAAAAAiEFoCAAAAAAAACAGoSEAAAAAAACAGISGAAAAAAAAAGIQGgIAAAAAAACIQWgIAAAAAAAAIAahIQAAAAAAAIAYhIYAAAAAAAAAYhAaAgAAAAAAAIhBaAgAAAAAAAAgBqEhAAAAAAAAgBiEhgAAAAAAAABiEBoCAAAAAAAAiEFoCAAAAAAAACAGoSEAAAAAAACAGISGAAAAAAAAAGIQGgIAAAAAAACIQWgIAAAAAAAAIAahIQAAAAAAAIAYhIYAAAAAAAAAYhAaAgAAAAAAAIhBaAgAAAAAAAAgBqEhAAAAAAAAgBiEhgAAAAAAAABiEBoCAAAAAAAAiEFoCAAAAAAAACAGoSEAAAAAAACAGISGAAAAAAAAAGIQGgIAAAAAAACIQWgIAAAAAAAAIAahIQAAAAAAAIAYhIYAAAAAAAAAYhAaAgAAAAAAAIhBaAgAAAAAAAAgBqEhAAAAAAAAgBiEhgAAAAAAAABiEBoCAAAAAAAAiEFoCAAAAAAAACAGoSEAAAAAAACAGISGAAAAAAAAAGIQGgIAAAAAAACIQWgIAAAAAAAAIAahIQAAAAAAAIAYhIYAAAAAAAAAYhAaAgAAAAAAAIhBaAgAAAAAAAAgBqEhAAAAAAAAgBiEhgAAAAAAAABiEBoCAAAAAAAAiEFoCAAAAAAAACAGoSEAAAAAAACAGISGAAAAAAAAAGIQGgIAAAAAAACIQWgIAAAAAAAAIAahIQAAAAAAAIAYhIYAAAAAAAAAYhAaAgAAAAAAAIhBaAgAAAAAAAAgBqEhAAAAAAAAgBiEhgAAAAAAAABiEBoCAAAAAAAAiEFoCAAAAAAAACAGoSEAAAAAAACAGISGAAAAAAAAAGIQGgIAAAAAAACIQWgIAAAAAAAAIAahIQAAAAAAAIAYhIYAAAAAAAAAYhAaAgAAAAAAAIhBaAgAAAAAAAAgBqEhAAAAAAAAgBgHVWhoZueb2Vwzm29mv4t3PQAAAAAAAMDh6KAJDc0sUdIwSRdIypB0mZllxLcqAAAAAAAA4PBz0ISGkk6RNN/dF7r7TkmjJF0U55oAAAAAAACAw465e7xrkCSZ2SWSznf368PHV0o61d1vKdbuBkk3hA9bSppbroUevupKyo13EUAZ4NxGRcR5jYqI8xoVFec2KiLO6/LTyN3rxbsIVExJ8S5gf7n7PyT9I951HG7MbIa7t4t3HUBp49xGRcR5jYqI8xoVFec2KiLOa6BiOJiGJy+X1DDq8dHhMgAAAAAAAADl6GAKDadLam5mx5pZJUmXSno3zjUBAAAAAAAAh52DZniyuxea2S2SJkpKlPSiu8+Jc1n4H4aEo6Li3EZFxHmNiojzGhUV5zYqIs5roAI4aG6EAgAAAAAAAODgcDANTwYAAAAAAABwECA0BAAAAAAAABCD0BAAijGz5HjXAAAAAFRkZmbxrgHA3hEa4oCYWUq8awBKk5mdIemy8OfEOJcDlAkz4///qJD4AIqKiGs2KgozO9XMeppZOzNLdG6wABz0uBEKfjYzy5LUXtIf3X1nvOsBDpSZnStptKQCSce4+5Y4lwSUCjP7P0mnKPiy8Cl33xTnkoBSYWa/kJQmabGkue6+K84lAQfMzM6UdKKC9yOvuvtmMzMCFhzKzOwiSX+UNFtSoqTfu/uP4TrOb+AgxbdW+FnM7HxJD0maXDww5Ft+HIrCEPwRSadLel7SnXyzj4rAzLpKGiIpV1IzSb+PWsc5jkOWmXWR9LKkPgo+iLaNWsd7ERySwvcjT0qqIekkSc+ZWWUCFRzKzKyepNskXe7ufRQE4sebWaqZJbu7c90GDk58WMB+M7MMSX+RNMzdp5hZbTM72czamFkKF30casysjqQrJd3j7t9J+lbSsVHrOZ9xSDKzxpJulXS7uz8r6QNJbmYdzay6uxcRHOJQZGYdJf1J0vXufoWkPEnHmFlSZMgb124casyskaQ7Jd3k7n+UNEDSdkmp8awLKCUpkhqYWTUFX9LfKOkpSb8nGAcOXgxPxn4L39A8LOljBcOB7pe0VlKhgjftt7r7tvhVCJScmVVx9+1mVsvdN4bLjpD0iaRx7j4gnvUBB8LMakmq7+45ZpYq6XMFofhqSedLOsXdN8SxROBnMbPjJKW5+7/DHixfSfpO0o+SVkr6s7vnx7NGYH+F1+lfuvub4eMESf9S8EX9O1HtGMqJQ4KZNZC0yd23mdm1Cnob7pL0jrsPCqcGulzBNXtOPGsFsHv0LsB+c/fFkgYq+IboCQVzrXSXdJ+kSpIy41geUGJm9ktJvwl7yG4MlyW5+1ZJt0hqYWZN4lkjcCDcfaO754QPj5PU3917ufutkj6TdH38qgP2XziqoY67f+/u/w4XXyVpqLt3kTRGwbnOtRuHHHdfL+ldKbgZm7sXSZoraXO4rHP4ZSeBIQ56ZtZewZeVV4ajG16UdJ6kTxW8B5G7/0tSLUlHx6tOAHtHaIgSMbMzwm+HJEnuPk/B/EEPuPs/wmU/KJjUtnp8qgRKzswukPSYpM/cfUdkubsXhkPalisYRtF2D5sADkpm1s3Mnox6nChJ7v4fd38vajjyYgXD3oBDgpmdJ+lZSXWjl7v7UHd/Mvx5kqSqYjgnDhHFr9kKRu5IUlH4362SdprZJQq+rI85/4GD2GoF8ymnS7rczGq6+2oFo9X6mFmHcA7PhpJy9rIdAHGUFO8CcPALu42/IWmWmdV296GS5O4/mtmiqHbdJbWUlB2XQoESCoe1vSrpt+7+sZnVlVRNUnV3/y78Bn+JmX0k6UEze09SId/s42BnZqdIGiapmpkd6e6Xu/uusAdtoSSF8xj2knSBpCviWS9QUmZ2oYJRDje6+9xi6/47VNPM/p+CD6CLy79KYP/s4ZpdGPYyjNwJvFDS3xR8yXOluy+NV73AftqpYAqrfEnHSzrXzHIUBOE5CualzZd0bTiSDcBBiDkNsU9m9mtJNSVNkHSvpM8jwaGZJYQfQK+TdIekS919dvyqBfbNzFpI+pWkNZKmKbib7ApJp0oaFT2PoZnVc/e18agT2F/hne2ruPs7Zva1pBx3vyxclyjJJPWQdLukG7he41BgZkmSRklq6u4nhXN13iopTdJIBddxKRhuf4ukXsyNhUPBPq7Zye5eYGa3K5gH7oJwVA9wyDCz30p6XVILBe89TpR0ibvPCOfw3OXum+JYIoB9IDTEHplZJXffGf5cQ9I2SR0l3Sxpmrv/OaptE0kJ7j4/LsUCJRB+o5/o7p+bWVtJvRTcue1Bdx8W3mn2I0lXufvUOJYK/GxmVt/dV4XD7GdImu/uvcN1NRQEh0e4+4p41gnsDzOrrqBH1lEKpo54L/zvGZIecvcpZtZJ0priPRGBg1kJrtnVJKW4+8J41gnsi5l1kFRFUpG7fxQue1zSZAW9C0cquGnVKEnvEhYChwZCQ+yWmXWV1EHS89FvUsyssoIboPxa0vuStij48PlyPOoESiqcM+XvCoZjfhr2kG0rqZG7vxvVa/bvkp5z96/iWjBQQmZ2pqTmCnqrPBUuq+TuO8PehdMUvEmfKOlMSXdGvhACDmZRH0Dd3SebWRVJb0qa4e4Dwza3K3i/clnUcE7goLUf1+x/Kbhm/8bdC+JTLVAy4XRWzysIBM+Q9K2732hmHRV8QX+apN8quKfCKZIedfcN8aoXQMkxpyH2pJOkLpIWmdlkd18gSe6eb2afS1ol6R1JDRS8WQcOSuE39/Uk/UbBXEAfm1lVBT1nZ7v7t5G5g8J53k6R9Gj8KgZKzsy6KLihz18l3WFmx7n7TeGHz+Twg2ammW2W1F3SWQSGOBQU+wDa2cy+cvebwptB7Iyax3CLgjmz+BYcB72fec0mMMRBLQy7+0ga6O4vhO+zJ4W9DAcp+PKnv7uPDd+XT3b3jfGrGMD+4O7J2JN5Ct6Enybp/5lZTTM7IgxXdij4BqmqpNOYEwsHs/BD5VpJ8yV9YWaNJL1hZsMkvRrOWbjLzK6U9AcFQ5OZjBkHPTM7RtJ9km51978pmCeojZm1DAOVgrDdmZLWSTrD3WfFqVygxIp9AL1b0lmSTjCzv7p7vofM7BoF89P+3d2L9rZNIN64ZqOiCQNAhb28p0lKNbMUd98m6TwF01r9xt0vCQPDpPDyvTF+VQPYX4SG+K/wTXrEhwqGAP1ZwRCKP0l6TlKNcH1VSV3dnTsl46AVdU7XUDAPVl9JN0iaJOlZSUslvRC2WyPp/zF5Pg52kTfpCu44OCgctllJQe/Z7ZJSi93pu4qk/+PcxsGuBB9AM8MvfGRmGZJ+qeCum3x5iYMW12xUYEdG/fydgmtyI0ly9y3h47PN7LRwWWG5VwjggBEaQpIUTh7eJ3wTI0mFCnpcZUv6RsE8cDslJUqSuz/h7t/Fo1agJMzsl5IeCHsSblIw5PhuSae4+1Pht/dDJa1WMGHzRHf/MY4lAyV1dBh0b3D39yXJ3XeGvVQWSiqSJDNrH677gJtU4RCxrw+g5ynocZipoPf4jbwXwSGAazYqnHCu8DFm9pyZ/VHB58V3JL1iZq3MrIq7b5b0vcgcgEMaf8CIzK/ymqTlCsJCuftySe+a2fWSbpc0UMEcmL2jgkXgoBP1jf4tCublvMPM0t39M0m3KvjG88awzXmSWkuqWf6VAvvPzM6X9E9Jj0h6ycxahssj1+VakqqY2WWSRphZg7gUCuyn/fgAmqPgBhI7wyAROGhxzUZFZGZNJT0l6feSXlHw+fF9SW9IelHS45LuNrP7JZ2jYC58AIcoboRyGAvDlWqSrpR0fThcorqZFUnapeAC/5ykXu4+xsxOlrSCSfRxiPiXpJaSNkj6jZnd6+7vm1k7ScPMrIWCNzJ9mFsFhwIzay7pCQVD7L+W1F/Sh2Z2jrv/EDZbJuleSZUkXeTuK+NSLLAfoj6AXqvg/cdZCj6AXqjgBiePS/oyfH9yjrhZFQ4BXLNRga2T9IG7/zv8PDlVQXA4VlKWpFmSWklqp2A6qwVxqxTAASM0PIyF86fkmdma8L8NJY2U9IOktgou+tXDOyYnuPv0OJYLlEjUvEDTFZzHXyr4kPmSmcnd+5hZdwXzCA1x99VxKhXYXzsl/cfdP5UkMxutoDft+2Z2XvimfKWkSySd5+458SsV2C98AEVFxDUbFUo4hL65pFxJp5vZne7+eLjuUUmVJd3s7oMlfW5mLxebrxPAIYjhyYcpM2ttZmeb2VGStiqYN6i7pNfd/VpJoyR9qv8N2+SCj4OamaUVW7ROQej9iYKh9xdLSg4n1V/l7psIDHEoMLPmZvYLBZPon29mvzGz2grmmn1e0guSLgubfyypIx8+cSgws/bhnetP0/8+gHr4IfNRSVMUfAD93N1fknSLu38fz5qBfeGajYrIzLpJ+oeCqX26Shog6Voz+7UkhXew/0zSMZHnEBgCFQM9DQ9DZnaBgrsh/6ggMBym4A3MDoVvYtz9z2bWSmGwzEUfB7PwXM02s79Iynb359x9oZllm9nvJfWTNEjBXZR/Z2aDuIMbDgVmdrGCOWV/VPBmfLSk6xW8KW8l6X5JZ0q6QJLoEY5DRfgBdJCCXoQbFXwAfdjMdrj739y9yMw+U/CFjyTei+DgxzUbFZGZ1ZF0s6TL3X22mb2iYMTOrZKGh9OJ/11SA0ktzKy6u+fFrWAApYrQ8DBjZmdK+oukK9x9mpmNk7RJwbdGn0q62Mw2STpb0skK7+gGHOS2KHhzvkpSTzM7S9JbCkLC0xX0TnnfzDpImk9giENB+Cb9RkmXuXt2eAOfMySNVzC0fl3YrpGk2maWIimfYAUHOz6AoiLimo0KrFBSFUmtzGyppE6S6kjKlvSFpOsknSCps4K58LleAxWI8f+pw4uZHSepvrtPMbP6CiZm/krB/G8JkpoomJS5g6RfufucuBUL7Acze1xSuqQ+knoqmDcoU9JQSW+7+6Y4lgfsNzOrKek9SQ+6+0fhstEKhtt/LulNBcPd/qhgnrfZ8aoV2B/huT1Owc1PJim4U3J2+K+RpKYK3pdEPoB+F59KgZLjmo2KzMwuUXC35AJJ77v7H83sXAVTXL0raYaCaYHWxrFMAGWA0PAwZmb3KjgHBpnZ9QoClj+5+yIzq+3uG+JcIrBPZmbu7mZWSdIrkn6jYAjQcAVvYtIlrZH0W0lb+EYfhxIz+5WkjpImKjivGynoFX6yu19vZpdKmuHu8+NYJrDf+ACKiohrNiqycG7OP0j62N3fC5e9I+lldx8b1+IAlBmGJx/G3P3hqJ+fN7MekupKWqRgfiHgoBcGhhY+nKegZ2GmpNvdfYyZNZe0jqESOESNlJSn4A7gG939CimYDy4Myt8gCMehyN3fNrPJCj6AfhUu+5eZ3SSpjrvvUDDXMnAo4ZqNCsvdN5jZR5J6mdlOSSkKgvFv41sZgLJEaHiYivTOinrcQ9KRCoYmM9k4Dinh+brTzEYouBPhMHcfE66bF8/agAMRDqt/zcxGhncmlJldJam2pEruvjOuBQIHgA+gqGi4ZuMw8Lmk5pLuVfDFzjXuviiuFQEoUwxPPsyZWWUF86vcKak386vgUGdmV0tqrGDS8W3xrQYoXWZ2raS7FFyvmecNhzwzqyXpKkk9FHwAvdvdCQ1RIXDNRkVlZtUVZAmb410LgLJFaHiYM7NkSf8naYG7z413PcCBMrNWkoZIupTQEBVNeNfNZObDQkXDB1BURFyzAQCHOkJDABWOmVUlMAQAAAAA4OcjNAQAAAAAAAAQIyHeBQAAAAAAAAA4uBAaAgAAAAAAAIhBaAgAAAAAAAAgBqEhAAAAAAAAgBiEhgAA4KBnZrvM7Bszm21mb5lZ1XLab2Mzm11G2042s0fNbJ6ZfWVmn5vZBfvx/KvN7K9lURsAAABAaAgAAA4F2939RHc/XtJOSb+KXmlmSfEp66fMLLGETR+S1EDS8e7+C0kXS6peVnUBAAAA+4PQEAAAHGo+ldTMzM40s0/N7F1J2WaWYmYvmdl3Zva1mZ0lBSGemT0W9lKcZWa3hsszzexjM5tpZhPNrEHU8m/N7FtJN0d2Wrxnn5m9Z2Znhj9vMbOh4XNOM7MrzGxa2Dvy2eJBYthTsp+kW909X5LcfbW7vxmuvyw8jtlm9qeo511jZj+Y2TRJHaKW1zOz0WY2PfzXQQAAAMABIDQEAACHjLBH4QWSvgsX/ULS7e7eQkHA5+7eRtJlkoabWYqkGyQ1lnSiu58g6TUzS5b0tKRL3D1T0ouSHg63+ZKCMK/tfpR2hKQvw+esk9RbUgd3P1HSLkl9irVvJmmJu2/ezTEeJelPks6WdKKkk83s4jDUHKggLOwoKSPqaX+R9IS7nyyph6Tn96N2AAAA4CcOmqE8AAAAe1HFzL4Jf/5U0guSTpc0zd1/DJd3VBAEyt1zzGyxpBaSfinpGXcvDNetN7PjJR0vaZKZSVKipJVmVktSLXf/JNzmqwpCyn3ZJWl0+PM5kjIlTQ+3XUXSmv041pMl/dvd10qSmb0m6YxwXfTyN8LjU3iMGeH+JKmGmVVz9y37sV8AAADgvwgNAQDAoWB72Gvvv8KAbOvP3J5JmuPupxXbZq29PKdQsaM0UqJ+3uHuu6K2Pdzdf7+Xbc2XdIyZ1dhdb8OfIUFSe3ffUQrbAgAAABieDAAAKoxPFQ4DNrMWko6R/n9798/SVRzFcfz9EewBlAoN0QNwcRBBEHoSOuSUU1PNDg6tjQo6+QQcBSclwkGioMg//MIpaWlokYaGluPw+/7g3lDIyYj3a7uHL+ce7nj4nns4Bw6A56NlKUnut/hkkvkWG08yXVWXwGWShZazO1Z8AcwkGUvyCJi7oY43wGKSqdH7kjzuHqiqXwxvS64nudfOTSZZAj4AT5JMtH8hPgUOgfct/qCNVy91Uu4DL0YPSWb+5oNJkiRJN7FpKEmS/hdbwFiSU2AHeNaWjGwD34CTtqhkuap+A4vA6xb7zHDcGWAF2Gzj0OnkPwK+AgNgA/h0XRFVNQDWgP0kJwyblg+vOboG/GC4xOUM2AN+VtV3YBV4CxwDH6tqt8VfAe9aLV86uV4Cs23Ry4A/tktLkiRJt5WquusaJEmSJEmSJP1DvGkoSZIkSZIkqcemoSRJkiRJkqQem4aSJEmSJEmSemwaSpIkSZIkSeqxaShJkiRJkiSpx6ahJEmSJEmSpB6bhpIkSZIkSZJ6rgBqvGMjiTC5VAAAAABJRU5ErkJggg==\n",
       "datasetInfos": [],
       "metadata": {},
       "removedWidgets": [],
       "type": "image"
      }
     },
     "output_type": "display_data"
    }
   ],
   "source": [
    "# Set the figure size for better visibility\n",
    "plt.figure(figsize=(18, 8))\n",
    "\n",
    "# Create a stacked bar plot with procedure codes on the x-axis, payment percentage on the y-axis, and hue based on diagnosis codes\n",
    "sns.barplot(data=Procedure_Diag_Pmt_Dnl_Analysis, x='HCPCS_CD_1', y='PAYMENT_PERCENTAGE', hue='ICD9_DGNS_CD_1', palette='tab20')\n",
    "\n",
    "# Add a title to the plot\n",
    "plt.title('Payment Percentage Distribution for Top 20 Procedures by Diagnosis Code')\n",
    "\n",
    "# Label the x-axis\n",
    "plt.xlabel('Procedure Code')\n",
    "\n",
    "# Label the y-axis\n",
    "plt.ylabel('Payment Percentage')\n",
    "\n",
    "# Rotate the x-axis labels for better readability\n",
    "plt.xticks(rotation=45)\n",
    "\n",
    "# Move the legend to the right side of the plot\n",
    "plt.legend(title='Diagnosis Code', bbox_to_anchor=(1.05, 1), loc='upper left')\n",
    "\n",
    "# Adjust the layout to prevent clipping of the plot\n",
    "plt.tight_layout()\n",
    "\n",
    "# Display the plot\n",
    "plt.show()\n"
   ]
  },
  {
   "cell_type": "code",
   "execution_count": 0,
   "metadata": {
    "application/vnd.databricks.v1+cell": {
     "cellMetadata": {},
     "inputWidgets": {},
     "nuid": "661a4229-060c-4ccc-8ad3-46ab74138f2e",
     "showTitle": false,
     "title": ""
    }
   },
   "outputs": [],
   "source": []
  },
  {
   "cell_type": "code",
   "execution_count": 0,
   "metadata": {
    "application/vnd.databricks.v1+cell": {
     "cellMetadata": {},
     "inputWidgets": {},
     "nuid": "5dccbb65-9687-406e-b7c1-ac8e638fdd11",
     "showTitle": false,
     "title": ""
    }
   },
   "outputs": [],
   "source": []
  }
 ],
 "metadata": {
  "application/vnd.databricks.v1+notebook": {
   "dashboards": [],
   "environmentMetadata": null,
   "language": "python",
   "notebookMetadata": {
    "pythonIndentUnit": 4
   },
   "notebookName": "US Healthcare - Claims Analysis",
   "widgets": {}
  }
 },
 "nbformat": 4,
 "nbformat_minor": 0
}
